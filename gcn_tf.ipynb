{
  "cells": [
    {
      "cell_type": "markdown",
      "metadata": {
        "id": "view-in-github",
        "colab_type": "text"
      },
      "source": [
        "<a href=\"https://colab.research.google.com/github/Adarsh-Vemali/Numerical_linear_algebra/blob/main/gcn_tf.ipynb\" target=\"_parent\"><img src=\"https://colab.research.google.com/assets/colab-badge.svg\" alt=\"Open In Colab\"/></a>"
      ]
    },
    {
      "cell_type": "code",
      "source": [
        "!git clone https://github.com/tkipf/gcn/tree/master/gcn/data\n"
      ],
      "metadata": {
        "id": "ZyH_DOaZcPKr",
        "colab": {
          "base_uri": "https://localhost:8080/"
        },
        "outputId": "13b1ab56-94a7-4131-b749-d7bf6360abe7"
      },
      "id": "ZyH_DOaZcPKr",
      "execution_count": 1,
      "outputs": [
        {
          "output_type": "stream",
          "name": "stdout",
          "text": [
            "Cloning into 'data'...\n",
            "fatal: repository 'https://github.com/tkipf/gcn/tree/master/gcn/data/' not found\n"
          ]
        }
      ]
    },
    {
      "cell_type": "code",
      "source": [
        "from google.colab import drive\n",
        "drive.mount('/content/drive')"
      ],
      "metadata": {
        "colab": {
          "base_uri": "https://localhost:8080/"
        },
        "id": "imcmjgOsnZIY",
        "outputId": "2ff57c3a-dc95-4650-92a7-7e38bc23c375"
      },
      "id": "imcmjgOsnZIY",
      "execution_count": 2,
      "outputs": [
        {
          "output_type": "stream",
          "name": "stdout",
          "text": [
            "Mounted at /content/drive\n"
          ]
        }
      ]
    },
    {
      "cell_type": "code",
      "source": [
        "\n",
        "# #**Add python version you wish** to list\n",
        "# !sudo apt-get update -y\n",
        "# !sudo add-apt-repository ppa:deadsnakes/ppa -y\n",
        "# !sudo apt-get update -y\n",
        "# !sudo apt-get install python3.7\n",
        "# !sudo apt install python3.7-distutils\n",
        "# from IPython.display import clear_output\n",
        "# clear_output()\n",
        "# !sudo update-alternatives --install /usr/bin/python3 python3 /usr/bin/python3.7 1\n",
        "\n",
        "# # Choose one of the given alternatives:\n",
        "# !sudo update-alternatives --config python3\n",
        "\n",
        "# # This one used to work but now NOT(for me)!\n",
        "# # !sudo update-alternatives --config python\n",
        "\n",
        "# # Check the result\n",
        "# !python3 --version\n",
        "\n",
        "# # Attention: Install pip (... needed!)\n",
        "# !sudo apt install python3-pip"
      ],
      "metadata": {
        "id": "NXN8vX-2pU0h"
      },
      "id": "NXN8vX-2pU0h",
      "execution_count": 3,
      "outputs": []
    },
    {
      "cell_type": "code",
      "source": [
        "!pip3 install -r /content/drive/MyDrive/gcn/requirements.txt"
      ],
      "metadata": {
        "id": "QhKF4W_BoSDZ",
        "colab": {
          "base_uri": "https://localhost:8080/"
        },
        "outputId": "6d82be5f-186e-4b12-c769-98aef6f3d076"
      },
      "id": "QhKF4W_BoSDZ",
      "execution_count": 4,
      "outputs": [
        {
          "output_type": "stream",
          "name": "stdout",
          "text": [
            "Requirement already satisfied: networkx in /usr/local/lib/python3.10/dist-packages (from -r /content/drive/MyDrive/gcn/requirements.txt (line 1)) (3.2.1)\n",
            "Requirement already satisfied: scipy in /usr/local/lib/python3.10/dist-packages (from -r /content/drive/MyDrive/gcn/requirements.txt (line 2)) (1.11.3)\n",
            "Requirement already satisfied: httplib2 in /usr/local/lib/python3.10/dist-packages (from -r /content/drive/MyDrive/gcn/requirements.txt (line 3)) (0.22.0)\n",
            "Requirement already satisfied: numpy<1.28.0,>=1.21.6 in /usr/local/lib/python3.10/dist-packages (from scipy->-r /content/drive/MyDrive/gcn/requirements.txt (line 2)) (1.23.5)\n",
            "Requirement already satisfied: pyparsing!=3.0.0,!=3.0.1,!=3.0.2,!=3.0.3,<4,>=2.4.2 in /usr/local/lib/python3.10/dist-packages (from httplib2->-r /content/drive/MyDrive/gcn/requirements.txt (line 3)) (3.1.1)\n"
          ]
        }
      ]
    },
    {
      "cell_type": "code",
      "source": [
        "import tensorflow.compat.v1 as tf\n",
        "tf.disable_v2_behavior()\n",
        "import numpy as np\n",
        "import pickle as pkl\n",
        "import networkx as nx\n",
        "import scipy.sparse as sp\n",
        "from scipy.sparse.linalg import eigsh\n",
        "import sys"
      ],
      "metadata": {
        "id": "_lXXdhCQniCR",
        "colab": {
          "base_uri": "https://localhost:8080/"
        },
        "outputId": "314ef249-1e74-4113-be59-424af9fa0acc"
      },
      "id": "_lXXdhCQniCR",
      "execution_count": 5,
      "outputs": [
        {
          "output_type": "stream",
          "name": "stderr",
          "text": [
            "WARNING:tensorflow:From /usr/local/lib/python3.10/dist-packages/tensorflow/python/compat/v2_compat.py:108: disable_resource_variables (from tensorflow.python.ops.variable_scope) is deprecated and will be removed in a future version.\n",
            "Instructions for updating:\n",
            "non-resource variables are not supported in the long term\n"
          ]
        }
      ]
    },
    {
      "cell_type": "code",
      "execution_count": 6,
      "id": "a13cf6f5-06af-417e-9830-47017c0b1061",
      "metadata": {
        "id": "a13cf6f5-06af-417e-9830-47017c0b1061"
      },
      "outputs": [],
      "source": [
        "def uniform(shape, scale=0.05, name=None):\n",
        "    \"\"\"Uniform init.\"\"\"\n",
        "    initial = tf.random_uniform(shape, minval=-scale, maxval=scale, dtype=tf.float32)\n",
        "    return tf.Variable(initial, name=name)\n",
        "\n",
        "\n",
        "def glorot(shape, name=None):\n",
        "    \"\"\"Glorot & Bengio (AISTATS 2010) init.\"\"\"\n",
        "    init_range = np.sqrt(6.0/(shape[0]+shape[1]))\n",
        "    initial = tf.random_uniform(shape, minval=-init_range, maxval=init_range, dtype=tf.float32)\n",
        "    return tf.Variable(initial, name=name)\n",
        "\n",
        "\n",
        "def zeros(shape, name=None):\n",
        "    \"\"\"All zeros.\"\"\"\n",
        "    initial = tf.zeros(shape, dtype=tf.float32)\n",
        "    return tf.Variable(initial, name=name)\n",
        "\n",
        "\n",
        "def ones(shape, name=None):\n",
        "    \"\"\"All ones.\"\"\"\n",
        "    initial = tf.ones(shape, dtype=tf.float32)\n",
        "    return tf.Variable(initial, name=name)"
      ]
    },
    {
      "cell_type": "code",
      "execution_count": 7,
      "id": "773e3b30-a72f-4e39-a937-09da016ad5f2",
      "metadata": {
        "id": "773e3b30-a72f-4e39-a937-09da016ad5f2"
      },
      "outputs": [],
      "source": [
        "def parse_index_file(filename):\n",
        "    \"\"\"Parse index file.\"\"\"\n",
        "    index = []\n",
        "    for line in open(filename):\n",
        "        index.append(int(line.strip()))\n",
        "    return index\n",
        "\n",
        "\n",
        "def sample_mask(idx, l):\n",
        "    \"\"\"Create mask.\"\"\"\n",
        "    mask = np.zeros(l)\n",
        "    mask[idx] = 1\n",
        "    return np.array(mask, dtype=np.bool)\n",
        "\n",
        "\n",
        "def load_data(dataset_str, basedir=''):\n",
        "    \"\"\"\n",
        "    Loads input data from gcn/data directory\n",
        "\n",
        "    ind.dataset_str.x => the feature vectors of the training instances as scipy.sparse.csr.csr_matrix object;\n",
        "    ind.dataset_str.tx => the feature vectors of the test instances as scipy.sparse.csr.csr_matrix object;\n",
        "    ind.dataset_str.allx => the feature vectors of both labeled and unlabeled training instances\n",
        "        (a superset of ind.dataset_str.x) as scipy.sparse.csr.csr_matrix object;\n",
        "    ind.dataset_str.y => the one-hot labels of the labeled training instances as numpy.ndarray object;\n",
        "    ind.dataset_str.ty => the one-hot labels of the test instances as numpy.ndarray object;\n",
        "    ind.dataset_str.ally => the labels for instances in ind.dataset_str.allx as numpy.ndarray object;\n",
        "    ind.dataset_str.graph => a dict in the format {index: [index_of_neighbor_nodes]} as collections.defaultdict\n",
        "        object;\n",
        "    ind.dataset_str.test.index => the indices of test instances in graph, for the inductive setting as list object.\n",
        "\n",
        "    All objects above must be saved using python pickle module.\n",
        "\n",
        "    :param dataset_str: Dataset name\n",
        "    :return: All data input files loaded (as well the training/test data).\n",
        "    \"\"\"\n",
        "    names = ['x', 'y', 'tx', 'ty', 'allx', 'ally', 'graph']\n",
        "    objects = []\n",
        "    for i in range(len(names)):\n",
        "        with open(basedir+\"data/ind.{}.{}\".format(dataset_str, names[i]), 'rb') as f:\n",
        "            if sys.version_info > (3, 0):\n",
        "                objects.append(pkl.load(f, encoding='latin1'))\n",
        "            else:\n",
        "                objects.append(pkl.load(f))\n",
        "\n",
        "    x, y, tx, ty, allx, ally, graph = tuple(objects)\n",
        "    print(\"ou rprint statemetn\", x,y,tx,ty,allx,ally,graph)\n",
        "    test_idx_reorder = parse_index_file(basedir+\"data/ind.{}.test.index\".format(dataset_str))\n",
        "    test_idx_range = np.sort(test_idx_reorder)\n",
        "\n",
        "    features = sp.vstack((allx, tx)).tolil()\n",
        "    features[test_idx_reorder, :] = features[test_idx_range, :]\n",
        "    adj = nx.adjacency_matrix(nx.from_dict_of_lists(graph))\n",
        "\n",
        "    labels = np.vstack((ally, ty))\n",
        "    labels[test_idx_reorder, :] = labels[test_idx_range, :]\n",
        "\n",
        "    idx_test = test_idx_range.tolist()\n",
        "    idx_train = range(len(y))\n",
        "    idx_val = range(len(y), len(y)+500)\n",
        "\n",
        "    train_mask = sample_mask(idx_train, labels.shape[0])\n",
        "    val_mask = sample_mask(idx_val, labels.shape[0])\n",
        "    test_mask = sample_mask(idx_test, labels.shape[0])\n",
        "\n",
        "    y_train = np.zeros(labels.shape)\n",
        "    y_val = np.zeros(labels.shape)\n",
        "    y_test = np.zeros(labels.shape)\n",
        "    y_train[train_mask, :] = labels[train_mask, :]\n",
        "    y_val[val_mask, :] = labels[val_mask, :]\n",
        "    y_test[test_mask, :] = labels[test_mask, :]\n",
        "\n",
        "\n",
        "\n",
        "    return adj, features, y_train, y_val, y_test, train_mask, val_mask, test_mask\n",
        "\n",
        "\n",
        "def sparse_to_tuple(sparse_mx):\n",
        "    \"\"\"Convert sparse matrix to tuple representation.\"\"\"\n",
        "    def to_tuple(mx):\n",
        "        if not sp.isspmatrix_coo(mx):\n",
        "            mx = mx.tocoo()\n",
        "        coords = np.vstack((mx.row, mx.col)).transpose()\n",
        "        values = mx.data\n",
        "        shape = mx.shape\n",
        "        return coords, values, shape\n",
        "\n",
        "    if isinstance(sparse_mx, list):\n",
        "        for i in range(len(sparse_mx)):\n",
        "            sparse_mx[i] = to_tuple(sparse_mx[i])\n",
        "    else:\n",
        "        sparse_mx = to_tuple(sparse_mx)\n",
        "\n",
        "    return sparse_mx\n",
        "\n",
        "\n",
        "def preprocess_features(features):\n",
        "    \"\"\"Row-normalize feature matrix and convert to tuple representation\"\"\"\n",
        "    rowsum = np.array(features.sum(1))\n",
        "    r_inv = np.power(rowsum, -1).flatten()\n",
        "    r_inv[np.isinf(r_inv)] = 0.\n",
        "    r_mat_inv = sp.diags(r_inv)\n",
        "    features = r_mat_inv.dot(features)\n",
        "    return sparse_to_tuple(features)\n",
        "\n",
        "\n",
        "def normalize_adj(adj):\n",
        "    \"\"\"Symmetrically normalize adjacency matrix.\"\"\"\n",
        "    adj = sp.coo_matrix(adj)\n",
        "    rowsum = np.array(adj.sum(1))\n",
        "    d_inv_sqrt = np.power(rowsum, -0.5).flatten()\n",
        "    d_inv_sqrt[np.isinf(d_inv_sqrt)] = 0.\n",
        "    d_mat_inv_sqrt = sp.diags(d_inv_sqrt)\n",
        "    return adj.dot(d_mat_inv_sqrt).transpose().dot(d_mat_inv_sqrt).tocoo()\n",
        "\n",
        "\n",
        "def preprocess_adj(adj):\n",
        "    \"\"\"Preprocessing of adjacency matrix for simple GCN model and conversion to tuple representation.\"\"\"\n",
        "    adj_normalized = normalize_adj(adj + sp.eye(adj.shape[0]))\n",
        "    return sparse_to_tuple(adj_normalized)\n",
        "\n",
        "\n",
        "def construct_feed_dict(features, support, labels, labels_mask, placeholders):\n",
        "    \"\"\"Construct feed dictionary.\"\"\"\n",
        "    feed_dict = dict()\n",
        "    feed_dict.update({placeholders['labels']: labels})\n",
        "    feed_dict.update({placeholders['labels_mask']: labels_mask})\n",
        "    feed_dict.update({placeholders['features']: features})\n",
        "    feed_dict.update({placeholders['support'][i]: support[i] for i in range(len(support))})\n",
        "    feed_dict.update({placeholders['num_features_nonzero']: features[1].shape})\n",
        "    return feed_dict\n",
        "\n",
        "\n",
        "def chebyshev_polynomials(adj, k):\n",
        "    \"\"\"Calculate Chebyshev polynomials up to order k. Return a list of sparse matrices (tuple representation).\"\"\"\n",
        "    print(\"Calculating Chebyshev polynomials up to order {}...\".format(k))\n",
        "\n",
        "    adj_normalized = normalize_adj(adj)\n",
        "    laplacian = sp.eye(adj.shape[0]) - adj_normalized\n",
        "    largest_eigval, _ = eigsh(laplacian, 1, which='LM')\n",
        "    scaled_laplacian = (2. / largest_eigval[0]) * laplacian - sp.eye(adj.shape[0])\n",
        "\n",
        "    t_k = list()\n",
        "    t_k.append(sp.eye(adj.shape[0]))\n",
        "    t_k.append(scaled_laplacian)\n",
        "\n",
        "    def chebyshev_recurrence(t_k_minus_one, t_k_minus_two, scaled_lap):\n",
        "        s_lap = sp.csr_matrix(scaled_lap, copy=True)\n",
        "        return 2 * s_lap.dot(t_k_minus_one) - t_k_minus_two\n",
        "\n",
        "    for i in range(2, k+1):\n",
        "        t_k.append(chebyshev_recurrence(t_k[-1], t_k[-2], scaled_laplacian))\n",
        "\n",
        "    return sparse_to_tuple(t_k)"
      ]
    },
    {
      "cell_type": "code",
      "execution_count": 8,
      "id": "c70d7b65-199e-496e-b62c-c641c67a2f7e",
      "metadata": {
        "id": "c70d7b65-199e-496e-b62c-c641c67a2f7e"
      },
      "outputs": [],
      "source": [
        "\n",
        "import tensorflow.compat.v1 as tf\n",
        "tf.disable_v2_behavior()\n",
        "# global unique layer ID dictionary for layer name assignment\n",
        "_LAYER_UIDS = {}\n",
        "\n",
        "\n",
        "def get_layer_uid(layer_name=''):\n",
        "    \"\"\"Helper function, assigns unique layer IDs.\"\"\"\n",
        "    if layer_name not in _LAYER_UIDS:\n",
        "        _LAYER_UIDS[layer_name] = 1\n",
        "        return 1\n",
        "    else:\n",
        "        _LAYER_UIDS[layer_name] += 1\n",
        "        return _LAYER_UIDS[layer_name]\n",
        "\n",
        "\n",
        "def sparse_dropout(x, keep_prob, noise_shape):\n",
        "    \"\"\"Dropout for sparse tensors.\"\"\"\n",
        "    random_tensor = keep_prob\n",
        "    random_tensor += tf.random_uniform(noise_shape)\n",
        "    dropout_mask = tf.cast(tf.floor(random_tensor), dtype=tf.bool)\n",
        "    pre_out = tf.sparse_retain(x, dropout_mask)\n",
        "    return pre_out * (1./keep_prob)\n",
        "\n",
        "\n",
        "def dot(x, y, sparse=False):\n",
        "    \"\"\"Wrapper for tf.matmul (sparse vs dense).\"\"\"\n",
        "    if sparse:\n",
        "        res = tf.sparse_tensor_dense_matmul(x, y)\n",
        "    else:\n",
        "        res = tf.matmul(x, y)\n",
        "    return res\n",
        "\n",
        "\n",
        "class Layer(object):\n",
        "    \"\"\"Base layer class. Defines basic API for all layer objects.\n",
        "    Implementation inspired by keras (http://keras.io).\n",
        "\n",
        "    # Properties\n",
        "        name: String, defines the variable scope of the layer.\n",
        "        logging: Boolean, switches Tensorflow histogram logging on/off\n",
        "\n",
        "    # Methods\n",
        "        _call(inputs): Defines computation graph of layer\n",
        "            (i.e. takes input, returns output)\n",
        "        __call__(inputs): Wrapper for _call()\n",
        "        _log_vars(): Log all variables\n",
        "    \"\"\"\n",
        "\n",
        "    def __init__(self, **kwargs):\n",
        "        allowed_kwargs = {'name', 'logging'}\n",
        "        for kwarg in kwargs.keys():\n",
        "            assert kwarg in allowed_kwargs, 'Invalid keyword argument: ' + kwarg\n",
        "        name = kwargs.get('name')\n",
        "        if not name:\n",
        "            layer = self.__class__.__name__.lower()\n",
        "            name = layer + '_' + str(get_layer_uid(layer))\n",
        "        self.name = name\n",
        "        self.vars = {}\n",
        "        logging = kwargs.get('logging', False)\n",
        "        self.logging = logging\n",
        "        self.sparse_inputs = False\n",
        "\n",
        "    def _call(self, inputs):\n",
        "        return inputs\n",
        "\n",
        "    def __call__(self, inputs):\n",
        "        with tf.name_scope(self.name):\n",
        "            if self.logging and not self.sparse_inputs:\n",
        "                tf.summary.histogram(self.name + '/inputs', inputs)\n",
        "            outputs = self._call(inputs)\n",
        "            if self.logging:\n",
        "                tf.summary.histogram(self.name + '/outputs', outputs)\n",
        "            return outputs\n",
        "\n",
        "    def _log_vars(self):\n",
        "        for var in self.vars:\n",
        "            tf.summary.histogram(self.name + '/vars/' + var, self.vars[var])\n",
        "\n",
        "\n",
        "class Dense(Layer):\n",
        "    \"\"\"Dense layer.\"\"\"\n",
        "    def __init__(self, input_dim, output_dim, placeholders, dropout=0., sparse_inputs=False,\n",
        "                 act=tf.nn.relu, bias=False, featureless=False, **kwargs):\n",
        "        super(Dense, self).__init__(**kwargs)\n",
        "\n",
        "        if dropout:\n",
        "            self.dropout = placeholders['dropout']\n",
        "        else:\n",
        "            self.dropout = 0.\n",
        "\n",
        "        self.act = act\n",
        "        self.sparse_inputs = sparse_inputs\n",
        "        self.featureless = featureless\n",
        "        self.bias = bias\n",
        "\n",
        "        # helper variable for sparse dropout\n",
        "        self.num_features_nonzero = placeholders['num_features_nonzero']\n",
        "\n",
        "        with tf.variable_scope(self.name + '_vars'):\n",
        "            self.vars['weights'] = glorot([input_dim, output_dim],\n",
        "                                          name='weights')\n",
        "            if self.bias:\n",
        "                self.vars['bias'] = zeros([output_dim], name='bias')\n",
        "\n",
        "        if self.logging:\n",
        "            self._log_vars()\n",
        "\n",
        "    def _call(self, inputs):\n",
        "        x = inputs\n",
        "\n",
        "        # dropout\n",
        "        if self.sparse_inputs:\n",
        "            x = sparse_dropout(x, 1-self.dropout, self.num_features_nonzero)\n",
        "        else:\n",
        "            x = tf.nn.dropout(x, 1-self.dropout)\n",
        "\n",
        "        # transform\n",
        "        output = dot(x, self.vars['weights'], sparse=self.sparse_inputs)\n",
        "\n",
        "        # bias\n",
        "        if self.bias:\n",
        "            output += self.vars['bias']\n",
        "\n",
        "        return self.act(output)\n",
        "\n",
        "\n",
        "class GraphConvolution(Layer):\n",
        "    \"\"\"Graph convolution layer.\"\"\"\n",
        "    def __init__(self, input_dim, output_dim, placeholders, dropout=0.,\n",
        "                 sparse_inputs=False, act=tf.nn.relu, bias=False,\n",
        "                 featureless=False, **kwargs):\n",
        "        super(GraphConvolution, self).__init__(**kwargs)\n",
        "\n",
        "        if dropout:\n",
        "            self.dropout = placeholders['dropout']\n",
        "        else:\n",
        "            self.dropout = 0.\n",
        "\n",
        "        self.act = act\n",
        "        self.support = placeholders['support']\n",
        "        self.sparse_inputs = sparse_inputs\n",
        "        self.featureless = featureless\n",
        "        self.bias = bias\n",
        "\n",
        "        # helper variable for sparse dropout\n",
        "        self.num_features_nonzero = placeholders['num_features_nonzero']\n",
        "\n",
        "        with tf.variable_scope(self.name + '_vars'):\n",
        "            for i in range(len(self.support)):\n",
        "                self.vars['weights_' + str(i)] = glorot([input_dim, output_dim],\n",
        "                                                        name='weights_' + str(i))\n",
        "            if self.bias:\n",
        "                self.vars['bias'] = zeros([output_dim], name='bias')\n",
        "\n",
        "        if self.logging:\n",
        "            self._log_vars()\n",
        "\n",
        "    def _call(self, inputs):\n",
        "        x = inputs\n",
        "\n",
        "        # dropout\n",
        "        if self.sparse_inputs:\n",
        "            x = sparse_dropout(x, 1-self.dropout, self.num_features_nonzero)\n",
        "        else:\n",
        "            x = tf.nn.dropout(x, 1-self.dropout)\n",
        "\n",
        "        # convolve\n",
        "        supports = list()\n",
        "        for i in range(len(self.support)):\n",
        "            if not self.featureless:\n",
        "                pre_sup = dot(x, self.vars['weights_' + str(i)],\n",
        "                              sparse=self.sparse_inputs)\n",
        "            else:\n",
        "                pre_sup = self.vars['weights_' + str(i)]\n",
        "            support = dot(self.support[i], pre_sup, sparse=True)\n",
        "            supports.append(support)\n",
        "        output = tf.add_n(supports)\n",
        "\n",
        "        # bias\n",
        "        if self.bias:\n",
        "            output += self.vars['bias']\n",
        "\n",
        "        return self.act(output)"
      ]
    },
    {
      "cell_type": "code",
      "execution_count": 9,
      "id": "cd6b6ee5-d806-4a8f-90c3-0209293bcbf7",
      "metadata": {
        "id": "cd6b6ee5-d806-4a8f-90c3-0209293bcbf7"
      },
      "outputs": [],
      "source": [
        "def masked_softmax_cross_entropy(preds, labels, mask):\n",
        "    \"\"\"Softmax cross-entropy loss with masking.\"\"\"\n",
        "    loss = tf.nn.softmax_cross_entropy_with_logits(logits=preds, labels=labels)\n",
        "    mask = tf.cast(mask, dtype=tf.float32)\n",
        "    mask /= tf.reduce_mean(mask)\n",
        "    loss *= mask\n",
        "    return tf.reduce_mean(loss)\n",
        "\n",
        "\n",
        "def masked_accuracy(preds, labels, mask):\n",
        "    \"\"\"Accuracy with masking.\"\"\"\n",
        "    correct_prediction = tf.equal(tf.argmax(preds, 1), tf.argmax(labels, 1))\n",
        "    accuracy_all = tf.cast(correct_prediction, tf.float32)\n",
        "    mask = tf.cast(mask, dtype=tf.float32)\n",
        "    mask /= tf.reduce_mean(mask)\n",
        "    accuracy_all *= mask\n",
        "    return tf.reduce_mean(accuracy_all)"
      ]
    },
    {
      "cell_type": "code",
      "execution_count": 10,
      "id": "216f18c2-b890-4545-9aba-8293ca5159d5",
      "metadata": {
        "id": "216f18c2-b890-4545-9aba-8293ca5159d5"
      },
      "outputs": [],
      "source": [
        "class Model(object):\n",
        "    def __init__(self, **kwargs):\n",
        "        allowed_kwargs = {'name', 'logging'}\n",
        "        for kwarg in kwargs.keys():\n",
        "            assert kwarg in allowed_kwargs, 'Invalid keyword argument: ' + kwarg\n",
        "        name = kwargs.get('name')\n",
        "        if not name:\n",
        "            name = self.__class__.__name__.lower()\n",
        "        self.name = name\n",
        "\n",
        "        logging = kwargs.get('logging', False)\n",
        "        self.logging = logging\n",
        "\n",
        "        self.vars = {}\n",
        "        self.placeholders = {}\n",
        "\n",
        "        self.layers = []\n",
        "        self.activations = []\n",
        "\n",
        "        self.inputs = None\n",
        "        self.outputs = None\n",
        "\n",
        "        self.loss = 0\n",
        "        self.accuracy = 0\n",
        "        self.optimizer = None\n",
        "        self.opt_op = None\n",
        "\n",
        "    def _build(self):\n",
        "        raise NotImplementedError\n",
        "\n",
        "    def build(self):\n",
        "        \"\"\" Wrapper for _build() \"\"\"\n",
        "        with tf.variable_scope(self.name):\n",
        "            self._build()\n",
        "\n",
        "        # Build sequential layer model\n",
        "        self.activations.append(self.inputs)\n",
        "        for layer in self.layers:\n",
        "            hidden = layer(self.activations[-1])\n",
        "            self.activations.append(hidden)\n",
        "        self.outputs = self.activations[-1]\n",
        "\n",
        "        # Store model variables for easy access\n",
        "        variables = tf.get_collection(tf.GraphKeys.GLOBAL_VARIABLES, scope=self.name)\n",
        "        self.vars = {var.name: var for var in variables}\n",
        "\n",
        "        # Build metrics\n",
        "        self._loss()\n",
        "        self._accuracy()\n",
        "\n",
        "        self.opt_op = self.optimizer.minimize(self.loss)\n",
        "\n",
        "    def predict(self):\n",
        "        pass\n",
        "\n",
        "    def _loss(self):\n",
        "        raise NotImplementedError\n",
        "\n",
        "    def _accuracy(self):\n",
        "        raise NotImplementedError\n",
        "\n",
        "    def save(self, sess=None, basedirpath=''):\n",
        "        if not sess:\n",
        "            raise AttributeError(\"TensorFlow session not provided.\")\n",
        "        saver = tf.train.Saver(self.vars)\n",
        "        save_path = saver.save(sess, basedirpath+\"tmp/%s.ckpt\" % self.name)\n",
        "        print(\"Model saved in file: %s\" % save_path)\n",
        "\n",
        "    def load(self, sess=None, basedirpath=''):\n",
        "        if not sess:\n",
        "            raise AttributeError(\"TensorFlow session not provided.\")\n",
        "        saver = tf.train.Saver(self.vars)\n",
        "        save_path = basedirpath+\"tmp/%s.ckpt\" % self.name\n",
        "        saver.restore(sess, save_path)\n",
        "        print(\"Model restored from file: %s\" % save_path)\n",
        "\n",
        "\n",
        "class GCN(Model):\n",
        "    def __init__(self, placeholders, input_dim, weight_decay, hidden1, learning_rate, **kwargs):\n",
        "        super(GCN, self).__init__(**kwargs)\n",
        "\n",
        "        self.inputs = placeholders['features']\n",
        "        self.input_dim = input_dim\n",
        "        # self.input_dim = self.inputs.get_shape().as_list()[1]  # To be supported in future Tensorflow versions\n",
        "        self.output_dim = placeholders['labels'].get_shape().as_list()[1]\n",
        "        self.placeholders = placeholders\n",
        "        self.weightdecay = weight_decay\n",
        "        self.hidden1 = hidden1\n",
        "\n",
        "        self.optimizer = tf.train.AdamOptimizer(learning_rate = learning_rate)\n",
        "\n",
        "        self.build()\n",
        "\n",
        "    def _loss(self):\n",
        "        # Weight decay loss\n",
        "        for var in self.layers[0].vars.values():\n",
        "            self.loss += self.weightdecay * tf.nn.l2_loss(var)\n",
        "\n",
        "        # Cross entropy error\n",
        "        self.loss += masked_softmax_cross_entropy(self.outputs, self.placeholders['labels'],\n",
        "                                                  self.placeholders['labels_mask'])\n",
        "\n",
        "    def _accuracy(self):\n",
        "        self.accuracy = masked_accuracy(self.outputs, self.placeholders['labels'],\n",
        "                                        self.placeholders['labels_mask'])\n",
        "\n",
        "    def _build(self):\n",
        "\n",
        "        self.layers.append(GraphConvolution(input_dim=self.input_dim,\n",
        "                                            output_dim=self.hidden1,\n",
        "                                            placeholders=self.placeholders,\n",
        "                                            act=tf.nn.relu,\n",
        "                                            dropout=True,\n",
        "                                            sparse_inputs=True,\n",
        "                                            logging=self.logging))\n",
        "\n",
        "        self.layers.append(GraphConvolution(input_dim=self.hidden1,\n",
        "                                            output_dim=self.output_dim,\n",
        "                                            placeholders=self.placeholders,\n",
        "                                            act=lambda x: x,\n",
        "                                            dropout=True,\n",
        "                                            logging=self.logging))\n",
        "\n",
        "    def predict(self):\n",
        "        return tf.nn.softmax(self.outputs)"
      ]
    },
    {
      "cell_type": "code",
      "execution_count": 11,
      "id": "5040a6a6-9dbc-4bdf-8368-997178609d17",
      "metadata": {
        "id": "5040a6a6-9dbc-4bdf-8368-997178609d17"
      },
      "outputs": [],
      "source": [
        "from __future__ import division\n",
        "from __future__ import print_function\n",
        "\n",
        "import time\n",
        "import tensorflow.compat.v1 as tf\n",
        "tf.disable_v2_behavior()\n",
        "import sys"
      ]
    },
    {
      "cell_type": "code",
      "source": [
        "sys.argv = sys.argv[:1]\n",
        "sys.argv"
      ],
      "metadata": {
        "colab": {
          "base_uri": "https://localhost:8080/"
        },
        "id": "jMvu8Ryy4aDH",
        "outputId": "fa498406-9d13-4061-d59d-cc8289fcc9e5"
      },
      "id": "jMvu8Ryy4aDH",
      "execution_count": 12,
      "outputs": [
        {
          "output_type": "execute_result",
          "data": {
            "text/plain": [
              "['/usr/local/lib/python3.10/dist-packages/colab_kernel_launcher.py']"
            ]
          },
          "metadata": {},
          "execution_count": 12
        }
      ]
    },
    {
      "cell_type": "code",
      "execution_count": 13,
      "id": "a0c74a82-2d77-40d1-8b09-87f61488754a",
      "metadata": {
        "id": "a0c74a82-2d77-40d1-8b09-87f61488754a"
      },
      "outputs": [],
      "source": [
        "# Set random seed\n",
        "seed = 123\n",
        "np.random.seed(seed)\n",
        "tf.set_random_seed(seed)\n",
        "sys.argv = sys.argv[:1]\n",
        "\n",
        "# Settings\n",
        "FLAGS = {}\n",
        "FLAGS['dataset'] = 'cora'\n",
        "FLAGS['model'] = 'gcn'\n",
        "FLAGS['learning_rate'] = 0.01\n",
        "FLAGS['epochs'] = 200\n",
        "FLAGS['hidden1'] = 16\n",
        "FLAGS['dropout'] = 0.5\n",
        "FLAGS['weight_decay'] = 5e-4\n",
        "FLAGS['early_stopping'] = 10\n",
        "FLAGS['max_degree'] = 3\n"
      ]
    },
    {
      "cell_type": "code",
      "source": [
        "# Load data\n",
        "adj, features, y_test, y_val, y_train, test_mask, val_mask, train_mask = load_data(FLAGS['dataset'], '/content/drive/MyDrive/gcn/')\n"
      ],
      "metadata": {
        "colab": {
          "base_uri": "https://localhost:8080/"
        },
        "id": "8rNTgRQa46HF",
        "outputId": "81d51e39-75ac-40f3-b131-bb8bdf3f4b82"
      },
      "id": "8rNTgRQa46HF",
      "execution_count": 14,
      "outputs": [
        {
          "output_type": "stream",
          "name": "stderr",
          "text": [
            "<ipython-input-7-89d9b73b9fb2>:41: DeprecationWarning: Please use `csr_matrix` from the `scipy.sparse` namespace, the `scipy.sparse.csr` namespace is deprecated.\n",
            "  objects.append(pkl.load(f, encoding='latin1'))\n"
          ]
        },
        {
          "output_type": "stream",
          "name": "stdout",
          "text": [
            "ou rprint statemetn   (0, 19)\t1.0\n",
            "  (0, 81)\t1.0\n",
            "  (0, 146)\t1.0\n",
            "  (0, 315)\t1.0\n",
            "  (0, 774)\t1.0\n",
            "  (0, 877)\t1.0\n",
            "  (0, 1194)\t1.0\n",
            "  (0, 1247)\t1.0\n",
            "  (0, 1274)\t1.0\n",
            "  (1, 19)\t1.0\n",
            "  (1, 88)\t1.0\n",
            "  (1, 149)\t1.0\n",
            "  (1, 212)\t1.0\n",
            "  (1, 233)\t1.0\n",
            "  (1, 332)\t1.0\n",
            "  (1, 336)\t1.0\n",
            "  (1, 359)\t1.0\n",
            "  (1, 472)\t1.0\n",
            "  (1, 507)\t1.0\n",
            "  (1, 548)\t1.0\n",
            "  (1, 687)\t1.0\n",
            "  (1, 763)\t1.0\n",
            "  (1, 808)\t1.0\n",
            "  (1, 889)\t1.0\n",
            "  (1, 1058)\t1.0\n",
            "  :\t:\n",
            "  (138, 1263)\t1.0\n",
            "  (138, 1274)\t1.0\n",
            "  (138, 1290)\t1.0\n",
            "  (138, 1307)\t1.0\n",
            "  (138, 1406)\t1.0\n",
            "  (139, 1)\t1.0\n",
            "  (139, 41)\t1.0\n",
            "  (139, 187)\t1.0\n",
            "  (139, 212)\t1.0\n",
            "  (139, 357)\t1.0\n",
            "  (139, 404)\t1.0\n",
            "  (139, 464)\t1.0\n",
            "  (139, 505)\t1.0\n",
            "  (139, 507)\t1.0\n",
            "  (139, 581)\t1.0\n",
            "  (139, 635)\t1.0\n",
            "  (139, 874)\t1.0\n",
            "  (139, 988)\t1.0\n",
            "  (139, 1071)\t1.0\n",
            "  (139, 1230)\t1.0\n",
            "  (139, 1231)\t1.0\n",
            "  (139, 1258)\t1.0\n",
            "  (139, 1263)\t1.0\n",
            "  (139, 1274)\t1.0\n",
            "  (139, 1393)\t1.0 [[0 0 0 1 0 0 0]\n",
            " [0 0 0 0 1 0 0]\n",
            " [0 0 0 0 1 0 0]\n",
            " [1 0 0 0 0 0 0]\n",
            " [0 0 0 1 0 0 0]\n",
            " [0 0 1 0 0 0 0]\n",
            " [1 0 0 0 0 0 0]\n",
            " [0 0 0 1 0 0 0]\n",
            " [0 0 0 1 0 0 0]\n",
            " [0 0 1 0 0 0 0]\n",
            " [1 0 0 0 0 0 0]\n",
            " [1 0 0 0 0 0 0]\n",
            " [0 0 0 0 1 0 0]\n",
            " [0 0 0 1 0 0 0]\n",
            " [0 0 0 1 0 0 0]\n",
            " [0 0 0 1 0 0 0]\n",
            " [0 0 1 0 0 0 0]\n",
            " [0 0 0 1 0 0 0]\n",
            " [0 1 0 0 0 0 0]\n",
            " [0 0 0 1 0 0 0]\n",
            " [0 0 0 0 0 1 0]\n",
            " [0 0 0 1 0 0 0]\n",
            " [0 0 0 0 1 0 0]\n",
            " [0 0 0 0 0 0 1]\n",
            " [0 0 0 1 0 0 0]\n",
            " [0 0 0 1 0 0 0]\n",
            " [0 0 0 0 0 0 1]\n",
            " [0 0 0 1 0 0 0]\n",
            " [0 0 1 0 0 0 0]\n",
            " [0 0 0 0 1 0 0]\n",
            " [0 0 0 1 0 0 0]\n",
            " [0 0 0 0 0 0 1]\n",
            " [1 0 0 0 0 0 0]\n",
            " [0 0 0 0 1 0 0]\n",
            " [0 0 1 0 0 0 0]\n",
            " [1 0 0 0 0 0 0]\n",
            " [0 1 0 0 0 0 0]\n",
            " [0 0 0 0 0 1 0]\n",
            " [0 0 0 0 1 0 0]\n",
            " [0 0 0 0 1 0 0]\n",
            " [0 0 0 1 0 0 0]\n",
            " [0 0 0 0 0 0 1]\n",
            " [0 0 0 0 0 0 1]\n",
            " [0 0 0 0 1 0 0]\n",
            " [0 0 0 1 0 0 0]\n",
            " [0 0 0 1 0 0 0]\n",
            " [0 0 1 0 0 0 0]\n",
            " [0 0 0 0 0 1 0]\n",
            " [0 0 0 1 0 0 0]\n",
            " [0 0 0 0 1 0 0]\n",
            " [0 0 0 0 0 1 0]\n",
            " [0 0 0 1 0 0 0]\n",
            " [1 0 0 0 0 0 0]\n",
            " [0 0 1 0 0 0 0]\n",
            " [0 1 0 0 0 0 0]\n",
            " [0 0 0 0 1 0 0]\n",
            " [0 0 0 0 0 0 1]\n",
            " [0 0 0 1 0 0 0]\n",
            " [0 0 1 0 0 0 0]\n",
            " [0 0 1 0 0 0 0]\n",
            " [1 0 0 0 0 0 0]\n",
            " [1 0 0 0 0 0 0]\n",
            " [1 0 0 0 0 0 0]\n",
            " [0 0 0 0 1 0 0]\n",
            " [0 0 1 0 0 0 0]\n",
            " [1 0 0 0 0 0 0]\n",
            " [0 0 0 0 1 0 0]\n",
            " [0 0 0 0 0 1 0]\n",
            " [0 0 1 0 0 0 0]\n",
            " [0 0 0 0 0 0 1]\n",
            " [0 0 0 0 0 1 0]\n",
            " [0 0 1 0 0 0 0]\n",
            " [0 0 1 0 0 0 0]\n",
            " [0 0 1 0 0 0 0]\n",
            " [1 0 0 0 0 0 0]\n",
            " [0 0 0 0 1 0 0]\n",
            " [0 0 0 0 0 1 0]\n",
            " [0 0 0 0 0 0 1]\n",
            " [0 0 0 0 1 0 0]\n",
            " [1 0 0 0 0 0 0]\n",
            " [1 0 0 0 0 0 0]\n",
            " [1 0 0 0 0 0 0]\n",
            " [0 0 0 0 1 0 0]\n",
            " [0 0 1 0 0 0 0]\n",
            " [0 0 0 0 1 0 0]\n",
            " [0 1 0 0 0 0 0]\n",
            " [0 0 0 0 1 0 0]\n",
            " [0 0 0 0 0 0 1]\n",
            " [1 0 0 0 0 0 0]\n",
            " [0 0 0 0 1 0 0]\n",
            " [0 0 1 0 0 0 0]\n",
            " [0 0 0 0 1 0 0]\n",
            " [0 0 0 0 0 0 1]\n",
            " [0 0 0 0 0 0 1]\n",
            " [1 0 0 0 0 0 0]\n",
            " [1 0 0 0 0 0 0]\n",
            " [0 0 0 0 0 0 1]\n",
            " [0 0 0 0 0 1 0]\n",
            " [1 0 0 0 0 0 0]\n",
            " [0 0 0 0 0 0 1]\n",
            " [1 0 0 0 0 0 0]\n",
            " [0 0 1 0 0 0 0]\n",
            " [0 1 0 0 0 0 0]\n",
            " [0 1 0 0 0 0 0]\n",
            " [0 1 0 0 0 0 0]\n",
            " [0 0 1 0 0 0 0]\n",
            " [0 0 0 0 0 0 1]\n",
            " [0 0 0 0 0 1 0]\n",
            " [0 0 0 0 0 0 1]\n",
            " [0 1 0 0 0 0 0]\n",
            " [0 0 1 0 0 0 0]\n",
            " [0 0 1 0 0 0 0]\n",
            " [0 1 0 0 0 0 0]\n",
            " [0 0 0 0 0 1 0]\n",
            " [0 0 0 0 0 1 0]\n",
            " [0 0 0 0 0 1 0]\n",
            " [0 0 0 0 0 0 1]\n",
            " [0 0 0 0 0 1 0]\n",
            " [0 0 0 0 0 0 1]\n",
            " [0 0 0 0 0 1 0]\n",
            " [0 0 0 0 0 1 0]\n",
            " [0 1 0 0 0 0 0]\n",
            " [0 0 0 0 0 0 1]\n",
            " [0 0 0 0 0 0 1]\n",
            " [0 1 0 0 0 0 0]\n",
            " [0 0 0 0 0 1 0]\n",
            " [0 1 0 0 0 0 0]\n",
            " [0 0 0 0 0 0 1]\n",
            " [0 0 0 0 0 1 0]\n",
            " [0 0 0 0 0 1 0]\n",
            " [0 0 0 0 0 1 0]\n",
            " [0 1 0 0 0 0 0]\n",
            " [0 0 0 0 0 1 0]\n",
            " [0 1 0 0 0 0 0]\n",
            " [0 1 0 0 0 0 0]\n",
            " [0 1 0 0 0 0 0]\n",
            " [0 1 0 0 0 0 0]\n",
            " [0 1 0 0 0 0 0]\n",
            " [0 1 0 0 0 0 0]\n",
            " [0 1 0 0 0 0 0]]   (0, 311)\t1.0\n",
            "  (0, 314)\t1.0\n",
            "  (0, 353)\t1.0\n",
            "  (0, 505)\t1.0\n",
            "  (0, 510)\t1.0\n",
            "  (0, 621)\t1.0\n",
            "  (0, 1075)\t1.0\n",
            "  (0, 1132)\t1.0\n",
            "  (0, 1171)\t1.0\n",
            "  (0, 1226)\t1.0\n",
            "  (0, 1230)\t1.0\n",
            "  (0, 1301)\t1.0\n",
            "  (0, 1379)\t1.0\n",
            "  (0, 1389)\t1.0\n",
            "  (0, 1392)\t1.0\n",
            "  (1, 78)\t1.0\n",
            "  (1, 121)\t1.0\n",
            "  (1, 228)\t1.0\n",
            "  (1, 505)\t1.0\n",
            "  (1, 510)\t1.0\n",
            "  (1, 617)\t1.0\n",
            "  (1, 662)\t1.0\n",
            "  (1, 931)\t1.0\n",
            "  (1, 988)\t1.0\n",
            "  (1, 993)\t1.0\n",
            "  :\t:\n",
            "  (998, 1240)\t1.0\n",
            "  (998, 1258)\t1.0\n",
            "  (998, 1263)\t1.0\n",
            "  (998, 1306)\t1.0\n",
            "  (998, 1314)\t1.0\n",
            "  (999, 30)\t1.0\n",
            "  (999, 65)\t1.0\n",
            "  (999, 432)\t1.0\n",
            "  (999, 548)\t1.0\n",
            "  (999, 570)\t1.0\n",
            "  (999, 610)\t1.0\n",
            "  (999, 690)\t1.0\n",
            "  (999, 720)\t1.0\n",
            "  (999, 724)\t1.0\n",
            "  (999, 749)\t1.0\n",
            "  (999, 763)\t1.0\n",
            "  (999, 993)\t1.0\n",
            "  (999, 1058)\t1.0\n",
            "  (999, 1143)\t1.0\n",
            "  (999, 1150)\t1.0\n",
            "  (999, 1170)\t1.0\n",
            "  (999, 1177)\t1.0\n",
            "  (999, 1205)\t1.0\n",
            "  (999, 1274)\t1.0\n",
            "  (999, 1392)\t1.0 [[0 0 0 ... 0 0 0]\n",
            " [0 1 0 ... 0 0 0]\n",
            " [0 0 0 ... 0 0 1]\n",
            " ...\n",
            " [0 1 0 ... 0 0 0]\n",
            " [0 0 1 ... 0 0 0]\n",
            " [0 0 0 ... 0 0 1]]   (0, 19)\t1.0\n",
            "  (0, 81)\t1.0\n",
            "  (0, 146)\t1.0\n",
            "  (0, 315)\t1.0\n",
            "  (0, 774)\t1.0\n",
            "  (0, 877)\t1.0\n",
            "  (0, 1194)\t1.0\n",
            "  (0, 1247)\t1.0\n",
            "  (0, 1274)\t1.0\n",
            "  (1, 19)\t1.0\n",
            "  (1, 88)\t1.0\n",
            "  (1, 149)\t1.0\n",
            "  (1, 212)\t1.0\n",
            "  (1, 233)\t1.0\n",
            "  (1, 332)\t1.0\n",
            "  (1, 336)\t1.0\n",
            "  (1, 359)\t1.0\n",
            "  (1, 472)\t1.0\n",
            "  (1, 507)\t1.0\n",
            "  (1, 548)\t1.0\n",
            "  (1, 687)\t1.0\n",
            "  (1, 763)\t1.0\n",
            "  (1, 808)\t1.0\n",
            "  (1, 889)\t1.0\n",
            "  (1, 1058)\t1.0\n",
            "  :\t:\n",
            "  (1706, 1236)\t1.0\n",
            "  (1706, 1242)\t1.0\n",
            "  (1706, 1320)\t1.0\n",
            "  (1706, 1337)\t1.0\n",
            "  (1707, 4)\t1.0\n",
            "  (1707, 118)\t1.0\n",
            "  (1707, 153)\t1.0\n",
            "  (1707, 180)\t1.0\n",
            "  (1707, 228)\t1.0\n",
            "  (1707, 699)\t1.0\n",
            "  (1707, 701)\t1.0\n",
            "  (1707, 719)\t1.0\n",
            "  (1707, 750)\t1.0\n",
            "  (1707, 758)\t1.0\n",
            "  (1707, 810)\t1.0\n",
            "  (1707, 911)\t1.0\n",
            "  (1707, 1177)\t1.0\n",
            "  (1707, 1233)\t1.0\n",
            "  (1707, 1251)\t1.0\n",
            "  (1707, 1257)\t1.0\n",
            "  (1707, 1262)\t1.0\n",
            "  (1707, 1299)\t1.0\n",
            "  (1707, 1325)\t1.0\n",
            "  (1707, 1386)\t1.0\n",
            "  (1707, 1397)\t1.0 [[0 0 0 ... 0 0 0]\n",
            " [0 0 0 ... 1 0 0]\n",
            " [0 0 0 ... 1 0 0]\n",
            " ...\n",
            " [0 1 0 ... 0 0 0]\n",
            " [0 0 1 ... 0 0 0]\n",
            " [0 0 0 ... 0 1 0]] defaultdict(<class 'list'>, {0: [633, 1862, 2582], 1: [2, 652, 654], 2: [1986, 332, 1666, 1, 1454], 3: [2544], 4: [2176, 1016, 2176, 1761, 1256, 2175], 5: [1629, 2546, 1659, 1659], 6: [1416, 1602, 1042, 373], 7: [208], 8: [281, 1996, 269], 9: [2614, 723, 723], 10: [476, 2545], 11: [1655, 1839], 12: [2661, 1001, 1318, 2662], 13: [1810, 1701], 14: [2034, 2075, 158, 2077, 2668], 15: [2367, 1093, 1090, 1271, 1093], 16: [2444, 1632, 970, 2642], 17: [24, 2140, 1316, 1315, 927], 18: [2082, 139, 1786, 1560, 2145], 19: [1939], 20: [1072, 2374, 2375, 2269, 2270], 21: [1043, 2310], 22: [1703, 1702, 2238, 39, 1234], 23: [2159], 24: [1701, 2139, 1636, 17, 2141, 598, 201], 25: [1344, 2011, 1301, 2317], 26: [2454, 2455, 123, 99, 122], 27: [1810, 606, 2360, 2578], 28: [1687], 29: [963, 2645], 30: [1358, 1416, 2162, 697, 2343, 738], 31: [1594], 32: [1973, 279, 518, 1850], 33: [2119, 911, 588, 1051, 2120, 286, 2040, 2121, 698], 34: [1358], 35: [1296, 1913, 895], 36: [1146, 1640, 1505, 2106, 1781, 2094, 1552, 2107], 37: [2427, 1190, 60], 38: [429, 1160, 862, 863, 862], 39: [1634, 1965, 1349, 1532, 1522, 22, 2357], 40: [507, 866, 1364], 41: [1914, 644, 175, 596], 42: [1372, 87], 43: [963, 2399, 2400, 152, 1653, 1530], 44: [1582, 2624, 2701, 2624], 45: [1986, 733, 2303, 1219, 2667, 2668], 46: [2366, 1604], 47: [1579, 163], 48: [598, 1666, 2471, 2205, 1031, 2041, 1662, 714, 2206], 49: [2034, 1666], 50: [1441], 51: [710, 2214, 2215, 2213, 457, 1392], 52: [1467, 2172, 2182, 1139, 1467, 2053], 53: [1358, 1103, 1739], 54: [767, 401], 55: [210, 1983, 787, 2020, 1156, 210, 771, 60, 815, 2021, 323, 651, 1079], 56: [1616, 412, 447, 1849], 57: [2418], 58: [1715], 59: [1358, 1725, 1627, 609, 615, 1287, 2651, 105, 580, 1067], 60: [55, 1527, 37], 61: [1416, 1309, 2162, 2312, 1080], 62: [485], 63: [1322], 64: [1737, 1209, 2616], 65: [1628, 2418, 2419, 543, 619, 1293, 1156, 771, 2418, 2021, 239], 66: [2631], 67: [540, 282, 2628], 68: [1358, 1986, 391], 69: [1013, 1914, 1926, 1351, 604, 1926, 1920, 2189], 70: [441, 2184], 71: [1986, 206, 2691, 2691], 72: [1358, 1103], 73: [1358, 797, 449, 1136, 558, 1723, 1189, 876, 1214, 1745, 1751, 1035, 1214], 74: [1416, 586, 1042, 2155, 544, 2419, 1118, 1517, 2052], 75: [2222, 2223, 2224, 2225, 84, 583], 76: [88, 2018, 2178], 77: [659, 1803], 78: [1418, 1329, 1219], 79: [2097, 603], 80: [257, 2049, 1117], 81: [2180, 347, 527, 423, 423], 82: [1634, 1138], 83: [1520, 2581], 84: [75, 2224, 284, 2223, 2226], 85: [1065, 2487, 2488], 86: [1336, 2034, 429, 2295], 87: [842, 2164, 42], 88: [2010, 130, 76, 2011, 1677, 2012, 2013, 1713, 1658, 1394, 1288, 498, 696, 1882, 851, 743, 2014, 1732, 162, 841, 1494, 1908, 1741, 1174, 1309, 300, 1527, 1847, 815, 2015, 2016, 2017, 1309, 415, 737, 2394, 2178], 89: [1087, 884, 1401, 2463, 1157, 1094, 258, 1653, 1530, 1585], 90: [1358, 817, 155, 156], 91: [2122, 2001, 330, 2001, 2380, 2123, 1046], 92: [898, 1836], 93: [2151, 550, 1495, 950], 94: [1966, 586, 733, 1649, 2490, 586, 195, 2355, 934, 2263, 2357, 934, 675], 95: [1535, 1838, 2200, 2201, 2197, 2199, 2181, 2054, 861, 334, 1303, 734, 736, 2074, 1628, 1602, 693, 456, 2183, 2182, 1580], 96: [2217], 97: [661, 1353], 98: [1521], 99: [123, 2454, 2455, 123, 122, 2604, 26], 100: [1602, 2056], 101: [1358, 281, 1589], 102: [1623, 109, 1878, 1448, 2256, 1251, 1871, 1561], 103: [139, 484, 306, 608, 1790, 1775], 104: [2210, 864, 401, 1065], 105: [1721, 59, 2651, 2476], 106: [2461], 107: [541, 1113, 971, 1650], 108: [2157, 1647, 2209], 109: [1624, 2045, 236, 306, 124, 1769, 289, 2092, 459, 318, 2093, 1772, 1045, 1785, 1337, 102, 1998, 1787, 610, 1789, 1779, 1346, 153, 519, 133, 1805, 426, 563, 2094, 176, 2095, 1661], 110: [1262, 567, 2279, 1161, 1599], 111: [1358, 1169, 2643, 758, 2492, 1762, 758], 112: [1623, 487, 306, 2080], 113: [540, 747, 1884], 114: [2288, 610, 2506], 115: [973], 116: [1076, 1501], 117: [259, 2537], 118: [1616, 388, 2010, 842, 2030, 446, 255, 1343, 2165, 554, 581, 1690, 1507, 2112, 1029, 2166, 1538, 454, 1851], 119: [646, 1959, 379, 1549, 1901, 1537], 120: [514, 2405, 1842, 483, 816], 121: [1910, 980, 802, 1158, 2251, 589, 2252], 122: [2454, 2455, 99, 26], 123: [2455, 99, 2604, 99, 26], 124: [306, 109, 1367, 1622, 2478], 125: [458, 2363], 126: [1623, 2045, 236, 306, 1551, 2079], 127: [2604], 128: [233, 392, 370, 2270], 129: [441, 701], 130: [88, 2017, 1982], 131: [2169, 834], 132: [904, 1022, 1959, 379, 479], 133: [1623, 2045, 1670, 2082, 1777, 452, 399, 1784, 109], 134: [406], 135: [137, 2144, 2095], 136: [831], 137: [2144, 2329, 2504, 135], 138: [236, 306, 1776], 139: [1623, 660, 103, 1780, 910, 2045, 306, 18], 140: [582, 623, 582], 141: [2034, 1002, 740], 142: [2049, 1628, 525, 2181, 456], 143: [1701, 598, 316], 144: [2192, 1593, 145, 213], 145: [213, 537, 1593, 144, 1165, 2622], 146: [1927, 2059, 897, 1468, 1907], 147: [1976, 1519], 148: [714, 2518, 602, 714, 381, 378, 2518], 149: [1416, 2025, 1655, 1080], 150: [310, 1942, 914], 151: [1986, 2236, 2238, 2335], 152: [2238, 2240, 884, 43], 153: [1623, 2045, 236, 459, 306, 109], 154: [1358, 2525, 1444, 1339, 1238, 1568, 364, 326, 1752, 1753, 1754, 819], 155: [1358, 817, 1736, 90, 1689, 1763, 156], 156: [1358, 817, 90, 1689, 155, 1763], 157: [1701, 598, 1870, 2493], 158: [1701, 2034, 14, 180], 159: [2308, 180], 160: [1986, 745, 277, 743, 2000, 2009, 553], 161: [2010, 842], 162: [88, 323, 1667, 1174, 1268], 163: [47], 164: [210, 211], 165: [598, 1473, 2706, 2707], 166: [271, 2617], 167: [2437, 1056, 168, 2482], 168: [2437, 2438, 167], 169: [1994, 2706], 170: [1358, 1067], 171: [790, 1548, 775], 172: [756, 1692, 2187, 240, 512], 173: [1358, 687, 1033, 1586], 174: [1358, 1742, 629, 2334], 175: [1914, 2388, 955, 596, 41, 2217, 2135], 176: [109, 973, 231], 177: [2679, 2682, 1639, 726], 178: [833], 179: [1986, 231, 197], 180: [159, 2037, 1807, 1020, 2076, 791, 2004, 790, 775, 158], 181: [1013, 1464, 1359, 1683], 182: [183, 997], 183: [1837, 997, 182, 997], 184: [520], 185: [2003, 297], 186: [2702, 1672, 2580, 1228, 1319, 1536, 2580, 1228, 1319], 187: [1208], 188: [1169, 1727], 189: [1072, 1262, 1509, 1509, 564], 190: [2135, 491], 191: [608, 382, 1677, 1998, 2385, 1791], 192: [2472], 193: [441, 458], 194: [1050, 1451, 2646, 1451, 2564, 473], 195: [2424, 94], 196: [429, 2122, 442], 197: [231, 2412, 179, 231], 198: [1255], 199: [1869, 420], 200: [2676, 1439], 201: [1701, 1986, 598, 2430, 570, 297, 24], 202: [1250, 353, 1173, 1345, 1345], 203: [857, 854, 1115, 963, 1869, 854], 204: [415], 205: [1701, 1869], 206: [71, 2691], 207: [833], 208: [7], 209: [2681], 210: [164, 1905, 1614, 1626, 1906, 1907, 55, 1079, 1671, 55, 2309], 211: [164, 356, 1394, 1908, 1909], 212: [1290], 213: [2192, 1593, 145, 144], 214: [2194], 215: [1701, 1986, 2045], 216: [1701, 1542], 217: [2473, 2474, 243], 218: [733, 482, 2119, 1382, 1020, 2076, 792, 1348, 781, 2594, 2091], 219: [1413, 1542, 507], 220: [913, 376, 817], 221: [817], 222: [821], 223: [1761, 1154, 744], 224: [1810, 2034], 225: [2255], 226: [1701], 227: [883, 534], 228: [1358, 1871, 1721, 322, 848], 229: [1894, 1053, 1405, 2118, 1053], 230: [1810, 549, 577, 1095, 1217], 231: [1701, 387, 232, 179, 2217, 197, 551, 232, 1868, 176, 197], 232: [1701, 1986, 869, 231, 231, 1864], 233: [128], 234: [610, 2591], 235: [1701], 236: [1072, 2045, 138, 1572, 2046, 2078, 126, 2079, 153, 306, 109, 306], 237: [2539], 238: [1828], 239: [2182, 1376, 1274, 619, 1069, 1220, 887, 2418, 65, 1759, 1909, 910, 2021], 240: [756, 1472, 512, 1692, 172], 241: [1441], 242: [1131, 279, 2280, 838], 243: [217, 473, 2647, 2648, 2474], 244: [1358, 1072, 565, 1610], 245: [782, 1162], 246: [1358, 1687, 936, 2515], 247: [2583], 248: [1964, 1264, 1531], 249: [1978, 1884, 621], 250: [2429], 251: [1413, 1542, 507, 1300, 1933, 1413, 253, 812], 252: [1973, 711, 973, 2485], 253: [1413, 507, 251], 254: [507, 1211], 255: [118, 1343, 2112, 1266], 256: [756], 257: [80, 2180, 1388, 964], 258: [1240, 963, 89, 2645, 1094, 1153, 1401], 259: [117, 2537], 260: [365], 261: [1701, 873, 1894, 1479], 262: [1464, 1351], 263: [1103, 364, 732], 264: [1902, 1826, 472, 844, 844], 265: [1441], 266: [578, 2227, 2229, 809], 267: [670, 2000, 2373, 2373], 268: [1740, 2451], 269: [321, 8, 418, 2543, 2551], 270: [279, 2280, 1195, 1215, 838], 271: [166, 2387, 1970, 638, 2498], 272: [2012], 273: [374, 846], 274: [749, 748], 275: [1967, 805], 276: [1463, 1695, 2133], 277: [973, 160, 553, 1869, 696], 278: [1185], 279: [2280, 242, 2344, 1195, 666, 32, 2423, 2165, 304, 838, 270, 502], 280: [2155, 1535], 281: [2247, 2244, 1347, 8, 1000, 1382, 746, 101], 282: [747, 67, 747], 283: [2250, 1559], 284: [2222, 2223, 2226, 2224, 2225, 84, 583], 285: [1999, 502], 286: [33, 442, 698], 287: [2705], 288: [618], 289: [1358, 109, 1722], 290: [687, 2359, 1765, 328, 567], 291: [1692], 292: [2562], 293: [2038], 294: [306, 2047], 295: [1177, 1176], 296: [2685, 732], 297: [1542, 598, 899, 201, 185], 298: [1325, 1095, 607], 299: [2383, 2498, 1484, 2386, 2387], 300: [88, 415, 634], 301: [1169, 2492], 302: [306, 1158, 719, 350, 1253], 303: [2143, 1670, 719], 304: [1857, 1172, 279, 2423], 305: [1416, 1927], 306: [1072, 2045, 236, 973, 608, 124, 542, 138, 655, 1572, 1770, 573, 2084, 112, 1551, 1797, 1656, 2085, 958, 1856, 1584, 1771, 1651, 2086, 1009, 1193, 2087, 1640, 2046, 1772, 1483, 139, 302, 1798, 2078, 1045, 1490, 1799, 1158, 126, 2088, 103, 2080, 329, 1245, 2089, 1705, 1775, 1787, 350, 887, 1251, 294, 1802, 417, 554, 476, 1779, 1346, 581, 1781, 452, 1804, 236, 153, 487, 519, 308, 109, 1805, 1782, 426, 656, 2090, 2048, 2091, 1367, 719, 910], 307: [991], 308: [2045, 1670, 306, 350, 1253], 309: [2305, 2268, 383], 310: [1241, 352, 990, 1947, 1948, 1815, 892, 1949, 1581, 1272, 1944, 1945, 1946, 150, 1950, 1331, 875, 1950], 311: [343, 690, 1132, 1865], 312: [1740, 1610, 1722], 313: [2296], 314: [1623, 2000], 315: [1921, 408, 2232, 423, 1602], 316: [598, 766, 1073, 920, 143, 1821, 2004, 1297, 845, 1868], 317: [1624, 1785], 318: [1701, 2045, 109, 563], 319: [1205], 320: [1597, 348], 321: [1450, 269, 1083, 1450], 322: [228], 323: [2020, 498, 55, 162, 2022], 324: [2194, 827, 2156], 325: [787, 1848], 326: [1358, 154, 1754], 327: [928, 1996, 1325, 2063, 2064], 328: [1250, 951, 290], 329: [306, 2598, 1798], 330: [1505, 91, 2123], 331: [1527, 2480], 332: [2, 2615, 665, 2003, 2122], 333: [1358, 1694], 334: [1013, 95, 693], 335: [1701, 1986], 336: [1944, 1950], 337: [1358, 1776, 1214, 1499, 1499], 338: [1413, 1542, 1934], 339: [813], 340: [584, 2463], 341: [1358, 2045, 613, 1546, 1389], 342: [1072, 1512], 343: [1701, 311], 344: [661, 441, 854, 2323, 389], 345: [833], 346: [1358, 999], 347: [525, 81, 408, 423], 348: [320, 2248, 2250, 1643], 349: [465, 2427, 419], 350: [1623, 306, 2084, 2085, 1640, 302, 2089, 1775, 1778, 308, 1782, 656, 2090, 406], 351: [1810], 352: [1944, 310, 1294], 353: [202, 2507, 1173, 1345], 354: [659, 1803, 2453], 355: [1668], 356: [211, 2018, 2116, 1259, 498], 357: [1358, 1154, 657, 2652], 358: [2642], 359: [1483, 389, 1620], 360: [1824, 1409], 361: [2681], 362: [1966], 363: [1003], 364: [1358, 154, 1632, 970, 2642, 1606, 1756, 1306, 732, 263, 819], 365: [2469, 260], 366: [1986, 745, 1583, 553], 367: [2083, 2451], 368: [1545, 428, 996, 1366, 1194, 2249, 2393], 369: [385, 2484], 370: [1408, 1414, 2269, 1415, 128], 371: [1415, 1414, 1553, 1441, 1354, 720, 2375, 1415], 372: [1834, 1710, 2377, 626], 373: [1042, 1025, 6], 374: [2146, 2149, 413, 846, 2147, 1101, 273, 2146], 375: [963, 2401, 2434, 2435], 376: [1583, 220, 672], 377: [733, 1265, 678, 2291], 378: [148, 602], 379: [1898, 119, 904, 1022, 1959, 1959, 132], 380: [930, 2569, 477], 381: [148, 2518, 2538, 2518], 382: [2034, 191, 1203], 383: [733, 309, 1704, 2268], 384: [1623, 1624], 385: [369, 2483, 2484], 386: [2114, 2115, 2117], 387: [519, 2191, 231], 388: [118, 2497, 1899], 389: [1483, 704, 2450, 1743, 1077, 344, 905, 359], 390: [1108], 391: [1986, 2365, 493, 68], 392: [1415, 1825, 720, 1619, 2269, 128], 393: [739], 394: [1063, 577, 2351, 849, 1064], 395: [2367, 640, 1147], 396: [1988, 1217], 397: [2329, 879, 665, 1096], 398: [730, 2177], 399: [133, 1089, 544, 1769, 2107], 400: [1354], 401: [104, 1065, 54, 1160, 733, 1096], 402: [1413, 1542, 507, 776, 1940, 1932, 1936], 403: [1742, 464, 2503, 1037, 2654, 806, 1383], 404: [1476, 1170], 405: [1927, 2059, 1275, 738], 406: [505, 350, 134, 2505], 407: [1681, 1682, 695, 409], 408: [525, 734, 347, 315, 1841, 2056], 409: [1624, 1681, 2084, 407], 410: [1179, 676], 411: [1488, 1096, 1577, 2609], 412: [1616, 1849, 56], 413: [374], 414: [711], 415: [1677, 1843, 593, 966, 737, 851, 818, 2014, 88, 1908, 2178, 1174, 1644, 1309, 300, 1527, 1847, 204, 1850, 525, 2182, 966], 416: [1701, 519], 417: [1072, 2034, 306, 1871, 2494], 418: [269], 419: [349], 420: [1869, 199], 421: [2216, 2213], 422: [545], 423: [525, 347, 315, 527, 81, 81], 424: [436, 1203], 425: [2466], 426: [306, 109, 1805, 1782, 1777, 1789, 487, 1772], 427: [565, 1528], 428: [2248, 368, 2671, 1257, 996], 429: [2043, 196, 1493, 1807, 2044, 1618, 1889, 794, 38, 2001, 2041, 86, 1669, 523, 705, 863], 430: [2130], 431: [2694, 2695], 432: [1597, 1442], 433: [436, 756], 434: [1524, 1693, 2408, 2133, 1117], 435: [733, 1912, 486], 436: [1977, 1978, 878, 433, 1979, 424, 1039, 816, 498, 1332, 885, 1494, 668, 483, 1980, 1981, 1982, 1131], 437: [1985, 1495, 950, 718, 498], 438: [1983, 787, 1984, 1985, 718, 1667], 439: [1169, 1642], 440: [1296, 2179, 441, 725, 1913, 895], 441: [440, 1537, 344, 671, 70, 1455, 2184, 129, 193, 2094, 454], 442: [627, 196, 2362, 588, 1051, 2120, 286, 698], 443: [1966, 1010, 1531, 1264], 444: [582, 488, 623, 515, 2289, 2290, 2464, 2289, 2290, 828], 445: [1434, 909], 446: [903, 118, 1507], 447: [1616, 1849, 56, 2638], 448: [1824, 1902, 1826, 472], 449: [1834, 73, 1280, 2581], 450: [1569, 2538], 451: [671, 935, 2285], 452: [1623, 133, 306, 1258], 453: [2305, 1806, 2306], 454: [441, 973, 2188, 2189, 1441, 1917, 2190, 581, 2022, 118, 1661], 455: [2486, 2147, 1664], 456: [525, 2054, 95, 667, 2347, 2199, 142, 2472, 544, 1580], 457: [51, 2216, 1201, 2215], 458: [125, 1122, 1953, 1555, 1276, 193], 459: [1623, 153, 109, 1681], 460: [1986, 1989, 2532], 461: [2309, 1203], 462: [1048], 463: [1964, 1703, 1702, 1966], 464: [2444, 2445, 403, 1758], 465: [1403, 896, 349, 1869, 2304], 466: [1358, 2546, 970, 1738, 1305], 467: [1701, 1708, 1172], 468: [647, 1311, 1313], 469: [2412, 2304, 620], 470: [857, 854, 1115, 652, 1097], 471: [1013, 2394, 2013], 472: [1825, 559, 448, 264, 844, 1183, 1182, 2029], 473: [1575, 194, 243, 2647], 474: [1181], 475: [2219, 2219], 476: [1986, 306, 1140, 10, 1800, 1140], 477: [380, 2569, 930, 2569], 478: [514, 2024, 1978], 479: [132, 1880], 480: [598, 687, 2359, 1710, 2359, 2372, 1426], 481: [1810, 2291, 823, 1287], 482: [2230, 1812, 1814, 1807, 2307, 2308, 218, 790, 1810], 483: [436, 2405, 120, 816], 484: [542, 2081, 2046, 1699, 103, 1367, 1775], 485: [1042, 839, 2219, 62], 486: [2077, 435, 2667, 2668], 487: [655, 112, 2026, 1773, 1798, 2080, 1705, 859, 306, 1782, 426, 1772], 488: [444, 2547], 489: [1358, 2390, 2391], 490: [1973, 2105, 1879, 826, 2099, 1309, 1463, 1981, 1131], 491: [190], 492: [1257, 956, 1533, 688, 2678, 2673, 2538], 493: [1759, 1244, 391], 494: [2614], 495: [2192, 1328, 1327], 496: [711, 596, 992], 497: [2419], 498: [1652, 436, 437, 88, 323, 356], 499: [2457, 2458], 500: [2241], 501: [1358, 1765], 502: [279, 1976, 285], 503: [1692, 576, 2001], 504: [1973, 2394, 2396], 505: [573, 1180, 1304, 1448, 1258, 843, 1251, 1779, 1560, 2083, 406], 506: [1013, 1914, 1918, 1352], 507: [219, 1940, 1931, 1211, 1363, 1941, 402, 1933, 1413, 1176, 1300, 253, 254, 251, 812, 1936, 40, 2508], 508: [2325], 509: [1101, 2146, 2148], 510: [1013, 1131, 1171], 511: [1810, 549], 512: [756, 1472, 240, 1692, 172], 513: [565, 1528, 657], 514: [1978, 120, 1882, 1314, 478], 515: [444, 2464, 623, 2547, 2465, 1102, 1102], 516: [2104, 1882], 517: [2105, 952], 518: [666, 32, 2423, 1373], 519: [2045, 387, 1574, 1670, 416, 836, 1998, 1986, 1346, 306, 109, 598], 520: [184], 521: [598], 522: [2097], 523: [429, 949, 2406], 524: [1358, 979, 2476, 1169, 552], 525: [415, 1540, 2180, 2181, 2054, 408, 2182, 142, 423, 347, 1628, 456, 2183, 2057, 2172, 2182], 526: [565, 1742, 1216, 1007], 527: [81, 423], 528: [803], 529: [1419, 1417, 2260, 2260], 530: [1013, 2094, 1505], 531: [606, 2308], 532: [1701, 1863], 533: [1742, 2466], 534: [629, 609, 933, 227], 535: [2641, 2392], 536: [1894, 567], 537: [2192, 1698, 1593, 145, 1165], 538: [1286], 539: [1616, 711, 2155], 540: [1441, 113, 67, 2527, 747], 541: [107, 904, 647, 1896, 1360, 1022], 542: [1623, 484, 306, 1245], 543: [984, 65], 544: [2199, 1769, 2347, 2052, 1580, 74, 399, 456], 545: [422], 546: [1608, 2127, 2127], 547: [1701, 598], 548: [2138, 809, 843, 1937, 1523], 549: [1810, 511, 1497, 230, 1810], 550: [93], 551: [231, 2388], 552: [1358, 1169, 524, 2201], 553: [1995, 366, 1127, 277, 745, 160, 1583, 2009], 554: [306, 118, 685], 555: [1463], 556: [1623, 1805], 557: [1725], 558: [73, 2585, 876, 1706, 1189], 559: [472, 1182, 1579], 560: [2526, 774], 561: [1016], 562: [1483, 1735, 704, 2450], 563: [1701, 2045, 109, 1337, 318, 1337], 564: [1262, 2476, 189], 565: [1398, 513, 244, 1361, 1610, 1723, 1528, 526, 2279, 1038, 427, 687, 1610], 566: [1986, 1907], 567: [760, 536, 1262, 631, 110, 290, 1513], 568: [1810, 1116, 1223, 1223], 569: [1759, 2512], 570: [201, 2430], 571: [696, 1570], 572: [1416, 2025, 2418], 573: [505, 306, 643, 1313, 2407], 574: [1692, 576, 2001], 575: [2283], 576: [1810, 665, 2348, 503, 574, 665], 577: [1518, 870, 230, 906, 2351, 2352, 2353, 2354, 394, 849, 1063, 1129], 578: [266, 1879, 1974, 1105], 579: [1808, 994, 1134], 580: [1358, 744, 2444, 1742, 2445, 1758, 1765, 59], 581: [1623, 1792, 1616, 306, 118, 454], 582: [444, 140, 140, 2548, 2549], 583: [75, 2224, 284, 2224, 2225], 584: [340, 623, 2463, 2289, 2464], 585: [2526], 586: [1224, 1218, 74, 94, 2155, 94], 587: [1032, 1032], 588: [33, 442, 2383, 698], 589: [1624, 121, 1158, 980], 590: [1954, 1441], 591: [1423, 1017, 1078, 2472, 642], 592: [2669], 593: [415, 1115, 1474], 594: [2195, 663], 595: [2176, 1016, 1256], 596: [1914, 644, 175, 496, 992, 41], 597: [1628, 1104], 598: [157, 547, 1003, 1107, 521, 766, 2138, 1299, 316, 869, 143, 480, 1864, 1821, 201, 519, 968, 637, 297, 1297, 845, 48, 1823, 1636, 24, 1301, 1870, 1473, 1573, 1875, 1100, 165, 2707, 1473], 599: [1271, 1093], 600: [2394], 601: [2229], 602: [148, 378], 603: [2045, 716, 1248, 795, 1821, 79, 1873], 604: [1914, 1652, 1351, 69, 2109], 605: [1107, 2534], 606: [2230, 2360, 1666, 531, 27, 2361], 607: [1213, 1664, 298], 608: [1623, 306, 103, 191, 2080], 609: [1358, 2446, 59, 883, 534, 1041, 2447, 2448], 610: [109, 2287, 2288, 826, 234, 2481, 114], 611: [2690], 612: [2235], 613: [1358, 341], 614: [1475, 2470, 2470, 888], 615: [59, 2443], 616: [1358, 2365, 1739, 2503], 617: [2034, 705], 618: [288, 938], 619: [65, 239], 620: [469, 2534, 923], 621: [2018, 1332, 249, 1978], 622: [1951, 1952, 1002, 886], 623: [444, 584, 2464, 2289, 140, 515], 624: [1042, 1232], 625: [1024], 626: [1358, 372, 2556, 2558], 627: [2122, 2238, 2335, 442], 628: [1764, 1169, 2546, 1725], 629: [174, 883, 534], 630: [973], 631: [567, 2358], 632: [1430], 633: [1701, 0, 1866], 634: [2227, 300], 635: [2058], 636: [2233], 637: [598, 1641], 638: [783, 1773, 2387, 893, 808, 924, 271], 639: [900], 640: [2420, 395, 894, 765, 1090, 1598], 641: [2704], 642: [2472, 591], 643: [1538, 573, 1167, 2407], 644: [711, 728, 2177, 596, 41, 1258], 645: [1358, 1824, 1898, 1899, 1267, 1900, 1495, 950, 1895, 891, 1901, 1826], 646: [119], 647: [468, 1267, 541, 904, 1360], 648: [1441], 649: [1171, 1457], 650: [1250, 1486, 1557, 1685, 1756, 819, 2083], 651: [2023, 1984, 55, 885, 2024, 1667, 2156], 652: [470, 1], 653: [1231], 654: [1], 655: [487, 306, 2080], 656: [306, 350, 2090], 657: [1254, 1740, 1229, 513, 2440, 357, 2522, 1254, 2442, 867, 871, 2523, 1729], 658: [2147], 659: [77, 354, 1803], 660: [1623, 139], 661: [1353, 1878, 344, 1028, 935, 1879, 1880, 830, 1881, 807, 1045, 1882, 1883, 97, 1884, 1885], 662: [932], 663: [2195, 594], 664: [1701], 665: [397, 2120, 576, 2122, 576, 332], 666: [1973, 279, 518, 1850], 667: [2364, 456, 2472], 668: [436], 669: [729, 1086, 1124], 670: [267, 2606], 671: [2025, 441, 973, 451], 672: [2456, 376], 673: [1986, 1907], 674: [1907], 675: [2356, 94], 676: [1955, 2235, 410], 677: [954], 678: [733, 377], 679: [1395], 680: [2199], 681: [1986, 1445, 1446, 1171, 1445, 1446], 682: [1224, 973], 683: [2169, 834], 684: [1358, 1282], 685: [554], 686: [1358, 2366], 687: [1358, 1171, 1710, 1033, 1586, 1610, 1725, 565, 480, 173, 2359, 1546, 2372, 290, 1721], 688: [1257, 492], 689: [1358, 1317, 1169, 1721, 1292], 690: [311], 691: [2034, 2130], 692: [2629], 693: [2108, 763, 95, 1851, 334], 694: [1478, 2516], 695: [1336, 1681, 1682, 1998, 2319, 1012, 1790, 407, 948], 696: [88, 277, 571, 1570], 697: [30, 1080], 698: [33, 1015, 442, 588, 286], 699: [1701, 2045, 2327], 700: [1691], 701: [735, 739, 129, 2062], 702: [777, 993, 1637, 2101, 1368, 822, 779, 2069, 2070], 703: [2497, 1961, 801], 704: [1483, 969, 562, 389, 2450, 1743, 1412, 2113, 2113], 705: [429, 617], 706: [1240, 2238, 963, 805, 2645], 707: [763], 708: [1358, 2212, 2216, 836], 709: [1896, 1903], 710: [51, 2212, 2213, 1392], 711: [2111, 1285, 496, 539, 252, 414, 2112, 2113, 644], 712: [1464, 850, 2480], 713: [1044], 714: [1385, 148, 148, 48], 715: [2291], 716: [1810, 603, 1821, 2409], 717: [1907], 718: [1416, 438, 437, 2059, 2261], 719: [1623, 1810, 306, 302, 303], 720: [1441, 392, 371], 721: [1034], 722: [1273, 1874, 2500, 1567, 2501, 1567], 723: [2614, 9, 9], 724: [1344, 2394, 2395], 725: [1652, 2071, 440, 1104, 1137], 726: [2671, 1533, 177], 727: [1386, 2570], 728: [1296, 644, 2388, 2553, 1070], 729: [1701, 2534, 1221, 1159, 669], 730: [398], 731: [901, 2199, 1279, 2203], 732: [364, 1756, 2685, 296, 263], 733: [2035, 1062, 1265, 2011, 2301, 2302, 1329, 759, 1817, 678, 1294, 1818, 401, 2303, 383, 1160, 2304, 218, 2291, 794, 1682, 2268, 1192, 45, 377, 435, 94, 2008, 862], 734: [95, 1841, 2277, 1006, 2197, 1388, 964, 408, 736, 2056, 751, 2202, 736], 735: [1958, 1881, 2060, 2061, 2062, 1237, 701, 739, 739, 1543, 1237], 736: [95, 734, 1841, 1006, 1631, 2197, 1388, 964, 734, 751, 2202], 737: [415, 1974, 1630, 88, 2136, 2178, 1269], 738: [1927, 2162, 1080, 405, 30], 739: [1958, 735, 1881, 701, 735, 1543, 1237, 393], 740: [1002, 2033, 141], 741: [2093, 1011, 1088, 1282, 831], 742: [1483, 1743, 1620], 743: [1986, 88, 745, 1239, 1570, 160], 744: [1358, 580, 1154, 223], 745: [1986, 1995, 366, 1127, 743, 160, 2009, 553], 746: [1303, 2006, 281], 747: [1538, 113, 282, 540, 282], 748: [1358, 1103, 1169, 274, 1617, 1550, 1732, 1568, 1374, 1145, 1145, 2553], 749: [2155, 274, 1333], 750: [1441], 751: [1204, 734, 736, 2198, 2202], 752: [957, 2083, 2451], 753: [1880, 1269], 754: [1358, 1483, 2450], 755: [1898, 2071, 1277], 756: [256, 2186, 2187, 433, 1469, 1472, 240, 1692, 885, 172, 512, 1692], 757: [1358, 2421, 1284], 758: [1358, 111, 111, 2492, 1762], 759: [1703, 733], 760: [2459, 567, 1513, 2460, 1426, 985], 761: [1401, 1443], 762: [2448, 859], 763: [1635, 707, 693], 764: [1358, 796, 1612, 1606], 765: [2367, 640, 1147], 766: [598, 316, 1297, 1868, 845], 767: [1701, 54, 873, 2314], 768: [1566, 1723, 1724], 769: [1927], 770: [2117, 1894], 771: [55, 1080, 65, 1156, 1156], 772: [908], 773: [1072, 1505], 774: [560], 775: [2075, 180, 171], 776: [1413, 1542, 402], 777: [702], 778: [1914, 1224, 1370, 779, 1919], 779: [1914, 1973, 1224, 702, 1370, 1592, 1919, 778], 780: [2341], 781: [2402, 218], 782: [245], 783: [1061, 2376, 638, 893, 1143], 784: [1701, 960], 785: [1664], 786: [947], 787: [438, 55, 325], 788: [1952, 2205, 1031, 2041, 2033], 789: [1703, 1240], 790: [1810, 482, 180, 171, 1548], 791: [2034, 2130, 180], 792: [1558, 2555, 1986, 218, 1488], 793: [1896, 1902, 1903, 2592], 794: [429, 1160, 733, 1590, 863], 795: [1810, 603, 1645], 796: [1358, 1103, 1317, 764], 797: [1358, 800, 1833, 73, 2359], 798: [1381, 1793, 1794, 1795], 799: [961], 800: [889, 797, 820, 1834], 801: [1470, 703, 1961, 2516], 802: [121, 1307], 803: [2100, 528], 804: [1307], 805: [275, 2236, 963, 706], 806: [403, 1383], 807: [661, 1955, 1226, 1956], 808: [638, 2383, 1785, 924], 809: [548, 2229, 266, 2228, 1115], 810: [1068], 811: [900, 855], 812: [1413, 1542, 507, 1300, 251], 813: [2376, 339], 814: [1158, 2382, 893, 2383], 815: [88, 2018, 55, 1344, 1174, 2017], 816: [436, 2405, 2282, 1842, 120, 483, 1980], 817: [2456, 221, 220, 90, 1736, 155, 156, 1763], 818: [415, 1999], 819: [1358, 650, 154, 364, 1606], 820: [889, 800], 821: [222], 822: [1973, 702], 823: [1358, 1169, 1765, 2221, 481], 824: [1831], 825: [1765], 826: [490, 2287, 610, 2528], 827: [1999, 1921, 1039, 324], 828: [1795, 444, 2464], 829: [1816], 830: [661, 1914, 2100], 831: [1358, 1638, 2093, 1011, 741, 136, 1733], 832: [2600], 833: [2036, 178, 207, 2495, 1641, 2595, 1678, 1130, 345, 1678], 834: [2168, 683, 131, 876], 835: [1810, 1121, 1134, 1654], 836: [519, 1572, 708, 1013, 2078, 1131, 1343, 2403], 837: [1422, 2670, 2248], 838: [868, 1131, 279, 270, 2280, 2280, 242], 839: [485, 2277, 965], 840: [2481, 1903], 841: [88, 2034], 842: [87, 161, 2016, 118], 843: [505, 548, 2339, 2542], 844: [1902, 472, 264, 264], 845: [598, 316, 766], 846: [2146, 374, 273], 847: [2189, 2422], 848: [1373, 985, 228], 849: [577, 2351, 394, 1993], 850: [1464, 2278, 712], 851: [88, 2018, 1309, 415], 852: [1800], 853: [1358, 1169, 1762], 854: [857, 344, 935, 470, 1097, 203, 1884, 1097, 203], 855: [2493, 811], 856: [2248, 1390], 857: [470, 1246, 854, 1097, 203], 858: [2182, 2502], 859: [487, 2096, 1030, 762, 1199], 860: [1427, 1527, 1758], 861: [95, 2330, 2068, 1397], 862: [733, 38, 38], 863: [429, 1160, 1590, 38, 794], 864: [2210, 104, 1065], 865: [2653], 866: [1049, 40], 867: [1229, 657, 2439, 2440, 2522, 1252, 2442, 871, 2523], 868: [988, 1341, 1195, 2276, 1844, 2099, 838, 1526], 869: [1701, 598, 232, 1440, 1864, 1864], 870: [1119, 2126, 577], 871: [1229, 657, 2530, 867, 2652], 872: [1413, 1542, 1340], 873: [1358, 261, 2313, 767, 1479, 1708], 874: [1701], 875: [310, 1945, 1950, 1942, 914], 876: [1358, 2168, 73, 2584, 558, 834], 877: [1413, 1542, 1177, 1176, 1935, 1300], 878: [436, 2326, 885], 879: [1558, 397], 880: [1013, 973], 881: [1199, 1155], 882: [1358], 883: [629, 609, 933, 227], 884: [89, 152], 885: [436, 651, 756, 878, 1039, 2386, 2024], 886: [622, 1400], 887: [1623, 1624, 306, 910, 239], 888: [1475, 1556, 614], 889: [800, 1830, 1831, 1832, 820], 890: [1269, 1314], 891: [645, 2608, 1674], 892: [310, 1950], 893: [638, 783, 911, 814, 1051, 2383, 2383], 894: [2367, 640, 1845], 895: [440, 35, 1187, 1296, 1913], 896: [465], 897: [1410, 1983, 146, 1907, 1156, 1152, 1494, 2295], 898: [1835, 92, 1836, 2160], 899: [1858, 1986, 297, 1055], 900: [639, 811], 901: [2186, 731, 1042, 2199, 2073, 1279], 902: [1358, 1284, 1604, 1604], 903: [2030, 2031, 446], 904: [541, 647, 1360, 1959, 379, 132, 1312], 905: [1483, 1282, 389, 1620], 906: [577, 2351, 2353], 907: [1351, 1916], 908: [1013, 772], 909: [445], 910: [1623, 139, 306, 887, 239, 2085], 911: [33, 2376, 893, 1534, 1051], 912: [2130], 913: [220], 914: [150, 875], 915: [1740, 1035, 2597, 2415], 916: [1026], 917: [2639], 918: [1542, 2065, 1098], 919: [1358], 920: [316, 1893], 921: [1914, 2134, 2293], 922: [1307, 1406], 923: [620], 924: [638, 2383, 808], 925: [1222], 926: [1862], 927: [2140, 1316, 17], 928: [327, 2063, 1326], 929: [1358, 2627], 930: [380, 2569, 477], 931: [1433], 932: [662], 933: [883, 534, 1038], 934: [94, 2356, 94], 935: [661, 973, 854, 451, 1873], 936: [1067, 2530, 246, 2515, 2515, 2641], 937: [2096, 1180, 1304, 1304], 938: [2230, 618, 2027], 939: [2173], 940: [1829], 941: [2517], 942: [1952, 1924], 943: [1196], 944: [2138], 945: [1072, 1911, 2388, 1512], 946: [1966, 2623], 947: [786], 948: [1395, 1681, 1682, 695], 949: [523], 950: [645, 437, 93], 951: [1358, 328], 952: [517, 2546], 953: [2565, 2566, 2567, 2565], 954: [1112, 677], 955: [1914, 175, 1482], 956: [2677, 492], 957: [1358, 1154, 752, 1557, 1685, 1757, 2167, 2083], 958: [1072, 306, 1798], 959: [2529], 960: [1776, 2650, 784], 961: [799, 2555, 1728, 2599], 962: [1806, 1062, 1665, 1807, 1808, 1809, 1810], 963: [1141, 29, 2399, 2400, 1785, 1417, 2240, 2401, 203, 1703, 375, 1157, 706, 1094, 258, 43, 1443, 805, 2434], 964: [1388, 257, 965, 734, 736, 2198], 965: [2197, 964, 1693, 839], 966: [415, 415], 967: [2659], 968: [1986, 598, 1603], 969: [1483, 1735, 704, 2450, 1743], 970: [1358, 2365, 16, 364, 466], 971: [107, 1650], 972: [2247, 1000, 2579, 2580], 973: [1072, 306, 671, 935, 880, 2153, 277, 2019, 1583, 115, 252, 630, 682, 1142, 2016, 176, 454], 974: [1496], 975: [2097], 976: [998, 1431], 977: [1281], 978: [1358, 998], 979: [524, 1303, 2207, 1503, 1957, 1839], 980: [1623, 1367, 121, 589], 981: [1221, 1159], 982: [2175, 2176, 1458, 1091, 1256], 983: [2130], 984: [543, 1068, 2265], 985: [1358, 1149, 1073, 848, 760], 986: [2697], 987: [1175], 988: [868], 989: [2285, 1645, 1507, 2436], 990: [1542, 310, 1054], 991: [307], 992: [596, 496], 993: [702, 2155], 994: [2309, 579, 1329, 1219], 995: [1309, 2385, 1912], 996: [2248, 2518, 368, 1257, 1135, 428], 997: [1837, 183, 182, 183], 998: [978, 976, 1103, 2365, 1431, 1284, 1431], 999: [1358, 346], 1000: [281, 2543, 1325, 972], 1001: [12, 2662], 1002: [622, 2034, 1952, 2033, 740, 141], 1003: [1687, 598, 2607, 363, 1373], 1004: [1810, 1489], 1005: [1541], 1006: [734, 736, 1302], 1007: [1742, 1154, 526, 2466], 1008: [1416, 2059, 1922, 2575], 1009: [306, 2096], 1010: [1966, 443], 1011: [741, 831], 1012: [1336, 1681, 1682, 695, 1797], 1013: [1840, 1841, 510, 1842, 1843, 1521, 530, 1403, 880, 334, 69, 1293, 1844, 1729, 506, 1845, 1583, 1120, 1625, 908, 471, 1644, 1846, 1675, 1847, 1848, 1849, 1464, 1850, 1851, 181, 1661, 2045, 836], 1014: [1558], 1015: [1385, 1068, 1618, 1425, 2262, 1788, 1789, 698, 1452, 1519, 1143, 2263, 1481], 1016: [561, 2176, 595, 4, 1256], 1017: [1475, 2472, 591], 1018: [2378], 1019: [1457], 1020: [2075, 218, 180, 2077, 2667], 1021: [2309], 1022: [1961, 379, 132, 1168, 541, 1962, 1276, 1963, 1276, 1963], 1023: [1701, 1986, 2568], 1024: [625], 1025: [1042, 373], 1026: [2034, 1303, 916, 2531], 1027: [2394], 1028: [661], 1029: [118, 2166], 1030: [859], 1031: [1952, 48, 788], 1032: [587, 587], 1033: [2168, 687, 173], 1034: [721], 1035: [1740, 73, 1833, 915, 1486, 1801, 1433], 1036: [2562], 1037: [2654, 2447, 403], 1038: [1358, 565, 2503, 933], 1039: [436, 827, 885], 1040: [1358, 1317, 1169, 1765], 1041: [1358, 1243, 1466, 2390, 2448, 609], 1042: [1628, 1025, 485, 1198, 1118, 624, 901, 2073, 1047, 2055, 2198, 1125, 373, 6, 1517, 1925, 2051, 1926, 2052, 74, 1481, 2054, 2333], 1043: [2309, 21], 1044: [713], 1045: [1773, 661, 306, 109, 1571], 1046: [91, 2336, 2587, 2387, 1510, 1510], 1047: [1042, 2333, 1588, 1588], 1048: [462], 1049: [1894, 866, 2610, 1432], 1050: [1634, 2563, 1569, 1230, 194, 1081, 2564, 1380, 1342, 1320, 1230, 1342], 1051: [33, 2122, 442, 893, 2383, 911], 1052: [1701], 1053: [229, 1405, 229], 1054: [1950, 1577, 990, 1099, 1605, 1432], 1055: [1577, 899], 1056: [167, 2482], 1057: [2409], 1058: [1195], 1059: [1600], 1060: [1441], 1061: [783, 1196, 2376], 1062: [962, 1810, 733, 1192], 1063: [1518, 394, 577], 1064: [2351, 2352, 394], 1065: [864, 401, 104, 1699, 85, 2211, 1096], 1066: [1574], 1067: [1830, 170, 2307, 936, 2448, 1216, 59], 1068: [1015, 984, 810], 1069: [239], 1070: [1358, 1167, 728, 1829, 1470, 1072, 1725], 1071: [2248, 2671, 1257, 1135], 1072: [1358, 973, 773, 1797, 244, 958, 342, 1483, 1798, 1799, 1478, 1505, 1262, 1800, 1733, 1801, 1802, 417, 1803, 20, 1740, 1804, 236, 306, 1805, 945, 189, 1784, 1070, 1725], 1073: [2163, 316, 985], 1074: [1501, 1675, 1676], 1075: [1701, 1124], 1076: [116], 1077: [1483, 2450, 389, 2113], 1078: [591], 1079: [210, 1914, 55, 1218], 1080: [2162, 697, 149, 2344, 61, 771, 738], 1081: [1050, 2563], 1082: [1534, 2386], 1083: [2114, 1232, 1450, 321], 1084: [1213], 1085: [2394, 1421, 2109, 2110], 1086: [2247, 669, 2579, 1124, 2579], 1087: [2434, 89], 1088: [1089, 741], 1089: [2086, 1088, 1552, 399], 1090: [2367, 1271, 1093, 15, 640, 1147, 1598], 1091: [982, 2176, 1256], 1092: [1171, 2501, 1106, 2501], 1093: [2367, 1271, 1598, 15, 1090, 15, 599], 1094: [963, 89, 1369, 258, 1443, 1653, 1443], 1095: [1810, 1986, 1325, 230, 298, 2613], 1096: [1065, 411, 397, 1633, 401], 1097: [857, 854, 1115, 1869, 470, 854], 1098: [918, 2066, 2067, 1477], 1099: [1577, 1054, 1607], 1100: [1701, 598], 1101: [2146, 374, 509, 2148, 1242], 1102: [2464, 2290, 515, 1207, 2465, 515], 1103: [1358, 1123, 1718, 1480, 1886, 53, 72, 1520, 1887, 1888, 796, 1748, 263, 1284, 1760, 748, 998], 1104: [597, 2264, 725], 1105: [578], 1106: [1874, 2501, 1092], 1107: [1810, 2243, 598, 2379, 605], 1108: [390], 1109: [2671, 1533, 2674, 2675], 1110: [2025, 1224, 2295, 1120], 1111: [1119, 2126, 1273, 2129, 2125], 1112: [954], 1113: [107, 1650], 1114: [1717, 2560], 1115: [470, 593, 809, 2276, 1097, 203, 1529], 1116: [568, 1223], 1117: [1628, 80, 434, 2499], 1118: [1416, 1042, 2155, 74], 1119: [2124, 2128, 2125, 1663, 870, 1235, 1462, 2129, 2127, 1111, 2126, 1273, 2129, 1697], 1120: [1013, 2025, 2194, 1583, 1110], 1121: [1810, 1410, 2136, 835, 1131, 1655], 1122: [458], 1123: [1358, 1103], 1124: [669, 1075, 1086], 1125: [1042, 2332], 1126: [1823], 1127: [1986, 745, 1583, 553], 1128: [1441, 1954, 2275], 1129: [1518, 577, 2351, 2352, 2353], 1130: [833, 2495], 1131: [1224, 1538, 2280, 242, 1500, 510, 2281, 1930, 1121, 836, 1215, 1133, 2185, 436, 1655, 838, 2282, 490, 1909, 2283, 2155, 1655], 1132: [311], 1133: [1131, 1538, 1500, 2185], 1134: [2296, 835, 579], 1135: [2671, 1257, 1071, 2678, 2518, 2248, 1257, 996], 1136: [73, 2359, 2554, 1189], 1137: [725], 1138: [2248, 82, 2250], 1139: [1628, 2054, 2182, 52], 1140: [476, 476], 1141: [963, 2294], 1142: [973, 2326], 1143: [2262, 1015, 2155, 2376, 783, 1618, 2262, 2376], 1144: [1623, 1245], 1145: [1358, 1169, 748, 748], 1146: [36, 1505, 1506, 2254], 1147: [395, 765, 2367, 1090, 2371, 1598, 1865], 1148: [1317, 2221, 2220, 1747], 1149: [1358, 1986, 1894, 985], 1150: [1243], 1151: [2700, 2570], 1152: [1927, 897, 2155, 2416], 1153: [1401, 258], 1154: [1358, 957, 2514, 1714, 1715, 744, 357, 2515, 1007, 1742, 223], 1155: [1229, 881], 1156: [55, 897, 65, 771, 771], 1157: [963, 89, 2240, 2463], 1158: [306, 302, 121, 814, 1635, 2251, 589, 2252, 2382], 1159: [981, 2534, 729], 1160: [401, 794, 38, 2268, 863, 733], 1161: [110], 1162: [245, 1510], 1163: [1402, 2132], 1164: [1287], 1165: [1593, 145, 537, 1593], 1166: [1986, 2582], 1167: [643, 1070], 1168: [1022, 1955], 1169: [689, 188, 1714, 301, 439, 524, 2220, 1040, 1719, 823, 1720, 1731, 1734, 1737, 1358, 111, 853, 2492, 552, 2476, 628, 748, 1145], 1170: [1476, 404], 1171: [1855, 510, 1355, 649, 681, 1092, 687, 2359, 1909, 1295], 1172: [304, 467], 1173: [202, 1250, 353], 1174: [88, 415, 2394, 1912, 162, 815], 1175: [2359, 987], 1176: [1542, 877, 507, 1935, 1935, 295], 1177: [1542, 877, 1935, 295], 1178: [1984, 2350, 1908, 1529], 1179: [1955, 410], 1180: [505, 1304, 937], 1181: [474], 1182: [472, 559, 1183, 1579], 1183: [1824, 472, 1825, 1354, 1182, 1579], 1184: [2100, 1190], 1185: [1992, 2358, 278, 2589, 2590, 2349, 1460], 1186: [2535, 2574], 1187: [1188, 895], 1188: [1187], 1189: [1358, 73, 2359, 1136, 558], 1190: [1387, 1184, 37], 1191: [2241, 1558, 2339], 1192: [733, 1062, 1621], 1193: [306, 1705], 1194: [368, 2670, 1366], 1195: [868, 279, 270, 1058], 1196: [1624, 1061, 1367, 2300, 943], 1197: [1998, 1791], 1198: [1042], 1199: [1214, 1566, 881, 1716, 1599, 859], 1200: [2207, 1502, 2414], 1201: [2533, 2214, 457], 1202: [2376, 1428, 2336, 2524, 1510], 1203: [1410, 382, 461, 1842, 424, 1215, 2155], 1204: [1330, 1838, 751, 1839, 1602], 1205: [1358, 1761, 319], 1206: [2671, 1257], 1207: [2464, 2290, 1102], 1208: [187], 1209: [1358, 1737, 64], 1210: [1648], 1211: [507, 254], 1212: [1701], 1213: [1084, 607, 1290], 1214: [73, 1716, 1499, 1199, 337, 73, 1745], 1215: [1894, 1131, 1203, 270], 1216: [2446, 526, 2503, 1067], 1217: [396, 230], 1218: [1927, 2116, 586, 1079], 1219: [78, 994, 45], 1220: [239], 1221: [1949, 981, 729, 1607, 1577], 1222: [1224, 925], 1223: [568, 1116, 568], 1224: [2151, 1525, 1341, 1660, 2152, 586, 2153, 1587, 2154, 1370, 1131, 2155, 1732, 1583, 1110, 779, 1919, 778, 1291, 682, 1222, 1526, 1848, 1975, 2156, 1851], 1225: [1450, 2579], 1226: [1955, 2528, 807, 1956], 1227: [1269], 1228: [186, 2580, 186, 1536], 1229: [1358, 657, 2439, 2440, 2441, 1308, 1627, 1506, 1254, 2442, 867, 871, 1749, 1155, 1384], 1230: [1050, 1050, 1342], 1231: [653], 1232: [1083, 624], 1233: [2433], 1234: [1703, 1702, 1966, 22], 1235: [1119, 2126, 1462, 2577], 1236: [2479], 1237: [1958, 735, 735, 739], 1238: [1358, 154], 1239: [743, 2611, 2027], 1240: [789, 2237, 1702, 706, 258, 1443], 1241: [1701, 310, 1950], 1242: [2146, 2148, 1101], 1243: [1358, 1041, 1150], 1244: [493], 1245: [306, 2080, 542, 1770, 1144], 1246: [857], 1247: [1679], 1248: [2045, 603, 1651], 1249: [1483, 2556, 2558], 1250: [650, 202, 2507, 328, 1173], 1251: [1623, 505, 306, 1448, 102], 1252: [867, 2656], 1253: [302, 308], 1254: [657, 1229, 657, 1308], 1255: [2248, 198], 1256: [2176, 1016, 4, 1091, 982, 2176, 1761, 595, 2175], 1257: [2248, 428, 2677, 688, 1071, 2678, 1206, 2518, 2248, 2671, 1135, 2673, 996, 2679, 492, 2538, 2249, 1135, 2673], 1258: [505, 644, 452], 1259: [356, 2342], 1260: [2250, 1559], 1261: [2130], 1262: [1072, 110, 1509, 564, 189, 567], 1263: [1407], 1264: [1531, 248, 443], 1265: [2291, 733, 377], 1266: [1984, 255, 1529], 1267: [1824, 647, 645], 1268: [1929, 2309, 162], 1269: [2227, 737, 753, 1880, 1227, 1630, 890, 1314], 1270: [2034, 1622], 1271: [2367, 1093, 1090, 15, 599], 1272: [310, 1945, 1950, 1947], 1273: [2126, 2125, 722, 2129, 2034, 1111, 2124, 1119], 1274: [239], 1275: [405, 1468], 1276: [1022, 458, 1022, 1962], 1277: [755], 1278: [2305, 2268, 2306], 1279: [2203, 2186, 731, 901], 1280: [449, 2612], 1281: [1358, 1746, 1748, 977], 1282: [1483, 1776, 1735, 1283, 684, 741, 1776, 2324, 905], 1283: [1776, 2324, 1282], 1284: [1358, 1103, 757, 2450, 998, 902, 1604], 1285: [711, 2182], 1286: [538], 1287: [1358, 59, 481, 1164], 1288: [88, 1309], 1289: [1705, 1622], 1290: [2258, 1213, 212, 2258], 1291: [1224, 1660, 2154], 1292: [1358, 1317, 689], 1293: [1013, 2418, 65], 1294: [733, 352], 1295: [1171, 1987], 1296: [440, 1910, 35, 728, 1911, 1912, 1913, 1913, 895], 1297: [598, 316, 766], 1298: [2703], 1299: [1810, 1701, 598], 1300: [1542, 2508, 1941, 507, 1940, 1933, 251, 812, 877], 1301: [1542, 598, 25, 2140, 1316, 1315], 1302: [1006], 1303: [979, 746, 95, 2163, 1026], 1304: [505, 1180, 937, 937], 1305: [1358, 466], 1306: [1317, 364], 1307: [2536, 1444, 804, 802, 922], 1308: [1229, 1254, 1627], 1309: [88, 1677, 61, 2102, 2103, 1338, 1288, 995, 1882, 851, 88, 1625, 1741, 2015, 490, 415, 2178], 1310: [2692], 1311: [2080, 468, 1312, 1313], 1312: [904, 1311, 1313], 1313: [468, 573, 2407, 1312, 1311], 1314: [514, 1269, 890], 1315: [1301, 17], 1316: [1679, 927, 1301, 17], 1317: [689, 2220, 1040, 1719, 1720, 1292, 1739, 796, 1306, 2221, 1148], 1318: [12, 2661, 2662], 1319: [2034, 186, 186], 1320: [1050, 1491, 1349, 2684], 1321: [2501], 1322: [2265, 63], 1323: [1701], 1324: [2035, 2265], 1325: [327, 1095, 298, 2247, 1000, 2063], 1326: [928, 2063], 1327: [2161, 1328, 495], 1328: [2160, 495, 1327], 1329: [733, 78, 994], 1330: [1837, 1204, 2068], 1331: [1810, 310, 1576, 1810], 1332: [436, 2024, 621], 1333: [1973, 2312, 2195, 749], 1334: [1701, 1542, 1950, 1577, 1941], 1335: [1856, 2087, 2090], 1336: [1012, 2032, 1797, 695, 2033, 86, 1452, 2034], 1337: [1701, 2045, 109, 563, 563], 1338: [1309, 2385, 1912], 1339: [1358, 154, 1753], 1340: [1413, 1542, 872, 1943], 1341: [1224, 868, 2425], 1342: [1050, 1050, 1230], 1343: [118, 2316, 836, 255, 2165, 1645, 1507], 1344: [1928, 2315, 25, 724, 815], 1345: [202, 353, 202], 1346: [519, 306, 109, 1670], 1347: [1997, 281], 1348: [1810, 2163, 218, 2605], 1349: [1634, 39, 1320, 2684], 1350: [1443], 1351: [604, 2134, 1592, 907, 1362, 69, 1972, 262, 2282, 1535], 1352: [506], 1353: [661, 97], 1354: [1183, 371, 2270, 400], 1355: [1171, 1957], 1356: [1613], 1357: [2025, 2170], 1358: [797, 1708, 1154, 1149, 1709, 1123, 289, 244, 1710, 1243, 1711, 1712, 929, 689, 708, 1444, 1713, 1562, 1714, 978, 764, 1715, 90, 882, 684, 1716, 170, 501, 754, 524, 744, 1339, 1238, 1717, 1718, 1516, 1646, 951, 1480, 53, 919, 1040, 34, 72, 1719, 970, 357, 823, 1565, 1720, 246, 1483, 1499, 341, 1620, 1721, 1292, 1722, 333, 1103, 30, 686, 1550, 1723, 1189, 645, 876, 1724, 1070, 902, 1725, 1726, 1727, 1041, 1728, 1729, 1730, 1731, 1732, 173, 1733, 1734, 873, 1735, 101, 154, 174, 1736, 155, 156, 1737, 1209, 1738, 1739, 687, 1740, 337, 1568, 73, 985, 796, 613, 757, 1741, 626, 1546, 364, 466, 111, 1229, 1742, 1743, 1744, 1745, 758, 853, 346, 1746, 1492, 59, 228, 1747, 1748, 1281, 1471, 1749, 609, 489, 1750, 1038, 1599, 1389, 616, 1751, 1384, 1287, 999, 552, 326, 1752, 1753, 1754, 1755, 1756, 1305, 1757, 819, 580, 1758, 1759, 1284, 1604, 1760, 1205, 1761, 1762, 1763, 1764, 68, 748, 1765, 831, 957, 1072, 1766, 1145, 1169, 1725, 2597], 1359: [1914, 2278, 1464, 181, 2480], 1360: [1902, 1960, 1650, 541, 647, 904, 1904, 2491], 1361: [565, 1528], 1362: [1914, 1351, 1372], 1363: [1413, 507], 1364: [40], 1365: [1703, 1702, 2509, 2519], 1366: [2248, 368, 1194], 1367: [484, 306, 124, 2143, 1196, 1656, 1584, 980, 1778, 2080], 1368: [702, 2553, 1911], 1369: [1094, 1653, 1530], 1370: [1224, 1525, 2274, 779, 1919, 778, 1975, 2485], 1371: [1393], 1372: [42, 1362], 1373: [1003, 848, 518], 1374: [748], 1375: [2586], 1376: [1848, 239, 2232], 1377: [1840, 2068, 2069, 2070, 2388], 1378: [2058, 2150, 1544], 1379: [2564, 1380], 1380: [1050, 2564, 1379], 1381: [798, 1794], 1382: [1502, 281, 2176, 2283, 218], 1383: [806, 403], 1384: [1358, 1229], 1385: [1015, 2335, 714], 1386: [727, 2570, 2571, 2570], 1387: [1190], 1388: [2197, 2181, 257, 964, 734, 736], 1389: [1358, 341, 2597], 1390: [856, 2681], 1391: [1693], 1392: [710, 51, 2212], 1393: [1371], 1394: [211, 88, 2137], 1395: [2072, 679, 2266, 2189, 2267, 948], 1396: [2394, 1399, 2395, 2228, 1421, 2109], 1397: [861], 1398: [565, 1528], 1399: [2227, 2309, 2394, 1501, 1396], 1400: [886, 2698], 1401: [89, 1153, 1585, 258, 761], 1402: [1616, 1163, 1919, 1482, 1972], 1403: [465, 1013, 2317], 1404: [2375], 1405: [1894, 1053, 229, 1508], 1406: [922, 2387], 1407: [1263], 1408: [1829, 1826, 370, 1553, 1828], 1409: [360, 1553, 1828, 1826, 1827], 1410: [897, 1121, 1203, 1655], 1411: [2218], 1412: [1483, 1735, 704, 2450, 1743], 1413: [338, 1340, 219, 776, 1931, 1932, 1363, 402, 1933, 1934, 872, 1935, 253, 251, 812, 1936, 877, 1542, 507, 251], 1414: [1415, 370, 371, 2270], 1415: [392, 2269, 371, 1414, 370, 371], 1416: [1921, 1922, 149, 61, 305, 1118, 1008, 1923, 718, 30, 1924, 6, 1925, 572, 1926, 1468, 1602, 74], 1417: [1703, 963, 2350, 1529, 1452, 2260, 529], 1418: [78], 1419: [2259, 2260, 529], 1420: [2394, 2396, 1421], 1421: [1975, 2394, 1420, 1085, 2110, 1396, 2109], 1422: [837], 1423: [1692, 591], 1424: [1813, 1621], 1425: [1015, 1618], 1426: [760, 480, 1751], 1427: [1742, 2446, 860, 1725], 1428: [2376, 1429, 2520, 2336, 2524, 1429, 1534, 1202], 1429: [1428, 1428, 2520, 1534], 1430: [1718, 632], 1431: [998, 976, 998], 1432: [1950, 1054, 2663, 1049], 1433: [2359, 1035, 931], 1434: [1986, 445], 1435: [1927, 2059, 2071], 1436: [2259], 1437: [1688], 1438: [2664], 1439: [2676, 200], 1440: [1701, 869], 1441: [454, 241, 540, 720, 1060, 50, 2271, 648, 2272, 750, 1619, 1707, 1700, 2273, 2274, 1954, 590, 1957, 1958, 265, 1128, 2275, 371], 1442: [432, 2462], 1443: [1240, 963, 2645, 1094, 1350, 2399, 2240, 1094, 761], 1444: [1358, 2323, 1307, 154], 1445: [681, 681, 1446], 1446: [681, 1445, 681], 1447: [1928], 1448: [2034, 2045, 505, 102, 1251], 1449: [2681], 1450: [321, 1083, 1225, 321], 1451: [194, 194, 2564], 1452: [1336, 1015, 1417], 1453: [1701, 1986], 1454: [2], 1455: [441, 1537], 1456: [1457], 1457: [649, 1019, 1456], 1458: [982], 1459: [2218, 2080], 1460: [1185, 2358, 2349], 1461: [2248, 1634], 1462: [1119, 1611, 1663, 1235], 1463: [490, 2131, 276, 2132, 1695, 2133, 555], 1464: [1013, 1914, 712, 1482, 850, 262, 1683, 181, 1359], 1465: [1799, 1488], 1466: [1041], 1467: [52, 2172, 52], 1468: [1416, 1275, 146], 1469: [756, 1692, 2349, 1498, 2346, 2358, 2590, 1498], 1470: [1824, 801, 1953, 1555, 2553, 1070], 1471: [1358, 1646], 1472: [756, 2187, 240, 512, 1692], 1473: [598, 165, 2707, 598, 2706], 1474: [2261, 2335, 1908, 593], 1475: [1017, 2469, 2470, 614, 888], 1476: [404, 1170], 1477: [1542, 1098, 2066, 2067], 1478: [1072, 1902, 694], 1479: [1701, 873, 1894, 261], 1480: [1358, 1103], 1481: [1042, 1015, 2335, 2332, 1669], 1482: [1973, 1464, 955, 1402, 2132], 1483: [1358, 1072, 306, 2208, 969, 742, 562, 754, 389, 1620, 1726, 1735, 905, 704, 1743, 1282, 359, 1249, 1077, 1412, 2113, 2083, 2113], 1484: [2383, 2498, 2520, 299], 1485: [1914], 1486: [650, 1035, 1745], 1487: [1849, 2017, 2137, 1501], 1488: [411, 2601, 1465, 792], 1489: [1004], 1490: [306, 2327, 2085], 1491: [1320], 1492: [1358, 1765], 1493: [429], 1494: [436, 88, 897], 1495: [645, 437, 93], 1496: [974], 1497: [2034, 549], 1498: [2025, 2349, 1469, 1469, 2590], 1499: [1358, 1776, 1214, 337, 337], 1500: [1538, 1131, 1133, 2185], 1501: [1399, 1074, 2395, 1487, 1676, 2228, 116], 1502: [1382, 1200, 2163, 1503], 1503: [979, 2241, 2243, 2243, 1502], 1504: [2209, 1647], 1505: [1624, 1072, 36, 330, 1146, 773, 2086, 530, 1699, 1801, 1788, 1552, 2107], 1506: [1146, 1229], 1507: [118, 446, 989, 1343, 1645, 2436], 1508: [2117, 1894, 1405], 1509: [1262, 189, 189], 1510: [1202, 2387, 1046, 1162, 1046], 1511: [1519], 1512: [2023, 2145, 945, 342], 1513: [760, 1830, 567], 1514: [1692], 1515: [2182, 2234], 1516: [1358, 2612], 1517: [1042, 74], 1518: [1063, 577, 1129], 1519: [1015, 2335, 2108, 147, 1511, 1534, 2640], 1520: [1103, 1765, 83, 1750], 1521: [1013, 98], 1522: [39, 1697, 2680], 1523: [548, 2449], 1524: [1693, 434, 2499], 1525: [1914, 1973, 1224, 1370], 1526: [1879, 1977, 2099, 1981, 1224, 868, 2425], 1527: [88, 415, 1668, 2450, 60, 331, 860, 2274], 1528: [565, 1398, 513, 1361, 427], 1529: [1115, 1178, 1984, 2350, 1908, 1266, 1417], 1530: [2464, 89, 2240, 1369, 43], 1531: [1889, 1264, 443, 248], 1532: [39, 2648], 1533: [2671, 492, 1109, 726], 1534: [1428, 1429, 911, 1082, 1519], 1535: [95, 2155, 2293, 280, 1916, 1351], 1536: [186, 2580, 1228, 2702], 1537: [441, 1455, 119], 1538: [1500, 1842, 747, 2185, 643, 118, 1131, 1133, 2185], 1539: [1914], 1540: [1628, 525, 2054], 1541: [1005], 1542: [918, 990, 338, 1939, 1340, 219, 776, 1940, 1931, 1334, 1941, 402, 1607, 1413, 872, 1942, 1177, 1176, 1300, 1935, 1477, 1943, 297, 251, 812, 1936, 1301, 877, 1577, 1607, 216], 1543: [2029, 1881, 735, 739], 1544: [1378], 1545: [2248, 368], 1546: [1358, 687, 2169, 1804, 341], 1547: [2169], 1548: [171, 790], 1549: [119, 1901, 2286], 1550: [1358, 2083, 748], 1551: [306, 126], 1552: [36, 1505, 1089, 2591, 1778], 1553: [1827, 1409, 371, 1408], 1554: [1657, 2687, 2686, 1657, 2688], 1555: [1470, 458, 2363, 1953], 1556: [888], 1557: [957, 2168, 650, 2083], 1558: [2338, 1014, 2339, 792, 1191, 879, 1986, 2340], 1559: [283, 1260], 1560: [1623, 505, 18], 1561: [1623, 102], 1562: [1358, 1765], 1563: [2633], 1564: [1772, 1786], 1565: [1358, 2365], 1566: [1895, 2071, 768, 1199, 1732], 1567: [1874, 722, 2500, 722, 1654], 1568: [1358, 748, 154, 1729], 1569: [1966, 1050, 450], 1570: [743, 696, 571], 1571: [1045], 1572: [236, 306, 836, 1776], 1573: [598, 2698], 1574: [1986, 519, 1066], 1575: [473], 1576: [1810, 1331], 1577: [1099, 1334, 1542, 1055, 1054, 411, 1221], 1578: [2497], 1579: [47, 559, 1183, 1182, 2029], 1580: [2199, 544, 2200, 2199, 95, 1892, 456], 1581: [1810, 310, 1819], 1582: [44], 1583: [1013, 2025, 1224, 973, 1995, 366, 1127, 376, 1120, 553], 1584: [306, 1367, 1798], 1585: [89, 1401, 1653], 1586: [2168, 687, 173], 1587: [1224, 2154], 1588: [2333, 1047, 1047, 2055], 1589: [2596, 101, 1745], 1590: [794, 863], 1591: [2541], 1592: [1914, 2071, 1351, 779, 2485], 1593: [213, 537, 144, 1165, 145, 1165], 1594: [31], 1595: [2246], 1596: [2476], 1597: [432, 320], 1598: [2367, 1093, 640, 1147, 1090], 1599: [1358, 1199, 2614, 2460, 2441, 110], 1600: [1059], 1601: [1750], 1602: [1204, 1416, 2072, 2073, 2074, 6, 100, 2054, 95, 315], 1603: [968], 1604: [1358, 1284, 902, 46, 902], 1605: [1950, 1054, 2663], 1606: [364, 764, 819], 1607: [1542, 1221, 1099, 1542], 1608: [2124, 2126, 2489, 546], 1609: [1790, 1791, 1912], 1610: [565, 687, 244, 2556, 312, 2557, 565, 2558], 1611: [2124, 1462, 2124], 1612: [764], 1613: [1356], 1614: [210, 2034, 1671], 1615: [1665], 1616: [2050, 1402, 412, 56, 539, 581, 447, 1849, 118], 1617: [748], 1618: [429, 1015, 1143, 1789, 1425], 1619: [1441, 392, 2269], 1620: [1358, 1483, 2450, 742, 905, 359], 1621: [1424, 1192], 1622: [1289, 124, 1270, 2425], 1623: [608, 1767, 1768, 1769, 542, 1770, 112, 660, 1771, 980, 314, 556, 459, 1772, 139, 1773, 1561, 1774, 126, 102, 1775, 1776, 350, 1777, 887, 1251, 1778, 1779, 1780, 581, 1781, 452, 153, 384, 133, 1782, 1783, 1144, 719, 1560, 910, 1784], 1624: [1196, 1785, 1505, 317, 1786, 1705, 1787, 1777, 887, 589, 1788, 1778, 1779, 1780, 384, 109, 409], 1625: [1013, 1309, 1729], 1626: [210], 1627: [1740, 1229, 1308, 59], 1628: [2053, 597, 1540, 1635, 1042, 2054, 2055, 142, 2056, 65, 2057, 1139, 2021, 1117, 2172, 525, 2054, 95], 1629: [1711, 1659, 5], 1630: [2227, 737, 1269], 1631: [2196, 736], 1632: [16, 364, 1756], 1633: [1096], 1634: [82, 1349, 39, 1050, 2393, 1461], 1635: [1628, 763, 1158, 2383], 1636: [1701, 2139, 2141, 24, 598], 1637: [1973, 702], 1638: [831], 1639: [1688, 2679, 177], 1640: [306, 36, 350], 1641: [833, 2495, 637], 1642: [439, 2657, 2658], 1643: [348], 1644: [1013, 415], 1645: [1343, 989, 795, 1507], 1646: [1358, 1471], 1647: [2160, 2209, 108, 1504], 1648: [1210], 1649: [94], 1650: [1360, 107, 1113, 971], 1651: [2045, 306, 1248], 1652: [604, 498, 1972, 1848, 725], 1653: [89, 1369, 43, 1094, 1585], 1654: [2034, 1952, 1567, 835], 1655: [1131, 1410, 149, 1842, 1121, 1131, 2295, 2136, 2384, 1894, 11, 1839, 2282], 1656: [306, 1367, 1798], 1657: [2686, 1554, 1554, 2688], 1658: [88, 2018], 1659: [1629, 5, 5], 1660: [1224, 1291, 2154], 1661: [1013, 109, 454, 1851], 1662: [1666, 2381, 2398, 2381, 2398, 48], 1663: [1119, 1462, 2577], 1664: [455, 785, 2147, 607], 1665: [962, 1701, 2034, 1615], 1666: [49, 606, 1662, 2381, 48, 2], 1667: [438, 162, 651], 1668: [355, 1527], 1669: [429, 2332, 1892, 2332, 1892, 1481], 1670: [519, 133, 308, 303, 1346], 1671: [210, 1614, 1929, 1968, 2136, 2137], 1672: [186], 1673: [2660], 1674: [1914, 2608, 891], 1675: [1013, 1914, 1074, 1676], 1676: [1914, 1975, 1501, 1675, 1074], 1677: [88, 1309, 415, 191, 1908], 1678: [833, 1746, 833], 1679: [1247, 2140, 1316], 1680: [2056, 2576], 1681: [1012, 2318, 459, 2319, 695, 407, 2320, 948, 409], 1682: [733, 1012, 2321, 2189, 2291, 2319, 695, 407, 2320, 948], 1683: [1973, 1464, 2132, 181], 1684: [2486, 2513, 2486], 1685: [957, 650, 2083], 1686: [2647], 1687: [28, 1003, 246, 1721], 1688: [1437, 1639, 2671], 1689: [155, 156], 1690: [118, 2112], 1691: [700], 1692: [756, 756, 2345, 2186, 2302, 2346, 2187, 1423, 2347, 2348, 503, 574, 1469, 1514, 1472, 240, 2349, 172, 512, 291], 1693: [1391, 965, 1524, 2408, 434], 1694: [333], 1695: [1463, 276, 2133, 2133], 1696: [1713], 1697: [1986, 2253, 1522, 1119], 1698: [2160, 537], 1699: [484, 1065, 1505], 1700: [1441], 1701: [1852, 1853, 1854, 157, 1241, 664, 261, 1855, 547, 1665, 467, 532, 1856, 343, 1075, 1857, 1858, 1052, 215, 1212, 318, 335, 205, 1859, 874, 1334, 1299, 1860, 416, 1861, 767, 235, 1453, 729, 1862, 1023, 1799, 1440, 869, 1479, 1337, 633, 143, 232, 231, 216, 1863, 1864, 1820, 1865, 1866, 13, 201, 1846, 1867, 563, 784, 1868, 158, 1636, 24, 1869, 699, 1870, 1871, 1872, 1873, 1874, 1875, 226, 1323, 1876, 1100, 1877], 1702: [1703, 1365, 463, 1970, 1703, 1971, 1966, 1234, 22, 1240, 2238], 1703: [1365, 1967, 789, 759, 463, 1906, 1968, 1417, 1969, 1970, 1702, 1971, 1966, 1234, 22, 1702, 1966, 2238, 963], 1704: [1986, 1912, 383, 2077], 1705: [1624, 487, 306, 1289, 2081, 1193, 2322], 1706: [558, 2585], 1707: [1441], 1708: [1358, 467, 1857, 2313, 873, 2314], 1709: [1358, 1986, 2365, 1738, 1739], 1710: [1358, 687, 372, 2444, 480], 1711: [1358, 1765, 1629, 1730, 1731], 1712: [1358, 2446, 1725], 1713: [1358, 1898, 88, 1696], 1714: [1358, 1169, 1154, 1727], 1715: [1358, 1154, 58], 1716: [1358, 1214, 2446, 1199], 1717: [1358, 2560, 1731, 1114], 1718: [1358, 1103, 1430, 2685], 1719: [1358, 1317, 1169, 1765], 1720: [1358, 1317, 1169, 1765], 1721: [1358, 689, 687, 1687, 228, 105, 2476, 1761], 1722: [1358, 289, 312], 1723: [1358, 565, 73, 768, 1724], 1724: [1358, 2216, 2215, 768, 1723], 1725: [1358, 687, 2413, 1712, 557, 2596, 1070, 1734, 1358, 1740, 1745, 59, 2334, 1427, 628, 1072, 2597, 1734], 1726: [1358, 2168, 1483], 1727: [1358, 188, 1714], 1728: [1358, 2257, 2555, 961, 2599], 1729: [1358, 1013, 657, 1625, 1568], 1730: [1358, 1711], 1731: [1358, 1169, 1711, 1717, 1755], 1732: [1358, 88, 1224, 748, 1566], 1733: [1358, 1072, 831], 1734: [1358, 1169, 1725, 2597, 1725], 1735: [1358, 1483, 969, 562, 1776, 2324, 1282, 1412], 1736: [1358, 817, 155, 1763], 1737: [1358, 1169, 2616, 1209, 1888, 64], 1738: [1358, 2365, 1709, 2366, 466], 1739: [1358, 1317, 1709, 1886, 53, 1750, 616, 2221, 1766], 1740: [1358, 1072, 657, 312, 915, 2389, 1627, 2390, 2391, 2392, 1804, 268, 1035, 1725], 1741: [1358, 88, 1309, 2593], 1742: [1358, 174, 2443, 2307, 2444, 526, 533, 1007, 1749, 2445, 403, 1427, 1758, 580, 1154], 1743: [1358, 1483, 704, 2450, 969, 742, 389, 1412, 2113], 1744: [1358, 1765], 1745: [1358, 73, 1214, 1725, 2596, 1486, 1589], 1746: [1358, 1281, 1678], 1747: [1358, 1148], 1748: [1358, 1103, 1281], 1749: [1358, 1229, 1742, 2446], 1750: [1358, 1739, 1765, 1766, 1520, 1601], 1751: [1358, 73, 2596, 1426], 1752: [1358, 154, 1754], 1753: [1358, 154, 1339], 1754: [1358, 154, 326, 1752], 1755: [1358, 1765, 1731], 1756: [1358, 650, 364, 1632, 2642, 732], 1757: [1358, 957, 2451], 1758: [1358, 1742, 580, 2466, 860, 464], 1759: [1358, 569, 493, 239], 1760: [1358, 1103], 1761: [1358, 223, 1205, 2175, 4, 1256, 1721], 1762: [1358, 111, 758, 853], 1763: [1358, 817, 1736, 155, 156], 1764: [1358, 628], 1765: [1358, 1711, 1562, 501, 1040, 1719, 823, 1720, 1520, 1744, 1492, 2492, 825, 1750, 1755, 580, 290], 1766: [1358, 1739, 1750], 1767: [1623, 1783], 1768: [1623, 1837, 2325], 1769: [1623, 109, 544, 399], 1770: [1623, 306, 2080, 1245], 1771: [1623, 306, 1778], 1772: [1623, 2045, 306, 109, 1564, 487, 1782, 426], 1773: [1623, 1045, 1789, 1780, 487, 638, 1780], 1774: [1623], 1775: [1623, 306, 103, 484, 350], 1776: [1623, 2045, 138, 1572, 1499, 2078, 2324, 337, 960, 1282, 1735, 1283, 1282], 1777: [1623, 1624, 133, 426, 2143], 1778: [1623, 1624, 1367, 350, 2327, 1771, 1552], 1779: [1623, 1624, 505, 306, 109, 2318], 1780: [1623, 1624, 139, 1773, 1773], 1781: [1623, 306, 36, 1998, 2107], 1782: [1623, 306, 1798, 487, 426, 350, 2326, 1772], 1783: [1623, 1767], 1784: [1623, 1072, 2045, 133, 2096], 1785: [1624, 109, 963, 808, 317], 1786: [1624, 18, 1564], 1787: [1624, 1810, 2045, 306, 109, 2143], 1788: [1624, 1505, 1015], 1789: [1773, 109, 426, 1015, 1618], 1790: [1609, 103, 695], 1791: [1609, 2045, 191, 1197], 1792: [581, 2485], 1793: [798], 1794: [798, 1381, 1796, 1795, 1795], 1795: [798, 1794, 1796, 2299, 828, 1794, 2464], 1796: [1794, 2297, 1795], 1797: [1072, 1336, 306, 1012, 2088], 1798: [1072, 487, 306, 1782, 1656, 958, 1584, 329], 1799: [1072, 1701, 306, 1465], 1800: [1072, 852, 476], 1801: [1072, 1505, 2451, 1035, 2203], 1802: [1072, 2079, 306], 1803: [1072, 77, 354, 659], 1804: [1072, 306, 1740, 1546, 2451], 1805: [1072, 306, 109, 556, 426], 1806: [962, 453, 1809], 1807: [962, 2034, 429, 482, 180], 1808: [962, 1810, 579], 1809: [962, 1810, 1806], 1810: [962, 716, 1062, 1811, 1812, 1576, 1004, 1813, 1814, 1815, 1816, 1107, 511, 1299, 1808, 1817, 1121, 224, 1818, 1819, 1581, 230, 1348, 1787, 795, 1820, 835, 1809, 576, 1821, 13, 1095, 549, 481, 568, 1331, 27, 1822, 790, 1823, 719, 351, 549, 1331, 482, 1869], 1811: [1810, 1822], 1812: [1810, 1986, 2034, 482, 2550], 1813: [1810, 1424], 1814: [1810, 482], 1815: [1810, 310, 1950], 1816: [1810, 829], 1817: [1810, 733], 1818: [1810, 733, 2305, 2306], 1819: [1810, 1948, 1581], 1820: [1810, 1701, 1873], 1821: [1810, 603, 598, 716, 316], 1822: [1810, 1811], 1823: [1810, 598, 1126], 1824: [1825, 1267, 360, 645, 448, 1470, 1826, 1183], 1825: [1824, 472, 392, 1183], 1826: [1824, 1827, 1409, 1408, 1829, 645, 448, 264], 1827: [1553, 1828, 1826, 1409], 1828: [1827, 1409, 238, 1408], 1829: [1408, 1902, 1826, 940, 1070], 1830: [889, 2045, 1067, 1513], 1831: [889, 824], 1832: [889], 1833: [797, 1834, 1035], 1834: [800, 1833, 449, 372, 2359], 1835: [898, 2157, 2160], 1836: [898, 92], 1837: [183, 1330, 1768, 997], 1838: [1204, 95, 2182, 2219], 1839: [1204, 979, 1655, 11, 2424, 2453], 1840: [1013, 1377, 2071], 1841: [1013, 734, 736, 2056, 408], 1842: [1013, 1538, 1203, 1655, 2405, 2281, 1979, 120, 816, 1980], 1843: [1013, 415], 1844: [1013, 868, 2276], 1845: [1013, 894], 1846: [1013, 1701, 2117, 1867, 2357, 1867], 1847: [1013, 88, 415], 1848: [1013, 1652, 325, 1909, 1224, 2419, 1376], 1849: [1013, 1914, 1616, 1487, 447, 412, 56], 1850: [1013, 415, 666, 32], 1851: [1013, 693, 2485, 1224, 118, 1661], 1852: [1701, 2045], 1853: [1701], 1854: [1701], 1855: [1701, 1171], 1856: [1701, 2045, 306, 2096, 1335], 1857: [1701, 304, 1708], 1858: [1701, 899], 1859: [1701, 1986], 1860: [1701], 1861: [1701], 1862: [1701, 926, 0, 2582], 1863: [1701, 532], 1864: [1701, 598, 869, 869, 232], 1865: [1701, 311, 1147], 1866: [1701, 633], 1867: [1701, 2117, 1846, 1846], 1868: [1701, 231, 766, 316], 1869: [1701, 199, 205, 277, 2309, 1097, 203, 465, 420, 1810], 1870: [1701, 1986, 598, 157], 1871: [1701, 102, 417, 228], 1872: [1701], 1873: [1701, 1986, 935, 603, 1820], 1874: [1701, 1106, 722, 2500, 2501, 1567], 1875: [1701, 1986, 598], 1876: [1701, 1986], 1877: [1701, 2573], 1878: [661, 2256, 102], 1879: [661, 1526, 490, 578], 1880: [661, 753, 1269, 479], 1881: [661, 1958, 735, 739, 1543], 1882: [661, 88, 1309, 514, 516], 1883: [661], 1884: [661, 1958, 854, 113, 249, 1885], 1885: [661, 1884, 2644], 1886: [1103, 1739], 1887: [1103, 1888, 1888], 1888: [1103, 1887, 1887, 1737], 1889: [1531, 1890, 1891, 1892, 1893, 2034, 429, 2130, 2039], 1890: [1889, 2130], 1891: [1889, 2034, 2130], 1892: [1889, 1669, 1580, 1669], 1893: [1889, 920], 1894: [1215, 2034, 2117, 1508, 1149, 261, 770, 536, 1479, 229, 1405, 2118, 1049, 1655], 1895: [1566, 645], 1896: [709, 1897, 793, 541], 1897: [1896, 1903], 1898: [379, 755, 1713, 645], 1899: [645, 1902, 2491, 388, 2510], 1900: [645, 2608], 1901: [645, 1954, 119, 1549, 2284, 2286], 1902: [1899, 1829, 793, 1478, 448, 1360, 264, 844, 1903, 1904], 1903: [1902, 2269, 840, 1960, 709, 1897, 793, 2592], 1904: [1902, 1960, 1360], 1905: [210, 1914], 1906: [210, 1964, 1703, 2059, 1907], 1907: [210, 897, 146, 566, 673, 674, 717, 1906], 1908: [211, 88, 415, 1178, 1677, 1474, 1529], 1909: [211, 1848, 1131, 2305, 1171, 239], 1910: [1296, 121], 1911: [1296, 945, 2553, 1368], 1912: [1296, 2404, 1704, 2102, 2103, 1338, 995, 1609, 1174, 435], 1913: [1296, 440, 35, 1296, 895], 1914: [604, 1485, 1592, 921, 1905, 1525, 1674, 955, 830, 1362, 1915, 1539, 596, 41, 1916, 69, 1917, 1918, 506, 1079, 779, 1919, 778, 1920, 1675, 1676, 175, 1849, 1464, 1359, 2388], 1915: [1914, 2649], 1916: [1914, 1535, 907], 1917: [1914, 454, 2457], 1918: [1914, 506], 1919: [1914, 1224, 1370, 779, 1402, 778], 1920: [1914, 1926, 69, 2310, 2422, 2653], 1921: [1416, 827, 315], 1922: [1416, 1008], 1923: [1416, 1927], 1924: [1416, 1927, 942], 1925: [1416, 1042, 2620], 1926: [1416, 69, 2051, 2052, 1920, 1042, 69, 2189], 1927: [405, 1928, 1435, 1929, 305, 146, 1930, 1923, 1924, 769, 1152, 1218, 738], 1928: [1927, 1344, 2317, 1447, 2475], 1929: [1927, 2034, 1671, 1268], 1930: [1927, 1131], 1931: [1413, 1542, 507], 1932: [1413, 402, 1936], 1933: [1413, 507, 1300, 251], 1934: [1413, 338], 1935: [1413, 1542, 877, 1177, 1176, 1176], 1936: [1413, 1542, 507, 402, 1932], 1937: [1938, 548], 1938: [1937], 1939: [1542, 19], 1940: [1542, 507, 402, 1300], 1941: [1542, 1334, 1300, 2508, 507], 1942: [1542, 150, 875], 1943: [1542, 1340], 1944: [352, 336, 1945, 1946, 310, 1945, 1950, 1946], 1945: [1944, 310, 1947, 1272, 1944, 1946, 875], 1946: [1944, 310, 1945, 1950, 1944], 1947: [310, 1945, 1950, 1272], 1948: [310, 1950, 1819], 1949: [310, 1221], 1950: [310, 1241, 1947, 1948, 336, 1815, 892, 1334, 1605, 1272, 1944, 310, 1946, 1054, 1432, 875], 1951: [622, 1952, 2204, 2206], 1952: [622, 2204, 1951, 2205, 1031, 788, 942, 1002, 2206, 1654], 1953: [1470, 458, 1555], 1954: [1955, 1956, 590, 1957, 1958, 1901, 1441, 1128, 2275], 1955: [1954, 1179, 676, 1168, 807, 2235, 1226, 1956], 1956: [1954, 1955, 1226, 807], 1957: [1954, 979, 2241, 1441, 2630, 1355], 1958: [1954, 1881, 1237, 735, 739, 1884, 1441], 1959: [119, 904, 379, 132, 379, 2621], 1960: [1360, 1903, 1904, 2491], 1961: [1022, 703, 801], 1962: [1022, 1276, 1963], 1963: [1022, 1022, 1962], 1964: [1965, 463, 1906, 248, 1966, 1966], 1965: [1964, 39], 1966: [1964, 1703, 1702, 1010, 362, 463, 443, 1964, 1703, 946, 1971, 1569, 1234, 94], 1967: [1703, 275], 1968: [1703, 2034, 1671], 1969: [1703, 2236, 2238], 1970: [1703, 1702, 271], 1971: [1703, 1702, 1966], 1972: [1652, 1351, 1402], 1973: [1333, 1525, 1974, 666, 32, 1637, 1482, 504, 822, 252, 779, 1975, 1976, 490, 1683], 1974: [1973, 578, 737], 1975: [1973, 1421, 2109, 2110, 1676, 1224, 1370], 1976: [1973, 147, 502], 1977: [436, 1526], 1978: [436, 514, 249, 621, 478], 1979: [436, 2178, 2405, 1842, 1980], 1980: [436, 2405, 1842, 816, 1979], 1981: [436, 1526, 490], 1982: [436, 130], 1983: [438, 55, 2034, 897], 1984: [438, 651, 1178, 1529, 1266], 1985: [438, 437], 1986: [1987, 1149, 1709, 1574, 1988, 1989, 1812, 179, 1434, 1990, 1991, 1166, 215, 1992, 1993, 566, 673, 335, 1859, 1704, 1994, 1995, 366, 1453, 1127, 460, 1996, 1023, 1997, 151, 232, 745, 743, 160, 1998, 681, 1999, 2000, 476, 2001, 2002, 2003, 1697, 2004, 1095, 201, 2, 968, 45, 71, 2005, 2006, 391, 68, 1870, 1873, 2007, 2008, 1875, 1876, 2009, 519, 1558, 899, 792], 1987: [1986, 2509, 2004, 1295], 1988: [1986, 396], 1989: [1986, 460], 1990: [1986], 1991: [1986, 2325], 1992: [1986, 1185], 1993: [1986, 849], 1994: [1986, 169], 1995: [1986, 745, 1583, 553], 1996: [1986, 327, 8, 2063, 2064], 1997: [1986, 1347, 2412], 1998: [1986, 519, 109, 191, 695, 1781, 2326, 1197], 1999: [1986, 285, 818, 827], 2000: [1986, 160, 267, 314], 2001: [1986, 429, 2335, 2378, 2044, 2348, 503, 574, 2379, 2380, 2121, 2002, 2003, 91, 2123, 2381, 91], 2002: [1986, 2001, 2379], 2003: [1986, 2001, 2123, 332, 185], 2004: [1986, 1987, 316, 180], 2005: [1986], 2006: [1986, 746, 2477], 2007: [1986], 2008: [1986, 733, 2301], 2009: [1986, 2025, 745, 160, 553], 2010: [88, 161, 2016, 118], 2011: [88, 733, 25], 2012: [88, 272], 2013: [88, 471], 2014: [88, 415], 2015: [88, 2071, 1309], 2016: [88, 2071, 2010, 842, 973], 2017: [88, 130, 1487, 815, 2467], 2018: [76, 356, 1658, 851, 2019, 621, 815], 2019: [2018, 973], 2020: [55, 323], 2021: [55, 1628, 2418, 65, 239], 2022: [323, 454, 2190], 2023: [651, 2217, 1512], 2024: [651, 1332, 885, 2178, 478, 2156], 2025: [1357, 149, 671, 2026, 2027, 1583, 1120, 1498, 572, 1110, 2028, 2009], 2026: [2025, 2045, 487, 2096], 2027: [2025, 2360, 1239, 938], 2028: [2025], 2029: [1543, 472, 1579], 2030: [903, 118, 2112], 2031: [903, 2436], 2032: [1336], 2033: [1336, 788, 1002, 740], 2034: [382, 1983, 2035, 1812, 49, 1614, 1929, 2036, 1665, 2037, 14, 1891, 617, 1807, 691, 1026, 1497, 1270, 224, 1968, 2038, 1448, 1889, 417, 2039, 841, 1894, 2040, 2041, 1002, 791, 1336, 86, 141, 158, 2042, 1319, 1654, 2130, 1273], 2035: [2034, 1324, 733], 2036: [2034, 833], 2037: [2034, 180], 2038: [2034, 293], 2039: [2034, 1889, 2042], 2040: [2034, 33, 2122, 2120], 2041: [2034, 429, 48, 788], 2042: [2034, 2039], 2043: [429, 2406], 2044: [429, 2001], 2045: [1852, 1830, 2026, 1856, 1651, 215, 2046, 318, 1772, 1013, 139, 341, 603, 1248, 1448, 1337, 126, 1787, 1776, 2047, 1791, 236, 153, 519, 133, 308, 306, 109, 563, 2048, 699, 1784], 2046: [2045, 236, 484, 306, 2048], 2047: [2045, 294], 2048: [2045, 306, 2046], 2049: [142, 80], 2050: [1616, 2485], 2051: [1926, 1042, 2364], 2052: [1926, 1042, 544, 74], 2053: [1628, 52], 2054: [1628, 525, 1540, 1042, 1628, 2133, 1602, 456, 1139, 95], 2055: [1628, 1042, 1588, 2198, 2198], 2056: [1628, 734, 1841, 1680, 2311, 100, 408, 2576], 2057: [1628, 525], 2058: [635, 2150, 1378], 2059: [405, 1435, 1008, 146, 1906, 718], 2060: [735], 2061: [735], 2062: [735, 701], 2063: [327, 1996, 1325, 928, 1326], 2064: [327, 1996], 2065: [918, 2066, 2067], 2066: [2065, 2122, 1098, 1477], 2067: [2065, 1098, 1477], 2068: [1377, 1330, 861], 2069: [1377, 702, 2070, 2070], 2070: [1377, 702, 2069, 2069], 2071: [1840, 1592, 1435, 755, 1566, 2015, 725, 2016], 2072: [1602, 2182, 1395], 2073: [1602, 1042, 901], 2074: [1602, 2181, 95, 2277, 2181], 2075: [14, 1020, 2076, 2077, 775, 2091, 2667, 2668], 2076: [2075, 218, 180, 2077, 2667], 2077: [2075, 1704, 486, 14, 1020, 2076], 2078: [236, 306, 836, 1776], 2079: [236, 1802, 126], 2080: [487, 306, 1459, 608, 655, 1770, 112, 1245, 1311, 1367], 2081: [484, 1705], 2082: [133, 18], 2083: [505, 957, 2168, 650, 752, 367, 1550, 1557, 1685, 1483], 2084: [306, 350, 409], 2085: [306, 350, 910, 1490, 2089], 2086: [306, 2094, 1505, 1089], 2087: [306, 1335], 2088: [306, 1797], 2089: [306, 350, 2085], 2090: [306, 1335, 350, 656], 2091: [306, 218, 2075], 2092: [109], 2093: [109, 741, 831], 2094: [109, 2086, 530, 2106, 36, 441], 2095: [109, 2329, 2145, 2504, 135], 2096: [2026, 1856, 1009, 937, 859, 1784], 2097: [975, 522, 2098, 79], 2098: [2097], 2099: [1526, 490, 868, 2425], 2100: [803, 830, 1184, 2101], 2101: [2100, 702], 2102: [1309, 2385, 1912], 2103: [1309, 2385, 1912], 2104: [516], 2105: [517, 490], 2106: [2094, 36], 2107: [36, 1505, 1781, 399], 2108: [693, 1519], 2109: [1975, 604, 1421, 1085, 2110, 1396], 2110: [1975, 1421, 2109, 1085], 2111: [711], 2112: [711, 118, 2436, 2030, 255, 1690], 2113: [711, 1483, 704, 1483, 704, 2450, 1743, 1077], 2114: [386, 1083, 2588, 2509, 2519], 2115: [386, 2117, 2519], 2116: [356, 1218], 2117: [1508, 770, 2115, 1894, 1846, 1867, 2118, 386], 2118: [2117, 1894, 229], 2119: [33, 218], 2120: [33, 665, 442, 2040, 2637], 2121: [33, 2122, 2001], 2122: [627, 196, 2066, 1051, 2040, 2121, 91, 2123, 665, 332], 2123: [2122, 2001, 91, 330, 2380, 2003], 2124: [2125, 1611, 2126, 2127, 1119, 1608, 2126, 1273, 1611], 2125: [2124, 1119, 2126, 1273, 1111], 2126: [2124, 2125, 870, 1235, 1273, 1111, 2124, 1119, 1608], 2127: [2124, 1119, 2130, 546, 546], 2128: [1119, 2129], 2129: [1119, 1273, 2128, 1111, 1119], 2130: [983, 1890, 430, 1891, 691, 1889, 791, 2127, 2034, 912, 2249, 1261], 2131: [1463, 2182, 2133], 2132: [1463, 1683, 1163, 1482], 2133: [1463, 2054, 2182, 434, 1695, 2131, 276, 1695], 2134: [1351, 921], 2135: [190, 2282, 175], 2136: [1671, 1121, 737, 1655], 2137: [1671, 1394, 1487], 2138: [548, 598, 944], 2139: [2140, 1636, 24, 2141], 2140: [2139, 1679, 927, 1301, 17], 2141: [2139, 1636, 2142, 24], 2142: [2141], 2143: [1367, 303, 1787, 1777], 2144: [137, 2145, 2329, 2504, 135, 2331], 2145: [2144, 18, 1512, 2095], 2146: [1242, 846, 2147, 1101, 374, 2148, 374, 509], 2147: [2146, 374, 2486, 455, 1664, 658], 2148: [2146, 509, 1242, 1101], 2149: [374], 2150: [2058, 1378], 2151: [1224, 93, 2423], 2152: [1224, 2385], 2153: [1224, 973, 2155], 2154: [1224, 1660, 1587, 1291], 2155: [1224, 2293, 1535, 1118, 993, 586, 280, 2153, 2294, 1131, 2295, 1152, 539, 74, 1143, 749, 1203], 2156: [1224, 324, 651, 2024], 2157: [1835, 108, 2158, 2159, 2160], 2158: [2157], 2159: [2157, 2160, 23], 2160: [2161, 1835, 898, 1698, 1328, 1647, 2159, 2157], 2161: [2160, 1327], 2162: [61, 2163, 30, 1080, 738], 2163: [2162, 1073, 1303, 1348, 1502], 2164: [87, 2217, 2282], 2165: [118, 1343, 279], 2166: [118, 1029], 2167: [957], 2168: [2169, 834, 1033, 1586, 876, 1726, 1557, 2083], 2169: [2168, 683, 131, 1546, 1547], 2170: [1357, 2171], 2171: [2170], 2172: [1467, 1628, 52, 525, 2182], 2173: [2174, 939], 2174: [2173], 2175: [982, 2176, 1761, 4, 1256], 2176: [2175, 982, 1382, 595, 4, 1256, 1016, 4, 1091, 1256], 2177: [644, 2367, 398, 2371], 2178: [415, 737, 2024, 76, 1979, 88, 1309], 2179: [440], 2180: [525, 81, 257, 2183, 2182], 2181: [525, 2196, 2197, 1388, 142, 2074, 2202, 95, 2074], 2182: [525, 415, 525, 1838, 2072, 2131, 1285, 2180, 95, 858, 2231, 2232, 2198, 1515, 2233, 2133, 1139, 239, 52, 2172], 2183: [525, 2180, 95], 2184: [441, 70], 2185: [1538, 1131, 1133, 1538, 1500], 2186: [756, 901, 2199, 1279, 1692], 2187: [756, 1472, 1692, 172], 2188: [454], 2189: [454, 847, 69, 1926, 1395, 1682], 2190: [454, 2022], 2191: [387], 2192: [213, 537, 144, 495], 2193: [2194, 2194], 2194: [2193, 2193, 324, 1120, 2195, 214], 2195: [2194, 1333, 594, 663], 2196: [1631, 2181], 2197: [1388, 965, 2181, 95, 734, 736], 2198: [1042, 2182, 751, 2055, 964, 2055], 2199: [2200, 2186, 731, 2201, 680, 901, 544, 1580, 95, 1580, 456], 2200: [2199, 95, 1580], 2201: [2199, 95, 552], 2202: [2181, 734, 736, 751], 2203: [1279, 2511, 731, 2330, 1801], 2204: [1952, 2521, 1951], 2205: [1952, 48, 788], 2206: [1952, 1951, 48], 2207: [979, 2241, 1200], 2208: [1483], 2209: [1504, 1647, 108], 2210: [864, 104], 2211: [1065, 2356], 2212: [710, 708, 2216, 1392], 2213: [710, 51, 421], 2214: [51, 2216, 1201], 2215: [51, 2216, 1724, 457], 2216: [2214, 708, 2215, 2212, 1724, 421, 457], 2217: [2023, 96, 2164, 231, 175], 2218: [1459, 1411], 2219: [475, 1838, 485, 475], 2220: [1317, 1169, 2221, 1148, 2525], 2221: [1317, 2507, 2220, 823, 1739, 1148], 2222: [75, 2224, 284, 2225], 2223: [75, 2224, 284, 84], 2224: [75, 2222, 2223, 2226, 2225, 84, 583, 284, 583], 2225: [75, 2224, 284, 2222, 583], 2226: [2224, 284, 84], 2227: [266, 1399, 1630, 1269, 2228, 634], 2228: [2227, 809, 2394, 1501, 1396, 2395], 2229: [266, 809, 601], 2230: [482, 938, 2296, 606], 2231: [2182, 2292], 2232: [2182, 315, 1376], 2233: [2182, 2291, 636], 2234: [1515], 2235: [1955, 612, 676], 2236: [2237, 151, 1969, 805], 2237: [2236, 1240, 2238], 2238: [627, 2239, 2237, 2240, 152, 151, 1969, 1703, 1702, 706, 22], 2239: [2238], 2240: [2238, 963, 2399, 152, 1157, 1530, 1443], 2241: [1191, 2207, 1503, 1957, 2242, 500], 2242: [2241, 2539], 2243: [2244, 2245, 1107, 1503, 2246, 1503], 2244: [2243, 281], 2245: [2243, 2246], 2246: [2243, 2247, 2245, 1595], 2247: [281, 2509, 2246, 1086, 2543, 1325, 972], 2248: [1545, 428, 856, 1071, 1138, 1255, 348, 1257, 996, 1366, 1461, 2249, 837, 1257, 1135], 2249: [2248, 2518, 368, 2671, 1257, 2130], 2250: [283, 1260, 348, 1138], 2251: [121, 1158, 2252], 2252: [121, 1158, 2251], 2253: [1697], 2254: [1146], 2255: [225], 2256: [1878, 102], 2257: [1728], 2258: [1290, 1290], 2259: [1419, 2335, 2337, 1436], 2260: [1419, 1417, 529, 529], 2261: [718, 1474], 2262: [1143, 1015, 1143], 2263: [1015, 94, 2490], 2264: [1104], 2265: [984, 1322, 1324], 2266: [1395, 2267, 2364, 2321], 2267: [1395, 2266], 2268: [1160, 2291, 733, 1278, 309, 383], 2269: [1415, 20, 1619, 392, 1903, 370, 2270], 2270: [1414, 20, 2269, 1354, 2375, 128], 2271: [1441], 2272: [1441], 2273: [1441], 2274: [1441, 1370, 1527], 2275: [1441, 1128, 1954], 2276: [868, 1844, 1115], 2277: [734, 839, 2074], 2278: [850, 1359], 2279: [565, 2466, 110], 2280: [1131, 279, 270, 242, 838, 838], 2281: [1131, 2405, 1842], 2282: [1131, 1655, 816, 2164, 1351, 2135], 2283: [1131, 575, 1382], 2284: [2285, 1901], 2285: [2284, 2286, 451, 989], 2286: [2285, 1901, 1549], 2287: [2288, 826, 610], 2288: [2287, 610, 114], 2289: [444, 584, 2464, 623, 444], 2290: [444, 2464, 1207, 2496, 1102, 444], 2291: [1265, 2292, 2268, 2233, 481, 733, 1682, 377, 715], 2292: [2291, 2231], 2293: [2155, 921, 1535], 2294: [2155, 1141], 2295: [2155, 1110, 897, 1655, 86], 2296: [313, 2230, 1134], 2297: [2298, 1796, 2299], 2298: [2297], 2299: [2297, 1795], 2300: [1196], 2301: [733, 2008], 2302: [733, 1692], 2303: [733, 2541, 45], 2304: [733, 2385, 469, 465], 2305: [1278, 309, 1818, 453, 2306, 1909], 2306: [2305, 453, 1278, 1818, 2552], 2307: [482, 1742, 1067], 2308: [482, 2559, 159, 531], 2309: [1021, 1399, 461, 1043, 210, 994, 1869, 1268], 2310: [1920, 21], 2311: [2056, 2576], 2312: [1333, 61], 2313: [873, 1708], 2314: [767, 1708], 2315: [1344], 2316: [1343], 2317: [1928, 1403, 25], 2318: [1681, 1779], 2319: [1681, 1682, 695], 2320: [1681, 1682], 2321: [1682, 2266], 2322: [1705], 2323: [344, 1444], 2324: [1776, 1735, 1283, 1282], 2325: [1768, 1991, 508], 2326: [878, 1998, 1142, 1782], 2327: [2328, 1490, 1778, 699], 2328: [2327], 2329: [2330, 137, 397, 2331, 2144, 2095], 2330: [2329, 2203, 861], 2331: [2329, 2144], 2332: [1125, 1669, 1481, 1669], 2333: [1042, 1047, 1588], 2334: [174, 1725], 2335: [1385, 627, 2336, 151, 2259, 2001, 1519, 1474, 1481], 2336: [2335, 1428, 1202, 2524, 1046, 2524], 2337: [2259], 2338: [1558, 2555], 2339: [1558, 1191, 843, 2340], 2340: [1558, 2339], 2341: [780], 2342: [1259], 2343: [2344, 30], 2344: [2343, 1080, 279, 2475], 2345: [1692], 2346: [1692, 2349, 1469], 2347: [1692, 544, 456], 2348: [1692, 576, 2001], 2349: [1692, 2346, 2358, 1469, 1498, 1185, 1460], 2350: [1178, 1529, 1417], 2351: [577, 906, 849, 1064, 1129, 394], 2352: [577, 1064, 1129], 2353: [577, 906, 1129], 2354: [577], 2355: [2356, 2357, 94, 2357], 2356: [2355, 2357, 934, 2211, 675], 2357: [2355, 94, 2355, 2356, 39, 1846], 2358: [2349, 1185, 1469, 631, 1460], 2359: [1171, 687, 797, 1834, 1175, 1136, 1189, 480, 2372, 290, 1433, 480], 2360: [606, 2027, 27, 2578], 2361: [606], 2362: [442], 2363: [125, 1555], 2364: [667, 2266, 2051], 2365: [1709, 970, 1565, 1738, 616, 391, 998], 2366: [1738, 46, 686], 2367: [395, 2368, 2369, 894, 765, 1271, 2177, 2370, 1093, 1090, 2371, 1598, 15, 1147], 2368: [2367, 2370], 2369: [2367, 2370], 2370: [2367, 2368, 2369], 2371: [2367, 1147, 2177], 2372: [687, 2359, 480], 2373: [267, 267], 2374: [20], 2375: [20, 371, 2270, 1404], 2376: [1428, 1202, 783, 911, 1061, 813, 1143, 1143], 2377: [372], 2378: [2001, 1018], 2379: [2001, 1107, 2002], 2380: [2001, 91, 2123], 2381: [2001, 1666, 1662, 1662], 2382: [814, 1158, 2383], 2383: [2382, 893, 1484, 299, 814, 1635, 588, 1051, 893, 808, 924], 2384: [1655], 2385: [2152, 2102, 2103, 1338, 995, 2304, 191], 2386: [885, 299, 1082], 2387: [638, 271, 1406, 299, 1046, 1510], 2388: [728, 551, 1914, 1377, 175, 945], 2389: [1740, 2451], 2390: [1740, 2451, 1041, 489, 2391, 2391], 2391: [1740, 2451, 489, 2390, 2390], 2392: [1740, 2451, 535], 2393: [1634, 368], 2394: [1399, 1027, 600, 2395, 2396, 1421, 1420, 1085, 504, 88, 2397, 1174, 471, 724, 2228, 1396], 2395: [2394, 1501, 1396, 724, 2228], 2396: [2394, 1420, 504], 2397: [2394], 2398: [1662, 1662, 2493], 2399: [963, 2434, 2240, 43, 1443], 2400: [963, 43], 2401: [963, 375, 2434, 2435], 2402: [781, 2403], 2403: [2402, 836], 2404: [1912], 2405: [2281, 1842, 1979, 120, 816, 483, 1980], 2406: [2043, 523], 2407: [643, 1313, 573], 2408: [1693, 434], 2409: [716, 1057], 2410: [2411], 2411: [2410], 2412: [469, 197, 1997], 2413: [1725, 2414, 2415], 2414: [2413, 1200], 2415: [2413, 2597, 915], 2416: [2417, 1152], 2417: [2416], 2418: [57, 1293, 572, 65, 2021, 65, 239], 2419: [65, 497, 74, 1848], 2420: [640], 2421: [757], 2422: [847, 1920], 2423: [279, 2151, 304, 518], 2424: [195, 1839], 2425: [1341, 2426, 2099, 1622, 1526], 2426: [2425], 2427: [37, 2428, 349], 2428: [2427], 2429: [250], 2430: [201, 570], 2431: [2432, 2432], 2432: [2431, 2431], 2433: [1233], 2434: [1087, 2399, 2401, 963, 375], 2435: [2401, 375], 2436: [2031, 989, 1507, 2112], 2437: [168, 167, 2438], 2438: [168, 2437], 2439: [1229, 2530, 867, 2652], 2440: [1229, 657, 2530, 867], 2441: [1229, 1599], 2442: [1229, 657, 2530, 867, 2614], 2443: [1742, 615], 2444: [1742, 580, 464, 2503, 1710, 16], 2445: [1742, 580, 464, 2503], 2446: [1712, 1716, 1749, 609, 2447, 2448, 1427, 1216], 2447: [2446, 609, 1037], 2448: [2446, 1067, 762, 1041, 609], 2449: [1523], 2450: [704, 969, 562, 754, 389, 1620, 1743, 1077, 1527, 1412, 1284, 2113], 2451: [752, 2452, 367, 2389, 1801, 2390, 2391, 2392, 1804, 268, 1757], 2452: [2451, 2685], 2453: [1839, 354], 2454: [122, 99, 26], 2455: [122, 123, 99, 26], 2456: [672, 817], 2457: [499, 1917, 2458, 2649], 2458: [2457, 499], 2459: [760, 2689], 2460: [760, 1599], 2461: [106], 2462: [1442], 2463: [584, 89, 340, 1157], 2464: [1207, 2465, 623, 515, 1102, 444, 584, 1530, 2289, 2290, 1795, 828], 2465: [2464, 515, 1102], 2466: [1758, 425, 533, 1007, 2279], 2467: [2468, 2017], 2468: [2467], 2469: [1475, 365], 2470: [1475, 614, 614], 2471: [48, 2493], 2472: [456, 667, 1017, 192, 642, 591], 2473: [217, 2648], 2474: [217, 243], 2475: [2344, 1928], 2476: [524, 1596, 564, 1169, 1721, 2651, 105], 2477: [2006], 2478: [124], 2479: [1236], 2480: [1359, 331, 712], 2481: [840, 610], 2482: [1056, 167], 2483: [385, 2484], 2484: [385, 369, 2483], 2485: [2050, 1592, 1370, 252, 1851, 1792], 2486: [1684, 455, 2147, 1684], 2487: [85], 2488: [85], 2489: [1608], 2490: [94, 2263], 2491: [1899, 1960, 1360], 2492: [1169, 1765, 111, 758, 301], 2493: [157, 2471, 855, 2398], 2494: [417, 2495], 2495: [2494, 833, 1641, 1130], 2496: [2290], 2497: [388, 703, 1578], 2498: [1484, 299, 271], 2499: [1524, 1117], 2500: [1874, 722, 1567], 2501: [1874, 1106, 1321, 722, 1092, 1092], 2502: [858], 2503: [2444, 1038, 616, 2445, 403, 1216], 2504: [137, 2144, 2095], 2505: [406], 2506: [114], 2507: [2221, 1250, 353], 2508: [1300, 1941, 507], 2509: [1987, 2247, 1365, 2114, 2519], 2510: [1899], 2511: [2203], 2512: [569], 2513: [1684], 2514: [1154, 2515], 2515: [1154, 2530, 246, 936, 2514, 936], 2516: [801, 2517, 694], 2517: [2516, 941], 2518: [148, 381, 148, 381, 996, 2538, 2249, 1257, 1135, 2538], 2519: [1365, 2509, 2114, 2115], 2520: [1484, 1428, 1429], 2521: [2204], 2522: [657, 867, 2656], 2523: [657, 867], 2524: [1428, 1202, 2336, 2336], 2525: [2220, 154], 2526: [585, 560], 2527: [540], 2528: [826, 1226], 2529: [959], 2530: [2439, 2440, 936, 2515, 2442, 871], 2531: [1026], 2532: [460], 2533: [1201], 2534: [729, 2535, 1159, 605, 620], 2535: [1186, 2534], 2536: [1307], 2537: [117, 259], 2538: [381, 2518, 1257, 492, 450, 2518], 2539: [237, 2540, 2632, 2242], 2540: [2539], 2541: [1591, 2303], 2542: [843], 2543: [2247, 1000, 269], 2544: [3], 2545: [10], 2546: [952, 5, 466, 628], 2547: [488, 515], 2548: [582], 2549: [582], 2550: [1812], 2551: [269], 2552: [2306], 2553: [728, 1911, 1368, 1470, 748], 2554: [1136, 2689], 2555: [792, 2338, 961, 1728, 2599], 2556: [1610, 626, 1249], 2557: [1610], 2558: [1610, 626, 1249], 2559: [2308], 2560: [2561, 1717, 1114], 2561: [2560], 2562: [292, 1036], 2563: [1050, 1081], 2564: [1050, 194, 1451, 1380, 1379], 2565: [2566, 2567, 953, 953], 2566: [2565, 953], 2567: [2565, 953], 2568: [1023], 2569: [380, 930, 477, 477], 2570: [1386, 727, 2572, 1386, 2573, 1151], 2571: [1386], 2572: [2570], 2573: [2570, 1877], 2574: [1186], 2575: [1008], 2576: [1680, 2311, 2056], 2577: [1663, 1235], 2578: [2360, 27], 2579: [972, 1086, 1225, 1086], 2580: [972, 186, 186, 1228, 1536], 2581: [449, 83], 2582: [0, 1166, 1862], 2583: [247], 2584: [876], 2585: [558, 1706], 2586: [1375], 2587: [1046], 2588: [2114], 2589: [1185], 2590: [1185, 1469, 1498], 2591: [234, 1552], 2592: [793, 1903], 2593: [1741], 2594: [218, 2680], 2595: [833], 2596: [1725, 1745, 1589, 1751], 2597: [915, 1725, 1734, 1358, 1389, 2415], 2598: [329], 2599: [2555, 1728, 961], 2600: [832], 2601: [1488, 2609], 2602: [2603], 2603: [2602], 2604: [123, 99, 127], 2605: [1348], 2606: [670], 2607: [1003], 2608: [1674, 1900, 891], 2609: [2601, 411], 2610: [1049], 2611: [1239], 2612: [1516, 1280], 2613: [1095], 2614: [494, 2442, 1599, 723, 9], 2615: [332, 2696], 2616: [1737, 64], 2617: [166], 2618: [2619], 2619: [2618], 2620: [1925], 2621: [1959], 2622: [145], 2623: [946], 2624: [44, 2701, 44], 2625: [2626, 2626], 2626: [2625, 2625], 2627: [929], 2628: [67], 2629: [692], 2630: [1957, 2699], 2631: [66], 2632: [2539], 2633: [1563], 2634: [2635, 2636], 2635: [2634], 2636: [2634, 2693], 2637: [2120], 2638: [447], 2639: [917], 2640: [1519], 2641: [535, 936], 2642: [16, 364, 1756, 358], 2643: [111], 2644: [1885], 2645: [29, 706, 258, 1443], 2646: [194], 2647: [1686, 473, 243], 2648: [2473, 1532, 243], 2649: [1915, 2457], 2650: [960], 2651: [59, 105, 2476], 2652: [2439, 357, 871], 2653: [1920, 865], 2654: [1037, 403, 2655], 2655: [2654], 2656: [2522, 1252], 2657: [1642], 2658: [1642], 2659: [967], 2660: [1673], 2661: [12, 1318], 2662: [12, 1318, 1001], 2663: [1605, 1432], 2664: [1438], 2665: [2666, 2666], 2666: [2665, 2665], 2667: [45, 486, 1020, 2076, 2075, 2668, 2668], 2668: [45, 2667, 486, 14, 2075, 2667], 2669: [592], 2670: [837, 1194, 2679], 2671: [2672, 428, 1533, 1071, 1206, 1688, 1135, 2673, 1109, 726, 2249, 2674, 2675, 1257], 2672: [2671], 2673: [2671, 1257, 1257, 492], 2674: [2671, 1109, 2675, 2675], 2675: [2671, 1109, 2674, 2674], 2676: [200, 1439], 2677: [1257, 956], 2678: [1257, 1135, 492], 2679: [1257, 2670, 2682, 1639, 177], 2680: [1522, 2594], 2681: [1449, 361, 1390, 2683, 209], 2682: [2679, 177], 2683: [2681], 2684: [1349, 1320], 2685: [296, 1718, 2452, 732], 2686: [1657, 1554], 2687: [1554, 2688], 2688: [1554, 2687, 1657], 2689: [2554, 2459], 2690: [611], 2691: [71, 206, 71], 2692: [1310], 2693: [2636], 2694: [431, 2695], 2695: [431, 2694], 2696: [2615], 2697: [986], 2698: [1400, 1573], 2699: [2630], 2700: [1151], 2701: [44, 2624], 2702: [186, 1536], 2703: [1298], 2704: [641], 2705: [287], 2706: [165, 2707, 1473, 169], 2707: [598, 165, 1473, 2706]})\n"
          ]
        },
        {
          "output_type": "stream",
          "name": "stderr",
          "text": [
            "<ipython-input-7-89d9b73b9fb2>:13: DeprecationWarning: `np.bool` is a deprecated alias for the builtin `bool`. To silence this warning, use `bool` by itself. Doing this will not modify any behavior and is safe. If you specifically wanted the numpy scalar type, use `np.bool_` here.\n",
            "Deprecated in NumPy 1.20; for more details and guidance: https://numpy.org/devdocs/release/1.20.0-notes.html#deprecations\n",
            "  return np.array(mask, dtype=np.bool)\n"
          ]
        }
      ]
    },
    {
      "cell_type": "code",
      "source": [
        "features"
      ],
      "metadata": {
        "colab": {
          "base_uri": "https://localhost:8080/"
        },
        "id": "OOrZyzCtjYOm",
        "outputId": "3f9320e4-24d0-4c23-e366-180ff58dae4a"
      },
      "id": "OOrZyzCtjYOm",
      "execution_count": 15,
      "outputs": [
        {
          "output_type": "execute_result",
          "data": {
            "text/plain": [
              "<2708x1433 sparse matrix of type '<class 'numpy.float32'>'\n",
              "\twith 49216 stored elements in List of Lists format>"
            ]
          },
          "metadata": {},
          "execution_count": 15
        }
      ]
    },
    {
      "cell_type": "code",
      "source": [
        "features[0].shape"
      ],
      "metadata": {
        "colab": {
          "base_uri": "https://localhost:8080/"
        },
        "id": "Ic9QkfY1Yz-o",
        "outputId": "95f324d0-0fe8-481c-ef0c-841c8cb31f2f"
      },
      "id": "Ic9QkfY1Yz-o",
      "execution_count": 16,
      "outputs": [
        {
          "output_type": "execute_result",
          "data": {
            "text/plain": [
              "(1, 1433)"
            ]
          },
          "metadata": {},
          "execution_count": 16
        }
      ]
    },
    {
      "cell_type": "code",
      "source": [
        "features[1].shape"
      ],
      "metadata": {
        "colab": {
          "base_uri": "https://localhost:8080/"
        },
        "id": "PppApSxuY07x",
        "outputId": "d10762c1-20a1-4b76-ecd3-e35d352ac68f"
      },
      "id": "PppApSxuY07x",
      "execution_count": 17,
      "outputs": [
        {
          "output_type": "execute_result",
          "data": {
            "text/plain": [
              "(1, 1433)"
            ]
          },
          "metadata": {},
          "execution_count": 17
        }
      ]
    },
    {
      "cell_type": "code",
      "source": [
        "1"
      ],
      "metadata": {
        "colab": {
          "base_uri": "https://localhost:8080/"
        },
        "id": "F-YefbDxZFy0",
        "outputId": "968a1ed3-1017-450e-b632-3f2b57597286"
      },
      "id": "F-YefbDxZFy0",
      "execution_count": 18,
      "outputs": [
        {
          "output_type": "execute_result",
          "data": {
            "text/plain": [
              "1"
            ]
          },
          "metadata": {},
          "execution_count": 18
        }
      ]
    },
    {
      "cell_type": "code",
      "source": [
        "train_mask.shape"
      ],
      "metadata": {
        "colab": {
          "base_uri": "https://localhost:8080/"
        },
        "id": "kn3E9Sz8q-gN",
        "outputId": "a6f49c79-cc88-4686-8a37-9be9e0d694c4"
      },
      "id": "kn3E9Sz8q-gN",
      "execution_count": 19,
      "outputs": [
        {
          "output_type": "execute_result",
          "data": {
            "text/plain": [
              "(2708,)"
            ]
          },
          "metadata": {},
          "execution_count": 19
        }
      ]
    },
    {
      "cell_type": "code",
      "execution_count": 20,
      "id": "cd4d2778-7c5a-4063-ae72-513439a662cc",
      "metadata": {
        "id": "cd4d2778-7c5a-4063-ae72-513439a662cc"
      },
      "outputs": [],
      "source": [
        "features = preprocess_features(features)"
      ]
    },
    {
      "cell_type": "code",
      "execution_count": 21,
      "id": "c557b0fc-8f9c-44b7-8de4-1a583332c718",
      "metadata": {
        "id": "c557b0fc-8f9c-44b7-8de4-1a583332c718"
      },
      "outputs": [],
      "source": [
        "support = [preprocess_adj(adj)]\n",
        "num_supports = 1\n",
        "model_func = GCN"
      ]
    },
    {
      "cell_type": "code",
      "execution_count": 22,
      "id": "9915671f-80aa-49fd-adfd-241829baf31c",
      "metadata": {
        "id": "9915671f-80aa-49fd-adfd-241829baf31c"
      },
      "outputs": [],
      "source": [
        "placeholders = {\n",
        "    'support': [tf.sparse_placeholder(tf.float32) for _ in range(num_supports)],\n",
        "    'features': tf.sparse_placeholder(tf.float32, shape=tf.constant(features[2], dtype=tf.int64)),\n",
        "    'labels': tf.placeholder(tf.float32, shape=(None, y_train.shape[1])),\n",
        "    'labels_mask': tf.placeholder(tf.int32),\n",
        "    'dropout': tf.placeholder_with_default(0., shape=()),\n",
        "    'num_features_nonzero': tf.placeholder(tf.int32)  # helper variable for sparse dropout\n",
        "}"
      ]
    },
    {
      "cell_type": "code",
      "execution_count": 23,
      "id": "46987798-0b2b-4b82-9315-f20a43ec8bc2",
      "metadata": {
        "id": "46987798-0b2b-4b82-9315-f20a43ec8bc2",
        "colab": {
          "base_uri": "https://localhost:8080/"
        },
        "outputId": "7d707f64-28be-41ea-88c9-ea1bae088907"
      },
      "outputs": [
        {
          "output_type": "stream",
          "name": "stderr",
          "text": [
            "WARNING:tensorflow:From /usr/local/lib/python3.10/dist-packages/tensorflow/python/util/dispatch.py:1260: calling dropout (from tensorflow.python.ops.nn_ops) with keep_prob is deprecated and will be removed in a future version.\n",
            "Instructions for updating:\n",
            "Please use `rate` instead of `keep_prob`. Rate should be set to `rate = 1 - keep_prob`.\n",
            "WARNING:tensorflow:From /usr/local/lib/python3.10/dist-packages/tensorflow/python/util/dispatch.py:1260: softmax_cross_entropy_with_logits (from tensorflow.python.ops.nn_ops) is deprecated and will be removed in a future version.\n",
            "Instructions for updating:\n",
            "\n",
            "Future major versions of TensorFlow will allow gradients to flow\n",
            "into the labels input on backprop by default.\n",
            "\n",
            "See `tf.nn.softmax_cross_entropy_with_logits_v2`.\n",
            "\n"
          ]
        }
      ],
      "source": [
        "model = model_func(placeholders, input_dim=features[2][1], weight_decay=FLAGS['weight_decay'], hidden1=FLAGS['hidden1'], learning_rate=FLAGS['learning_rate'], logging=True)\n"
      ]
    },
    {
      "cell_type": "code",
      "execution_count": 24,
      "id": "d72ef180-50c8-4f50-8098-acd1bbc8dba3",
      "metadata": {
        "tags": [],
        "id": "d72ef180-50c8-4f50-8098-acd1bbc8dba3"
      },
      "outputs": [],
      "source": [
        "sess = tf.Session()\n",
        "\n",
        "\n",
        "# Define model evaluation function\n",
        "def evaluate(features, support, labels, mask, placeholders):\n",
        "    t_test = time.time()\n",
        "    feed_dict_val = construct_feed_dict(features, support, labels, mask, placeholders)\n",
        "    outs_val = sess.run([model.loss, model.accuracy], feed_dict=feed_dict_val)\n",
        "    return outs_val[0], outs_val[1], (time.time() - t_test)\n",
        "\n",
        "\n",
        "# Init variables\n",
        "sess.run(tf.global_variables_initializer())\n",
        "\n",
        "training_curves = []"
      ]
    },
    {
      "cell_type": "code",
      "execution_count": 25,
      "id": "7fb0d45a-bbb1-4a27-b80b-539c26220720",
      "metadata": {
        "id": "7fb0d45a-bbb1-4a27-b80b-539c26220720",
        "outputId": "dcaac4e7-7318-40ea-b01e-069ee3655d93",
        "colab": {
          "base_uri": "https://localhost:8080/"
        }
      },
      "outputs": [
        {
          "output_type": "stream",
          "name": "stdout",
          "text": [
            "Epoch: 0001 train_loss= 1.95312 train_acc= 0.13700 val_loss= 1.94669 val_acc= 0.22600 time= 8.08129\n",
            "Epoch: 0002 train_loss= 1.94595 train_acc= 0.29100 val_loss= 1.93999 val_acc= 0.38400 time= 0.01877\n",
            "Epoch: 0003 train_loss= 1.93925 train_acc= 0.38200 val_loss= 1.93308 val_acc= 0.43600 time= 0.01703\n",
            "Epoch: 0004 train_loss= 1.93113 train_acc= 0.46300 val_loss= 1.92590 val_acc= 0.46800 time= 0.01517\n",
            "Epoch: 0005 train_loss= 1.92368 train_acc= 0.47600 val_loss= 1.91843 val_acc= 0.49000 time= 0.02368\n",
            "Epoch: 0006 train_loss= 1.91678 train_acc= 0.48900 val_loss= 1.91090 val_acc= 0.50000 time= 0.01425\n",
            "Epoch: 0007 train_loss= 1.90808 train_acc= 0.49900 val_loss= 1.90350 val_acc= 0.53200 time= 0.01718\n",
            "Epoch: 0008 train_loss= 1.89987 train_acc= 0.52800 val_loss= 1.89603 val_acc= 0.54200 time= 0.01172\n",
            "Epoch: 0009 train_loss= 1.89286 train_acc= 0.51100 val_loss= 1.88825 val_acc= 0.54200 time= 0.02242\n",
            "Epoch: 0010 train_loss= 1.88481 train_acc= 0.53100 val_loss= 1.88018 val_acc= 0.55000 time= 0.02810\n",
            "Epoch: 0011 train_loss= 1.87634 train_acc= 0.54000 val_loss= 1.87196 val_acc= 0.54600 time= 0.02259\n",
            "Epoch: 0012 train_loss= 1.86919 train_acc= 0.52300 val_loss= 1.86351 val_acc= 0.54000 time= 0.02362\n",
            "Epoch: 0013 train_loss= 1.85949 train_acc= 0.54400 val_loss= 1.85477 val_acc= 0.52000 time= 0.01805\n",
            "Epoch: 0014 train_loss= 1.84812 train_acc= 0.51800 val_loss= 1.84575 val_acc= 0.49800 time= 0.02000\n",
            "Epoch: 0015 train_loss= 1.84164 train_acc= 0.48500 val_loss= 1.83652 val_acc= 0.48600 time= 0.01396\n",
            "Epoch: 0016 train_loss= 1.83236 train_acc= 0.50600 val_loss= 1.82711 val_acc= 0.48000 time= 0.02423\n",
            "Epoch: 0017 train_loss= 1.82055 train_acc= 0.48800 val_loss= 1.81748 val_acc= 0.47000 time= 0.01185\n",
            "Epoch: 0018 train_loss= 1.80720 train_acc= 0.47400 val_loss= 1.80766 val_acc= 0.46200 time= 0.01479\n",
            "Epoch: 0019 train_loss= 1.79405 train_acc= 0.48600 val_loss= 1.79760 val_acc= 0.45800 time= 0.01181\n",
            "Epoch: 0020 train_loss= 1.78779 train_acc= 0.46800 val_loss= 1.78738 val_acc= 0.45400 time= 0.02115\n",
            "Epoch: 0021 train_loss= 1.77908 train_acc= 0.48000 val_loss= 1.77699 val_acc= 0.45200 time= 0.01598\n",
            "Epoch: 0022 train_loss= 1.77319 train_acc= 0.45400 val_loss= 1.76648 val_acc= 0.45400 time= 0.01691\n",
            "Epoch: 0023 train_loss= 1.75855 train_acc= 0.47100 val_loss= 1.75588 val_acc= 0.45400 time= 0.02570\n",
            "Epoch: 0024 train_loss= 1.74895 train_acc= 0.47800 val_loss= 1.74519 val_acc= 0.45800 time= 0.02210\n",
            "Epoch: 0025 train_loss= 1.73471 train_acc= 0.46000 val_loss= 1.73442 val_acc= 0.45800 time= 0.01105\n",
            "Epoch: 0026 train_loss= 1.73071 train_acc= 0.47500 val_loss= 1.72358 val_acc= 0.46400 time= 0.02182\n",
            "Epoch: 0027 train_loss= 1.70425 train_acc= 0.44700 val_loss= 1.71267 val_acc= 0.46600 time= 0.01391\n",
            "Epoch: 0028 train_loss= 1.71834 train_acc= 0.46300 val_loss= 1.70176 val_acc= 0.46800 time= 0.01986\n",
            "Epoch: 0029 train_loss= 1.68768 train_acc= 0.47000 val_loss= 1.69080 val_acc= 0.47200 time= 0.01286\n",
            "Epoch: 0030 train_loss= 1.67485 train_acc= 0.47900 val_loss= 1.67979 val_acc= 0.47200 time= 0.01600\n",
            "Epoch: 0031 train_loss= 1.67268 train_acc= 0.45400 val_loss= 1.66876 val_acc= 0.47200 time= 0.03349\n",
            "Epoch: 0032 train_loss= 1.66600 train_acc= 0.48000 val_loss= 1.65773 val_acc= 0.47400 time= 0.01346\n",
            "Epoch: 0033 train_loss= 1.64448 train_acc= 0.48300 val_loss= 1.64671 val_acc= 0.47800 time= 0.01844\n",
            "Epoch: 0034 train_loss= 1.63406 train_acc= 0.48300 val_loss= 1.63565 val_acc= 0.47800 time= 0.01771\n",
            "Epoch: 0035 train_loss= 1.62396 train_acc= 0.47600 val_loss= 1.62458 val_acc= 0.48600 time= 0.01638\n",
            "Epoch: 0036 train_loss= 1.62515 train_acc= 0.49200 val_loss= 1.61352 val_acc= 0.49800 time= 0.01996\n",
            "Epoch: 0037 train_loss= 1.60335 train_acc= 0.50200 val_loss= 1.60251 val_acc= 0.49800 time= 0.02308\n",
            "Epoch: 0038 train_loss= 1.58577 train_acc= 0.49300 val_loss= 1.59151 val_acc= 0.51200 time= 0.01184\n",
            "Epoch: 0039 train_loss= 1.58198 train_acc= 0.51400 val_loss= 1.58053 val_acc= 0.52000 time= 0.01835\n",
            "Epoch: 0040 train_loss= 1.58683 train_acc= 0.51600 val_loss= 1.56964 val_acc= 0.52400 time= 0.03518\n",
            "Epoch: 0041 train_loss= 1.56501 train_acc= 0.53100 val_loss= 1.55884 val_acc= 0.52800 time= 0.01152\n",
            "Epoch: 0042 train_loss= 1.55549 train_acc= 0.52700 val_loss= 1.54810 val_acc= 0.53400 time= 0.01263\n",
            "Epoch: 0043 train_loss= 1.53588 train_acc= 0.51700 val_loss= 1.53741 val_acc= 0.53600 time= 0.02348\n",
            "Epoch: 0044 train_loss= 1.52855 train_acc= 0.53600 val_loss= 1.52677 val_acc= 0.53800 time= 0.01277\n",
            "Epoch: 0045 train_loss= 1.51448 train_acc= 0.55200 val_loss= 1.51623 val_acc= 0.54600 time= 0.01869\n",
            "Epoch: 0046 train_loss= 1.50444 train_acc= 0.56900 val_loss= 1.50575 val_acc= 0.55000 time= 0.01864\n",
            "Epoch: 0047 train_loss= 1.50943 train_acc= 0.55600 val_loss= 1.49540 val_acc= 0.55400 time= 0.01971\n",
            "Epoch: 0048 train_loss= 1.49976 train_acc= 0.56300 val_loss= 1.48509 val_acc= 0.55400 time= 0.01114\n",
            "Epoch: 0049 train_loss= 1.46870 train_acc= 0.57900 val_loss= 1.47486 val_acc= 0.56200 time= 0.02999\n",
            "Epoch: 0050 train_loss= 1.46881 train_acc= 0.59300 val_loss= 1.46472 val_acc= 0.57400 time= 0.02726\n",
            "Epoch: 0051 train_loss= 1.46908 train_acc= 0.59500 val_loss= 1.45468 val_acc= 0.57800 time= 0.02737\n",
            "Epoch: 0052 train_loss= 1.46942 train_acc= 0.59000 val_loss= 1.44479 val_acc= 0.58600 time= 0.01243\n",
            "Epoch: 0053 train_loss= 1.44714 train_acc= 0.61000 val_loss= 1.43496 val_acc= 0.59400 time= 0.01664\n",
            "Epoch: 0054 train_loss= 1.41733 train_acc= 0.63400 val_loss= 1.42521 val_acc= 0.60200 time= 0.01143\n",
            "Epoch: 0055 train_loss= 1.41290 train_acc= 0.61500 val_loss= 1.41562 val_acc= 0.60600 time= 0.01304\n",
            "Epoch: 0056 train_loss= 1.40514 train_acc= 0.63600 val_loss= 1.40617 val_acc= 0.61400 time= 0.01734\n",
            "Epoch: 0057 train_loss= 1.39737 train_acc= 0.63900 val_loss= 1.39684 val_acc= 0.61600 time= 0.01729\n",
            "Epoch: 0058 train_loss= 1.37870 train_acc= 0.64000 val_loss= 1.38764 val_acc= 0.63000 time= 0.01473\n",
            "Epoch: 0059 train_loss= 1.38116 train_acc= 0.63400 val_loss= 1.37855 val_acc= 0.64200 time= 0.01267\n",
            "Epoch: 0060 train_loss= 1.37959 train_acc= 0.65200 val_loss= 1.36958 val_acc= 0.65400 time= 0.01486\n",
            "Epoch: 0061 train_loss= 1.36560 train_acc= 0.64900 val_loss= 1.36070 val_acc= 0.66400 time= 0.04427\n",
            "Epoch: 0062 train_loss= 1.35781 train_acc= 0.66400 val_loss= 1.35187 val_acc= 0.68000 time= 0.03588\n",
            "Epoch: 0063 train_loss= 1.36230 train_acc= 0.65600 val_loss= 1.34324 val_acc= 0.68000 time= 0.01708\n",
            "Epoch: 0064 train_loss= 1.33373 train_acc= 0.68000 val_loss= 1.33471 val_acc= 0.68600 time= 0.01649\n",
            "Epoch: 0065 train_loss= 1.33341 train_acc= 0.67900 val_loss= 1.32626 val_acc= 0.68800 time= 0.02490\n",
            "Epoch: 0066 train_loss= 1.31604 train_acc= 0.67800 val_loss= 1.31790 val_acc= 0.69800 time= 0.01628\n",
            "Epoch: 0067 train_loss= 1.30946 train_acc= 0.69300 val_loss= 1.30968 val_acc= 0.70800 time= 0.01532\n",
            "Epoch: 0068 train_loss= 1.31243 train_acc= 0.68200 val_loss= 1.30158 val_acc= 0.72200 time= 0.01324\n",
            "Epoch: 0069 train_loss= 1.27385 train_acc= 0.69000 val_loss= 1.29364 val_acc= 0.72600 time= 0.02101\n",
            "Epoch: 0070 train_loss= 1.28070 train_acc= 0.71500 val_loss= 1.28583 val_acc= 0.73800 time= 0.01859\n",
            "Epoch: 0071 train_loss= 1.25883 train_acc= 0.72000 val_loss= 1.27806 val_acc= 0.74800 time= 0.01942\n",
            "Epoch: 0072 train_loss= 1.27420 train_acc= 0.71700 val_loss= 1.27039 val_acc= 0.75600 time= 0.03574\n",
            "Epoch: 0073 train_loss= 1.25396 train_acc= 0.71600 val_loss= 1.26285 val_acc= 0.76400 time= 0.01775\n",
            "Epoch: 0074 train_loss= 1.26630 train_acc= 0.70700 val_loss= 1.25546 val_acc= 0.77000 time= 0.02636\n",
            "Epoch: 0075 train_loss= 1.26562 train_acc= 0.72300 val_loss= 1.24807 val_acc= 0.77400 time= 0.03393\n",
            "Epoch: 0076 train_loss= 1.26552 train_acc= 0.72800 val_loss= 1.24087 val_acc= 0.78000 time= 0.04356\n",
            "Epoch: 0077 train_loss= 1.25025 train_acc= 0.76700 val_loss= 1.23369 val_acc= 0.79000 time= 0.01455\n",
            "Epoch: 0078 train_loss= 1.23980 train_acc= 0.74800 val_loss= 1.22668 val_acc= 0.79400 time= 0.02018\n",
            "Epoch: 0079 train_loss= 1.24499 train_acc= 0.73900 val_loss= 1.21977 val_acc= 0.79400 time= 0.01634\n",
            "Epoch: 0080 train_loss= 1.24373 train_acc= 0.74700 val_loss= 1.21299 val_acc= 0.79800 time= 0.02966\n",
            "Epoch: 0081 train_loss= 1.19460 train_acc= 0.73900 val_loss= 1.20641 val_acc= 0.80400 time= 0.01387\n",
            "Epoch: 0082 train_loss= 1.19952 train_acc= 0.75300 val_loss= 1.19994 val_acc= 0.80400 time= 0.02804\n",
            "Epoch: 0083 train_loss= 1.19985 train_acc= 0.75500 val_loss= 1.19357 val_acc= 0.80400 time= 0.02315\n",
            "Epoch: 0084 train_loss= 1.20875 train_acc= 0.76000 val_loss= 1.18721 val_acc= 0.80400 time= 0.02743\n",
            "Epoch: 0085 train_loss= 1.20010 train_acc= 0.75000 val_loss= 1.18084 val_acc= 0.80400 time= 0.02231\n",
            "Epoch: 0086 train_loss= 1.18171 train_acc= 0.76100 val_loss= 1.17466 val_acc= 0.80400 time= 0.01548\n",
            "Epoch: 0087 train_loss= 1.18469 train_acc= 0.77300 val_loss= 1.16848 val_acc= 0.80400 time= 0.01856\n",
            "Epoch: 0088 train_loss= 1.15456 train_acc= 0.78100 val_loss= 1.16231 val_acc= 0.80400 time= 0.01310\n",
            "Epoch: 0089 train_loss= 1.20003 train_acc= 0.74500 val_loss= 1.15632 val_acc= 0.81000 time= 0.01676\n",
            "Epoch: 0090 train_loss= 1.17002 train_acc= 0.77300 val_loss= 1.15046 val_acc= 0.81200 time= 0.02009\n",
            "Epoch: 0091 train_loss= 1.16603 train_acc= 0.77100 val_loss= 1.14472 val_acc= 0.81200 time= 0.01499\n",
            "Epoch: 0092 train_loss= 1.14563 train_acc= 0.78700 val_loss= 1.13905 val_acc= 0.81400 time= 0.02276\n",
            "Epoch: 0093 train_loss= 1.13739 train_acc= 0.77600 val_loss= 1.13342 val_acc= 0.81200 time= 0.01603\n",
            "Epoch: 0094 train_loss= 1.15237 train_acc= 0.79400 val_loss= 1.12783 val_acc= 0.81600 time= 0.01892\n",
            "Epoch: 0095 train_loss= 1.17012 train_acc= 0.76600 val_loss= 1.12230 val_acc= 0.82000 time= 0.01166\n",
            "Epoch: 0096 train_loss= 1.13798 train_acc= 0.76300 val_loss= 1.11693 val_acc= 0.81800 time= 0.01580\n",
            "Epoch: 0097 train_loss= 1.12755 train_acc= 0.78400 val_loss= 1.11165 val_acc= 0.81800 time= 0.02214\n",
            "Epoch: 0098 train_loss= 1.12595 train_acc= 0.79300 val_loss= 1.10654 val_acc= 0.81800 time= 0.01638\n",
            "Epoch: 0099 train_loss= 1.11575 train_acc= 0.81400 val_loss= 1.10148 val_acc= 0.82600 time= 0.01902\n",
            "Epoch: 0100 train_loss= 1.09716 train_acc= 0.79400 val_loss= 1.09647 val_acc= 0.82800 time= 0.01182\n",
            "Epoch: 0101 train_loss= 1.10777 train_acc= 0.81200 val_loss= 1.09149 val_acc= 0.83000 time= 0.01792\n",
            "Epoch: 0102 train_loss= 1.08313 train_acc= 0.79500 val_loss= 1.08653 val_acc= 0.83200 time= 0.01979\n",
            "Epoch: 0103 train_loss= 1.09567 train_acc= 0.79500 val_loss= 1.08154 val_acc= 0.83000 time= 0.01158\n",
            "Epoch: 0104 train_loss= 1.11141 train_acc= 0.78600 val_loss= 1.07663 val_acc= 0.83200 time= 0.02604\n",
            "Epoch: 0105 train_loss= 1.10219 train_acc= 0.79900 val_loss= 1.07180 val_acc= 0.83400 time= 0.01205\n",
            "Epoch: 0106 train_loss= 1.08214 train_acc= 0.81400 val_loss= 1.06704 val_acc= 0.83400 time= 0.01292\n",
            "Epoch: 0107 train_loss= 1.05965 train_acc= 0.82400 val_loss= 1.06231 val_acc= 0.83400 time= 0.01169\n",
            "Epoch: 0108 train_loss= 1.07527 train_acc= 0.80500 val_loss= 1.05768 val_acc= 0.83400 time= 0.01178\n",
            "Epoch: 0109 train_loss= 1.06335 train_acc= 0.81400 val_loss= 1.05315 val_acc= 0.83400 time= 0.01238\n",
            "Epoch: 0110 train_loss= 1.04827 train_acc= 0.81600 val_loss= 1.04860 val_acc= 0.83200 time= 0.01146\n",
            "Epoch: 0111 train_loss= 1.07709 train_acc= 0.80800 val_loss= 1.04412 val_acc= 0.83200 time= 0.01202\n",
            "Epoch: 0112 train_loss= 1.05890 train_acc= 0.79400 val_loss= 1.03979 val_acc= 0.83400 time= 0.01421\n",
            "Epoch: 0113 train_loss= 1.05365 train_acc= 0.81600 val_loss= 1.03543 val_acc= 0.83400 time= 0.01563\n",
            "Epoch: 0114 train_loss= 1.07541 train_acc= 0.80900 val_loss= 1.03103 val_acc= 0.83400 time= 0.01239\n",
            "Epoch: 0115 train_loss= 1.05193 train_acc= 0.81500 val_loss= 1.02662 val_acc= 0.83400 time= 0.01634\n",
            "Epoch: 0116 train_loss= 1.03188 train_acc= 0.81200 val_loss= 1.02232 val_acc= 0.83600 time= 0.01833\n",
            "Epoch: 0117 train_loss= 1.03213 train_acc= 0.82000 val_loss= 1.01811 val_acc= 0.83800 time= 0.01412\n",
            "Epoch: 0118 train_loss= 1.03475 train_acc= 0.81300 val_loss= 1.01403 val_acc= 0.83800 time= 0.01188\n",
            "Epoch: 0119 train_loss= 1.05411 train_acc= 0.81600 val_loss= 1.01003 val_acc= 0.83800 time= 0.01197\n",
            "Epoch: 0120 train_loss= 1.02623 train_acc= 0.81100 val_loss= 1.00610 val_acc= 0.83800 time= 0.01238\n",
            "Epoch: 0121 train_loss= 1.02161 train_acc= 0.80900 val_loss= 1.00232 val_acc= 0.84000 time= 0.01440\n",
            "Epoch: 0122 train_loss= 0.99566 train_acc= 0.85100 val_loss= 0.99853 val_acc= 0.84000 time= 0.01142\n",
            "Epoch: 0123 train_loss= 1.02503 train_acc= 0.83100 val_loss= 0.99480 val_acc= 0.84000 time= 0.01142\n",
            "Epoch: 0124 train_loss= 1.00817 train_acc= 0.84300 val_loss= 0.99115 val_acc= 0.84200 time= 0.01976\n",
            "Epoch: 0125 train_loss= 1.03402 train_acc= 0.81500 val_loss= 0.98767 val_acc= 0.84000 time= 0.01304\n",
            "Epoch: 0126 train_loss= 1.00913 train_acc= 0.83300 val_loss= 0.98439 val_acc= 0.84200 time= 0.04174\n",
            "Epoch: 0127 train_loss= 0.99414 train_acc= 0.81700 val_loss= 0.98116 val_acc= 0.84200 time= 0.01407\n",
            "Epoch: 0128 train_loss= 1.01064 train_acc= 0.82200 val_loss= 0.97793 val_acc= 0.84400 time= 0.03344\n",
            "Epoch: 0129 train_loss= 0.99087 train_acc= 0.82100 val_loss= 0.97477 val_acc= 0.84600 time= 0.01169\n",
            "Epoch: 0130 train_loss= 0.98486 train_acc= 0.82500 val_loss= 0.97170 val_acc= 0.84600 time= 0.01706\n",
            "Epoch: 0131 train_loss= 0.99175 train_acc= 0.82200 val_loss= 0.96872 val_acc= 0.84600 time= 0.01411\n",
            "Epoch: 0132 train_loss= 1.01554 train_acc= 0.82800 val_loss= 0.96576 val_acc= 0.84600 time= 0.01017\n",
            "Epoch: 0133 train_loss= 0.99612 train_acc= 0.82400 val_loss= 0.96298 val_acc= 0.84800 time= 0.01881\n",
            "Epoch: 0134 train_loss= 0.98741 train_acc= 0.82400 val_loss= 0.96013 val_acc= 0.84800 time= 0.01049\n",
            "Epoch: 0135 train_loss= 0.98805 train_acc= 0.82800 val_loss= 0.95737 val_acc= 0.85000 time= 0.02170\n",
            "Epoch: 0136 train_loss= 0.99549 train_acc= 0.80400 val_loss= 0.95480 val_acc= 0.85400 time= 0.01970\n",
            "Epoch: 0137 train_loss= 0.99301 train_acc= 0.81700 val_loss= 0.95227 val_acc= 0.85800 time= 0.01121\n",
            "Epoch: 0138 train_loss= 0.98443 train_acc= 0.83600 val_loss= 0.94975 val_acc= 0.85800 time= 0.01769\n",
            "Epoch: 0139 train_loss= 0.98977 train_acc= 0.81600 val_loss= 0.94736 val_acc= 0.85600 time= 0.01079\n",
            "Epoch: 0140 train_loss= 0.96415 train_acc= 0.84100 val_loss= 0.94491 val_acc= 0.85600 time= 0.01861\n",
            "Epoch: 0141 train_loss= 0.98037 train_acc= 0.82900 val_loss= 0.94242 val_acc= 0.85600 time= 0.01133\n",
            "Epoch: 0142 train_loss= 0.97164 train_acc= 0.84800 val_loss= 0.93996 val_acc= 0.85600 time= 0.01689\n",
            "Epoch: 0143 train_loss= 0.94894 train_acc= 0.84800 val_loss= 0.93735 val_acc= 0.85800 time= 0.02450\n",
            "Epoch: 0144 train_loss= 0.96918 train_acc= 0.82700 val_loss= 0.93475 val_acc= 0.85800 time= 0.02632\n",
            "Epoch: 0145 train_loss= 0.94738 train_acc= 0.84700 val_loss= 0.93224 val_acc= 0.85800 time= 0.01169\n",
            "Epoch: 0146 train_loss= 0.96593 train_acc= 0.82900 val_loss= 0.92985 val_acc= 0.85800 time= 0.01152\n",
            "Epoch: 0147 train_loss= 0.95784 train_acc= 0.82600 val_loss= 0.92735 val_acc= 0.85800 time= 0.01178\n",
            "Epoch: 0148 train_loss= 0.94615 train_acc= 0.83200 val_loss= 0.92487 val_acc= 0.86000 time= 0.01519\n",
            "Epoch: 0149 train_loss= 0.97448 train_acc= 0.82500 val_loss= 0.92246 val_acc= 0.86000 time= 0.01936\n",
            "Epoch: 0150 train_loss= 0.93968 train_acc= 0.84000 val_loss= 0.92003 val_acc= 0.86000 time= 0.01191\n",
            "Epoch: 0151 train_loss= 0.94567 train_acc= 0.82900 val_loss= 0.91763 val_acc= 0.86000 time= 0.01103\n",
            "Epoch: 0152 train_loss= 0.94812 train_acc= 0.83300 val_loss= 0.91523 val_acc= 0.85800 time= 0.01212\n",
            "Epoch: 0153 train_loss= 0.92697 train_acc= 0.85600 val_loss= 0.91278 val_acc= 0.85800 time= 0.01604\n",
            "Epoch: 0154 train_loss= 0.93836 train_acc= 0.83900 val_loss= 0.91033 val_acc= 0.85800 time= 0.01317\n",
            "Epoch: 0155 train_loss= 0.94769 train_acc= 0.81900 val_loss= 0.90798 val_acc= 0.85800 time= 0.01340\n",
            "Epoch: 0156 train_loss= 0.90677 train_acc= 0.84800 val_loss= 0.90570 val_acc= 0.86000 time= 0.02147\n",
            "Epoch: 0157 train_loss= 0.91697 train_acc= 0.83300 val_loss= 0.90348 val_acc= 0.86000 time= 0.01937\n",
            "Epoch: 0158 train_loss= 0.94215 train_acc= 0.83700 val_loss= 0.90131 val_acc= 0.86000 time= 0.01990\n",
            "Epoch: 0159 train_loss= 0.94826 train_acc= 0.82900 val_loss= 0.89916 val_acc= 0.85800 time= 0.01283\n",
            "Epoch: 0160 train_loss= 0.94446 train_acc= 0.82500 val_loss= 0.89704 val_acc= 0.85800 time= 0.01958\n",
            "Epoch: 0161 train_loss= 0.91802 train_acc= 0.83800 val_loss= 0.89506 val_acc= 0.85600 time= 0.03568\n",
            "Epoch: 0162 train_loss= 0.93278 train_acc= 0.83900 val_loss= 0.89323 val_acc= 0.85600 time= 0.02038\n",
            "Epoch: 0163 train_loss= 0.91621 train_acc= 0.82000 val_loss= 0.89151 val_acc= 0.85600 time= 0.02450\n",
            "Epoch: 0164 train_loss= 0.90527 train_acc= 0.83200 val_loss= 0.88979 val_acc= 0.85600 time= 0.01561\n",
            "Epoch: 0165 train_loss= 0.92472 train_acc= 0.83000 val_loss= 0.88826 val_acc= 0.85800 time= 0.03870\n",
            "Epoch: 0166 train_loss= 0.93535 train_acc= 0.85300 val_loss= 0.88668 val_acc= 0.85800 time= 0.01975\n",
            "Epoch: 0167 train_loss= 0.92252 train_acc= 0.83100 val_loss= 0.88490 val_acc= 0.85800 time= 0.02004\n",
            "Epoch: 0168 train_loss= 0.93209 train_acc= 0.82700 val_loss= 0.88304 val_acc= 0.85800 time= 0.01132\n",
            "Epoch: 0169 train_loss= 0.91369 train_acc= 0.84300 val_loss= 0.88107 val_acc= 0.85800 time= 0.01993\n",
            "Epoch: 0170 train_loss= 0.90978 train_acc= 0.85400 val_loss= 0.87911 val_acc= 0.85600 time= 0.01224\n",
            "Epoch: 0171 train_loss= 0.88874 train_acc= 0.85000 val_loss= 0.87730 val_acc= 0.85600 time= 0.01993\n",
            "Epoch: 0172 train_loss= 0.95529 train_acc= 0.81700 val_loss= 0.87568 val_acc= 0.85600 time= 0.01519\n",
            "Epoch: 0173 train_loss= 0.92086 train_acc= 0.83300 val_loss= 0.87392 val_acc= 0.85600 time= 0.01180\n",
            "Epoch: 0174 train_loss= 0.89577 train_acc= 0.84700 val_loss= 0.87225 val_acc= 0.85400 time= 0.02528\n",
            "Epoch: 0175 train_loss= 0.88793 train_acc= 0.85000 val_loss= 0.87062 val_acc= 0.85400 time= 0.01969\n",
            "Epoch: 0176 train_loss= 0.90954 train_acc= 0.84600 val_loss= 0.86885 val_acc= 0.85600 time= 0.01981\n",
            "Epoch: 0177 train_loss= 0.89516 train_acc= 0.83700 val_loss= 0.86703 val_acc= 0.85600 time= 0.04132\n",
            "Epoch: 0178 train_loss= 0.92203 train_acc= 0.83600 val_loss= 0.86536 val_acc= 0.85800 time= 0.01808\n",
            "Epoch: 0179 train_loss= 0.86335 train_acc= 0.84700 val_loss= 0.86362 val_acc= 0.85800 time= 0.02213\n",
            "Epoch: 0180 train_loss= 0.86763 train_acc= 0.86200 val_loss= 0.86193 val_acc= 0.85800 time= 0.02028\n",
            "Epoch: 0181 train_loss= 0.87894 train_acc= 0.84600 val_loss= 0.86024 val_acc= 0.85600 time= 0.03531\n",
            "Epoch: 0182 train_loss= 0.88389 train_acc= 0.84200 val_loss= 0.85872 val_acc= 0.85600 time= 0.01600\n",
            "Epoch: 0183 train_loss= 0.92214 train_acc= 0.84200 val_loss= 0.85718 val_acc= 0.85600 time= 0.02128\n",
            "Epoch: 0184 train_loss= 0.87246 train_acc= 0.86300 val_loss= 0.85561 val_acc= 0.85800 time= 0.01181\n",
            "Epoch: 0185 train_loss= 0.87764 train_acc= 0.85700 val_loss= 0.85399 val_acc= 0.85800 time= 0.01714\n",
            "Epoch: 0186 train_loss= 0.89714 train_acc= 0.83300 val_loss= 0.85244 val_acc= 0.86200 time= 0.02082\n",
            "Epoch: 0187 train_loss= 0.87217 train_acc= 0.84000 val_loss= 0.85092 val_acc= 0.86200 time= 0.02708\n",
            "Epoch: 0188 train_loss= 0.88789 train_acc= 0.83900 val_loss= 0.84946 val_acc= 0.86200 time= 0.01940\n",
            "Epoch: 0189 train_loss= 0.88993 train_acc= 0.84500 val_loss= 0.84804 val_acc= 0.86200 time= 0.02035\n",
            "Epoch: 0190 train_loss= 0.85220 train_acc= 0.85700 val_loss= 0.84671 val_acc= 0.86600 time= 0.01691\n",
            "Epoch: 0191 train_loss= 0.88296 train_acc= 0.85700 val_loss= 0.84537 val_acc= 0.86800 time= 0.01119\n",
            "Epoch: 0192 train_loss= 0.85981 train_acc= 0.84700 val_loss= 0.84421 val_acc= 0.86800 time= 0.01866\n",
            "Epoch: 0193 train_loss= 0.87867 train_acc= 0.83900 val_loss= 0.84306 val_acc= 0.87000 time= 0.01316\n",
            "Epoch: 0194 train_loss= 0.85721 train_acc= 0.84500 val_loss= 0.84202 val_acc= 0.87000 time= 0.01679\n",
            "Epoch: 0195 train_loss= 0.88360 train_acc= 0.84600 val_loss= 0.84101 val_acc= 0.87000 time= 0.02286\n",
            "Epoch: 0196 train_loss= 0.88466 train_acc= 0.84200 val_loss= 0.84006 val_acc= 0.87000 time= 0.01125\n",
            "Epoch: 0197 train_loss= 0.87445 train_acc= 0.84800 val_loss= 0.83909 val_acc= 0.86800 time= 0.02256\n",
            "Epoch: 0198 train_loss= 0.84790 train_acc= 0.85800 val_loss= 0.83804 val_acc= 0.86600 time= 0.01367\n",
            "Epoch: 0199 train_loss= 0.83023 train_acc= 0.86500 val_loss= 0.83686 val_acc= 0.86600 time= 0.02323\n",
            "Epoch: 0200 train_loss= 0.85909 train_acc= 0.84700 val_loss= 0.83562 val_acc= 0.86800 time= 0.01092\n",
            "12.24886703491211\n",
            "Optimization Finished!\n"
          ]
        }
      ],
      "source": [
        "t1 = time.time()\n",
        "for epoch in range(FLAGS['epochs']):\n",
        "\n",
        "    t = time.time()\n",
        "    # Construct feed dictionary\n",
        "    feed_dict = construct_feed_dict(features, support, y_train, train_mask, placeholders)\n",
        "    feed_dict.update({placeholders['dropout']: FLAGS['dropout']})\n",
        "\n",
        "    # Training step\n",
        "    outs = sess.run([model.opt_op, model.loss, model.accuracy], feed_dict=feed_dict)\n",
        "\n",
        "    # Validation\n",
        "    cost, acc, duration = evaluate(features, support, y_val, val_mask, placeholders)\n",
        "\n",
        "    # Print results\n",
        "    print(\"Epoch:\", '%04d' % (epoch + 1), \"train_loss=\", \"{:.5f}\".format(outs[1]),\n",
        "          \"train_acc=\", \"{:.5f}\".format(outs[2]), \"val_loss=\", \"{:.5f}\".format(cost),\n",
        "          \"val_acc=\", \"{:.5f}\".format(acc), \"time=\", \"{:.5f}\".format(time.time() - t), flush=True)\n",
        "\n",
        "    training_curves.append((outs[1], outs[2], cost, acc)) # train_loss, train_acc, val_loss, val_acc\n",
        "\n",
        "    if epoch > FLAGS['early_stopping'] and training_curves[-1][2] > np.mean([x[2] for x in training_curves][-(FLAGS['early_stopping']+1):-1]):\n",
        "        print(\"Early stopping...\")\n",
        "        break\n",
        "t2 = time.time()\n",
        "print(t2-t1)\n",
        "print(\"Optimization Finished!\")"
      ]
    },
    {
      "cell_type": "code",
      "source": [
        "evaluate(features, support, y_test, test_mask, placeholders)"
      ],
      "metadata": {
        "colab": {
          "base_uri": "https://localhost:8080/"
        },
        "id": "AHWmOHbIw9vx",
        "outputId": "9faae3c4-e677-4950-eac9-86ed23c98869"
      },
      "id": "AHWmOHbIw9vx",
      "execution_count": 40,
      "outputs": [
        {
          "output_type": "execute_result",
          "data": {
            "text/plain": [
              "(0.81123805, 0.86428577, 0.007134675979614258)"
            ]
          },
          "metadata": {},
          "execution_count": 40
        }
      ]
    },
    {
      "cell_type": "code",
      "source": [
        "train_mask, val_mask, test_mask"
      ],
      "metadata": {
        "colab": {
          "base_uri": "https://localhost:8080/"
        },
        "id": "pzuAycK2L6oK",
        "outputId": "b207b5b7-860e-42c3-8d10-83268c317e87"
      },
      "id": "pzuAycK2L6oK",
      "execution_count": 41,
      "outputs": [
        {
          "output_type": "execute_result",
          "data": {
            "text/plain": [
              "(array([False, False, False, ...,  True,  True,  True]),\n",
              " array([False, False, False, ..., False, False, False]),\n",
              " array([ True,  True,  True, ..., False, False, False]))"
            ]
          },
          "metadata": {},
          "execution_count": 41
        }
      ]
    },
    {
      "cell_type": "code",
      "source": [
        "train_mask.sum(),val_mask.sum(),test_mask.sum()"
      ],
      "metadata": {
        "colab": {
          "base_uri": "https://localhost:8080/"
        },
        "id": "V3-YXaoZV_8i",
        "outputId": "8fba74a4-0c32-4974-cfe9-7a3a1b594bee"
      },
      "id": "V3-YXaoZV_8i",
      "execution_count": 42,
      "outputs": [
        {
          "output_type": "execute_result",
          "data": {
            "text/plain": [
              "(1000, 500, 140)"
            ]
          },
          "metadata": {},
          "execution_count": 42
        }
      ]
    },
    {
      "cell_type": "code",
      "source": [
        "import matplotlib.pyplot as plt\n",
        "from sklearn.manifold import TSNE"
      ],
      "metadata": {
        "id": "pS_AqRjDXPIu"
      },
      "id": "pS_AqRjDXPIu",
      "execution_count": 43,
      "outputs": []
    },
    {
      "cell_type": "code",
      "source": [
        "your_feed_dict = construct_feed_dict(features, support, y_train, train_mask, placeholders)\n",
        "\n",
        "# Assuming `model` is an instance of your GCN model\n",
        "# Assuming `sess` is your TensorFlow session\n",
        "\n",
        "# Get the node embeddings\n",
        "node_embeddings = sess.run(model.activations[-2], feed_dict=your_feed_dict)"
      ],
      "metadata": {
        "id": "_SPExWOCMhKc"
      },
      "id": "_SPExWOCMhKc",
      "execution_count": 51,
      "outputs": []
    },
    {
      "cell_type": "code",
      "source": [
        "# Assuming `your_labels` is a NumPy array with labels for each node\n",
        "# You can use these labels to color the points in the plot\n",
        "your_labels = sess.run(model.placeholders['labels'], feed_dict=your_feed_dict)"
      ],
      "metadata": {
        "id": "H-ocUGKhG6yA"
      },
      "id": "H-ocUGKhG6yA",
      "execution_count": 52,
      "outputs": []
    },
    {
      "cell_type": "code",
      "source": [
        "node_embeddings = np.array([node_embeddings[i] for i in range(node_embeddings.shape[0]) if test_mask[i]])\n",
        "node_embeddings.shape"
      ],
      "metadata": {
        "colab": {
          "base_uri": "https://localhost:8080/"
        },
        "id": "VDNZB4B9FsGj",
        "outputId": "7590f55e-f4a5-48ae-bf4d-79a561468d90"
      },
      "id": "VDNZB4B9FsGj",
      "execution_count": 53,
      "outputs": [
        {
          "output_type": "execute_result",
          "data": {
            "text/plain": [
              "(140, 16)"
            ]
          },
          "metadata": {},
          "execution_count": 53
        }
      ]
    },
    {
      "cell_type": "code",
      "source": [
        "your_labels = np.array([your_labels[i] for i in range(your_labels.shape[0]) if test_mask[i]])\n",
        "your_labels.shape"
      ],
      "metadata": {
        "colab": {
          "base_uri": "https://localhost:8080/"
        },
        "id": "Ub0QM7DEKr0g",
        "outputId": "aee6af36-4cd9-4883-8969-dc51ad3f8572"
      },
      "id": "Ub0QM7DEKr0g",
      "execution_count": 54,
      "outputs": [
        {
          "output_type": "execute_result",
          "data": {
            "text/plain": [
              "(140, 7)"
            ]
          },
          "metadata": {},
          "execution_count": 54
        }
      ]
    },
    {
      "cell_type": "code",
      "source": [
        "# Apply t-SNE for dimensionality reduction\n",
        "tsne = TSNE(n_components=2, random_state=42)\n",
        "embeddings_2d = tsne.fit_transform(node_embeddings)\n",
        "\n",
        "# Plot the 2D embeddings\n",
        "plt.scatter(embeddings_2d[:, 0], embeddings_2d[:, 1], c=np.argmax(your_labels, axis=1), cmap='viridis')\n",
        "plt.title('t-SNE Visualization of Node Embeddings')\n",
        "plt.colorbar()\n",
        "plt.show()\n"
      ],
      "metadata": {
        "id": "USTV2TTFWvIk",
        "colab": {
          "base_uri": "https://localhost:8080/",
          "height": 452
        },
        "outputId": "33559392-f1c6-4869-87a1-cac572f6d523"
      },
      "id": "USTV2TTFWvIk",
      "execution_count": 55,
      "outputs": [
        {
          "output_type": "display_data",
          "data": {
            "text/plain": [
              "<Figure size 640x480 with 2 Axes>"
            ],
            "image/png": "[encoded data removed]"
          },
          "metadata": {}
        }
      ]
    },
    {
      "cell_type": "code",
      "source": [
        "# Apply t-SNE for dimensionality reduction\n",
        "tsne = TSNE(n_components=3, random_state=42)\n",
        "embeddings_3d = tsne.fit_transform(node_embeddings)\n",
        "\n",
        "# Plot the 3D embeddings\n",
        "fig = plt.figure()\n",
        "ax = fig.add_subplot(111, projection='3d')\n",
        "\n",
        "scatter = ax.scatter(embeddings_3d[:, 0], embeddings_3d[:, 1], embeddings_3d[:, 2], c=np.argmax(your_labels, axis=1), cmap='jet', alpha=0.5)\n",
        "ax.set_title('t-SNE Visualization of Node Embeddings')\n",
        "fig.colorbar(scatter)\n",
        "plt.show()\n"
      ],
      "metadata": {
        "colab": {
          "base_uri": "https://localhost:8080/",
          "height": 437
        },
        "id": "SWSNoHhqF2d4",
        "outputId": "096ad0e6-885c-426a-f30f-8abbfbb86d81"
      },
      "id": "SWSNoHhqF2d4",
      "execution_count": 56,
      "outputs": [
        {
          "output_type": "display_data",
          "data": {
            "text/plain": [
              "<Figure size 640x480 with 2 Axes>"
            ],
            "image/png": "[encoded data removed]"
          },
          "metadata": {}
        }
      ]
    },
    {
      "cell_type": "code",
      "source": [
        "t1 = time.time()\n",
        "predictions = sess.run(model.predict(), feed_dict=your_feed_dict)\n",
        "t2 = time.time()\n",
        "print(t2-t1)\n",
        "predictions = np.array([predictions[i] for i in range(predictions.shape[0]) if train_mask[i]])\n",
        "predictions.shape"
      ],
      "metadata": {
        "colab": {
          "base_uri": "https://localhost:8080/"
        },
        "id": "1IyUF5KLmx8a",
        "outputId": "1d1c88a2-5cd8-4741-db22-f4b2d9af28cb"
      },
      "id": "1IyUF5KLmx8a",
      "execution_count": 57,
      "outputs": [
        {
          "output_type": "stream",
          "name": "stdout",
          "text": [
            "0.11438679695129395\n"
          ]
        },
        {
          "output_type": "execute_result",
          "data": {
            "text/plain": [
              "(1000, 7)"
            ]
          },
          "metadata": {},
          "execution_count": 57
        }
      ]
    },
    {
      "cell_type": "code",
      "source": [
        "your_labels"
      ],
      "metadata": {
        "colab": {
          "base_uri": "https://localhost:8080/"
        },
        "id": "PyDhc-cyHHbA",
        "outputId": "0b4633a0-ba0b-4e98-a103-0dc1cf15c160"
      },
      "id": "PyDhc-cyHHbA",
      "execution_count": 58,
      "outputs": [
        {
          "output_type": "execute_result",
          "data": {
            "text/plain": [
              "array([[0., 0., 0., 0., 0., 0., 0.],\n",
              "       [0., 0., 0., 0., 0., 0., 0.],\n",
              "       [0., 0., 0., 0., 0., 0., 0.],\n",
              "       [0., 0., 0., 0., 0., 0., 0.],\n",
              "       [0., 0., 0., 0., 0., 0., 0.],\n",
              "       [0., 0., 0., 0., 0., 0., 0.],\n",
              "       [0., 0., 0., 0., 0., 0., 0.],\n",
              "       [0., 0., 0., 0., 0., 0., 0.],\n",
              "       [0., 0., 0., 0., 0., 0., 0.],\n",
              "       [0., 0., 0., 0., 0., 0., 0.],\n",
              "       [0., 0., 0., 0., 0., 0., 0.],\n",
              "       [0., 0., 0., 0., 0., 0., 0.],\n",
              "       [0., 0., 0., 0., 0., 0., 0.],\n",
              "       [0., 0., 0., 0., 0., 0., 0.],\n",
              "       [0., 0., 0., 0., 0., 0., 0.],\n",
              "       [0., 0., 0., 0., 0., 0., 0.],\n",
              "       [0., 0., 0., 0., 0., 0., 0.],\n",
              "       [0., 0., 0., 0., 0., 0., 0.],\n",
              "       [0., 0., 0., 0., 0., 0., 0.],\n",
              "       [0., 0., 0., 0., 0., 0., 0.],\n",
              "       [0., 0., 0., 0., 0., 0., 0.],\n",
              "       [0., 0., 0., 0., 0., 0., 0.],\n",
              "       [0., 0., 0., 0., 0., 0., 0.],\n",
              "       [0., 0., 0., 0., 0., 0., 0.],\n",
              "       [0., 0., 0., 0., 0., 0., 0.],\n",
              "       [0., 0., 0., 0., 0., 0., 0.],\n",
              "       [0., 0., 0., 0., 0., 0., 0.],\n",
              "       [0., 0., 0., 0., 0., 0., 0.],\n",
              "       [0., 0., 0., 0., 0., 0., 0.],\n",
              "       [0., 0., 0., 0., 0., 0., 0.],\n",
              "       [0., 0., 0., 0., 0., 0., 0.],\n",
              "       [0., 0., 0., 0., 0., 0., 0.],\n",
              "       [0., 0., 0., 0., 0., 0., 0.],\n",
              "       [0., 0., 0., 0., 0., 0., 0.],\n",
              "       [0., 0., 0., 0., 0., 0., 0.],\n",
              "       [0., 0., 0., 0., 0., 0., 0.],\n",
              "       [0., 0., 0., 0., 0., 0., 0.],\n",
              "       [0., 0., 0., 0., 0., 0., 0.],\n",
              "       [0., 0., 0., 0., 0., 0., 0.],\n",
              "       [0., 0., 0., 0., 0., 0., 0.],\n",
              "       [0., 0., 0., 0., 0., 0., 0.],\n",
              "       [0., 0., 0., 0., 0., 0., 0.],\n",
              "       [0., 0., 0., 0., 0., 0., 0.],\n",
              "       [0., 0., 0., 0., 0., 0., 0.],\n",
              "       [0., 0., 0., 0., 0., 0., 0.],\n",
              "       [0., 0., 0., 0., 0., 0., 0.],\n",
              "       [0., 0., 0., 0., 0., 0., 0.],\n",
              "       [0., 0., 0., 0., 0., 0., 0.],\n",
              "       [0., 0., 0., 0., 0., 0., 0.],\n",
              "       [0., 0., 0., 0., 0., 0., 0.],\n",
              "       [0., 0., 0., 0., 0., 0., 0.],\n",
              "       [0., 0., 0., 0., 0., 0., 0.],\n",
              "       [0., 0., 0., 0., 0., 0., 0.],\n",
              "       [0., 0., 0., 0., 0., 0., 0.],\n",
              "       [0., 0., 0., 0., 0., 0., 0.],\n",
              "       [0., 0., 0., 0., 0., 0., 0.],\n",
              "       [0., 0., 0., 0., 0., 0., 0.],\n",
              "       [0., 0., 0., 0., 0., 0., 0.],\n",
              "       [0., 0., 0., 0., 0., 0., 0.],\n",
              "       [0., 0., 0., 0., 0., 0., 0.],\n",
              "       [0., 0., 0., 0., 0., 0., 0.],\n",
              "       [0., 0., 0., 0., 0., 0., 0.],\n",
              "       [0., 0., 0., 0., 0., 0., 0.],\n",
              "       [0., 0., 0., 0., 0., 0., 0.],\n",
              "       [0., 0., 0., 0., 0., 0., 0.],\n",
              "       [0., 0., 0., 0., 0., 0., 0.],\n",
              "       [0., 0., 0., 0., 0., 0., 0.],\n",
              "       [0., 0., 0., 0., 0., 0., 0.],\n",
              "       [0., 0., 0., 0., 0., 0., 0.],\n",
              "       [0., 0., 0., 0., 0., 0., 0.],\n",
              "       [0., 0., 0., 0., 0., 0., 0.],\n",
              "       [0., 0., 0., 0., 0., 0., 0.],\n",
              "       [0., 0., 0., 0., 0., 0., 0.],\n",
              "       [0., 0., 0., 0., 0., 0., 0.],\n",
              "       [0., 0., 0., 0., 0., 0., 0.],\n",
              "       [0., 0., 0., 0., 0., 0., 0.],\n",
              "       [0., 0., 0., 0., 0., 0., 0.],\n",
              "       [0., 0., 0., 0., 0., 0., 0.],\n",
              "       [0., 0., 0., 0., 0., 0., 0.],\n",
              "       [0., 0., 0., 0., 0., 0., 0.],\n",
              "       [0., 0., 0., 0., 0., 0., 0.],\n",
              "       [0., 0., 0., 0., 0., 0., 0.],\n",
              "       [0., 0., 0., 0., 0., 0., 0.],\n",
              "       [0., 0., 0., 0., 0., 0., 0.],\n",
              "       [0., 0., 0., 0., 0., 0., 0.],\n",
              "       [0., 0., 0., 0., 0., 0., 0.],\n",
              "       [0., 0., 0., 0., 0., 0., 0.],\n",
              "       [0., 0., 0., 0., 0., 0., 0.],\n",
              "       [0., 0., 0., 0., 0., 0., 0.],\n",
              "       [0., 0., 0., 0., 0., 0., 0.],\n",
              "       [0., 0., 0., 0., 0., 0., 0.],\n",
              "       [0., 0., 0., 0., 0., 0., 0.],\n",
              "       [0., 0., 0., 0., 0., 0., 0.],\n",
              "       [0., 0., 0., 0., 0., 0., 0.],\n",
              "       [0., 0., 0., 0., 0., 0., 0.],\n",
              "       [0., 0., 0., 0., 0., 0., 0.],\n",
              "       [0., 0., 0., 0., 0., 0., 0.],\n",
              "       [0., 0., 0., 0., 0., 0., 0.],\n",
              "       [0., 0., 0., 0., 0., 0., 0.],\n",
              "       [0., 0., 0., 0., 0., 0., 0.],\n",
              "       [0., 0., 0., 0., 0., 0., 0.],\n",
              "       [0., 0., 0., 0., 0., 0., 0.],\n",
              "       [0., 0., 0., 0., 0., 0., 0.],\n",
              "       [0., 0., 0., 0., 0., 0., 0.],\n",
              "       [0., 0., 0., 0., 0., 0., 0.],\n",
              "       [0., 0., 0., 0., 0., 0., 0.],\n",
              "       [0., 0., 0., 0., 0., 0., 0.],\n",
              "       [0., 0., 0., 0., 0., 0., 0.],\n",
              "       [0., 0., 0., 0., 0., 0., 0.],\n",
              "       [0., 0., 0., 0., 0., 0., 0.],\n",
              "       [0., 0., 0., 0., 0., 0., 0.],\n",
              "       [0., 0., 0., 0., 0., 0., 0.],\n",
              "       [0., 0., 0., 0., 0., 0., 0.],\n",
              "       [0., 0., 0., 0., 0., 0., 0.],\n",
              "       [0., 0., 0., 0., 0., 0., 0.],\n",
              "       [0., 0., 0., 0., 0., 0., 0.],\n",
              "       [0., 0., 0., 0., 0., 0., 0.],\n",
              "       [0., 0., 0., 0., 0., 0., 0.],\n",
              "       [0., 0., 0., 0., 0., 0., 0.],\n",
              "       [0., 0., 0., 0., 0., 0., 0.],\n",
              "       [0., 0., 0., 0., 0., 0., 0.],\n",
              "       [0., 0., 0., 0., 0., 0., 0.],\n",
              "       [0., 0., 0., 0., 0., 0., 0.],\n",
              "       [0., 0., 0., 0., 0., 0., 0.],\n",
              "       [0., 0., 0., 0., 0., 0., 0.],\n",
              "       [0., 0., 0., 0., 0., 0., 0.],\n",
              "       [0., 0., 0., 0., 0., 0., 0.],\n",
              "       [0., 0., 0., 0., 0., 0., 0.],\n",
              "       [0., 0., 0., 0., 0., 0., 0.],\n",
              "       [0., 0., 0., 0., 0., 0., 0.],\n",
              "       [0., 0., 0., 0., 0., 0., 0.],\n",
              "       [0., 0., 0., 0., 0., 0., 0.],\n",
              "       [0., 0., 0., 0., 0., 0., 0.],\n",
              "       [0., 0., 0., 0., 0., 0., 0.],\n",
              "       [0., 0., 0., 0., 0., 0., 0.],\n",
              "       [0., 0., 0., 0., 0., 0., 0.],\n",
              "       [0., 0., 0., 0., 0., 0., 0.],\n",
              "       [0., 0., 0., 0., 0., 0., 0.],\n",
              "       [0., 0., 0., 0., 0., 0., 0.],\n",
              "       [0., 0., 0., 0., 0., 0., 0.]], dtype=float32)"
            ]
          },
          "metadata": {},
          "execution_count": 58
        }
      ]
    },
    {
      "cell_type": "code",
      "source": [
        "predictions"
      ],
      "metadata": {
        "colab": {
          "base_uri": "https://localhost:8080/"
        },
        "id": "gy-UhWz5nHBR",
        "outputId": "2e2d71a2-5b6d-4f0f-c20f-2955417278e7"
      },
      "id": "gy-UhWz5nHBR",
      "execution_count": 59,
      "outputs": [
        {
          "output_type": "execute_result",
          "data": {
            "text/plain": [
              "array([[0.08340568, 0.07639242, 0.23604168, ..., 0.04012814, 0.09658164,\n",
              "        0.05074138],\n",
              "       [0.02600637, 0.02443179, 0.8292813 , ..., 0.01471764, 0.01260253,\n",
              "        0.02307981],\n",
              "       [0.02186271, 0.05900017, 0.64648557, ..., 0.0184242 , 0.01598511,\n",
              "        0.01272278],\n",
              "       ...,\n",
              "       [0.07943922, 0.086907  , 0.02115684, ..., 0.01410033, 0.04970444,\n",
              "        0.01292892],\n",
              "       [0.01461817, 0.00916777, 0.01289794, ..., 0.02235312, 0.00302023,\n",
              "        0.00135717],\n",
              "       [0.01581118, 0.01059771, 0.0142341 , ..., 0.02321161, 0.00364809,\n",
              "        0.00159624]], dtype=float32)"
            ]
          },
          "metadata": {},
          "execution_count": 59
        }
      ]
    },
    {
      "cell_type": "code",
      "source": [
        "from sklearn.metrics import precision_score, recall_score, f1_score, accuracy_score\n",
        "import numpy as np\n",
        "\n",
        "# Assuming `true` and `pred` are your true labels and predicted probabilities, respectively\n",
        "true_labels = np.argmax(your_labels, axis=1)\n",
        "predicted_labels = np.argmax(predictions, axis=1)\n",
        "\n",
        "# Calculate metrics\n",
        "precision = precision_score(true_labels, predicted_labels, average='weighted')\n",
        "recall = recall_score(true_labels, predicted_labels, average='weighted')\n",
        "f1 = f1_score(true_labels, predicted_labels, average='weighted')\n",
        "accuracy = accuracy_score(true_labels, predicted_labels)\n",
        "\n",
        "print(\"Precision: {:.4f}\".format(precision))\n",
        "print(\"Recall: {:.4f}\".format(recall))\n",
        "print(\"F1-score: {:.4f}\".format(f1))\n",
        "print(\"Accuracy: {:.4f}\".format(accuracy))"
      ],
      "metadata": {
        "colab": {
          "base_uri": "https://localhost:8080/",
          "height": 390
        },
        "id": "eibD2CrwnR2l",
        "outputId": "8a8c5b0e-5dde-4a50-9bca-fad0b4647b15"
      },
      "id": "eibD2CrwnR2l",
      "execution_count": 60,
      "outputs": [
        {
          "output_type": "error",
          "ename": "ValueError",
          "evalue": "ignored",
          "traceback": [
            "\u001b[0;31m---------------------------------------------------------------------------\u001b[0m",
            "\u001b[0;31mValueError\u001b[0m                                Traceback (most recent call last)",
            "\u001b[0;32m<ipython-input-60-22dfbecde84b>\u001b[0m in \u001b[0;36m<cell line: 9>\u001b[0;34m()\u001b[0m\n\u001b[1;32m      7\u001b[0m \u001b[0;34m\u001b[0m\u001b[0m\n\u001b[1;32m      8\u001b[0m \u001b[0;31m# Calculate metrics\u001b[0m\u001b[0;34m\u001b[0m\u001b[0;34m\u001b[0m\u001b[0m\n\u001b[0;32m----> 9\u001b[0;31m \u001b[0mprecision\u001b[0m \u001b[0;34m=\u001b[0m \u001b[0mprecision_score\u001b[0m\u001b[0;34m(\u001b[0m\u001b[0mtrue_labels\u001b[0m\u001b[0;34m,\u001b[0m \u001b[0mpredicted_labels\u001b[0m\u001b[0;34m,\u001b[0m \u001b[0maverage\u001b[0m\u001b[0;34m=\u001b[0m\u001b[0;34m'weighted'\u001b[0m\u001b[0;34m)\u001b[0m\u001b[0;34m\u001b[0m\u001b[0;34m\u001b[0m\u001b[0m\n\u001b[0m\u001b[1;32m     10\u001b[0m \u001b[0mrecall\u001b[0m \u001b[0;34m=\u001b[0m \u001b[0mrecall_score\u001b[0m\u001b[0;34m(\u001b[0m\u001b[0mtrue_labels\u001b[0m\u001b[0;34m,\u001b[0m \u001b[0mpredicted_labels\u001b[0m\u001b[0;34m,\u001b[0m \u001b[0maverage\u001b[0m\u001b[0;34m=\u001b[0m\u001b[0;34m'weighted'\u001b[0m\u001b[0;34m)\u001b[0m\u001b[0;34m\u001b[0m\u001b[0;34m\u001b[0m\u001b[0m\n\u001b[1;32m     11\u001b[0m \u001b[0mf1\u001b[0m \u001b[0;34m=\u001b[0m \u001b[0mf1_score\u001b[0m\u001b[0;34m(\u001b[0m\u001b[0mtrue_labels\u001b[0m\u001b[0;34m,\u001b[0m \u001b[0mpredicted_labels\u001b[0m\u001b[0;34m,\u001b[0m \u001b[0maverage\u001b[0m\u001b[0;34m=\u001b[0m\u001b[0;34m'weighted'\u001b[0m\u001b[0;34m)\u001b[0m\u001b[0;34m\u001b[0m\u001b[0;34m\u001b[0m\u001b[0m\n",
            "\u001b[0;32m/usr/local/lib/python3.10/dist-packages/sklearn/metrics/_classification.py\u001b[0m in \u001b[0;36mprecision_score\u001b[0;34m(y_true, y_pred, labels, pos_label, average, sample_weight, zero_division)\u001b[0m\n\u001b[1;32m   1952\u001b[0m     \u001b[0marray\u001b[0m\u001b[0;34m(\u001b[0m\u001b[0;34m[\u001b[0m\u001b[0;36m0.5\u001b[0m\u001b[0;34m,\u001b[0m \u001b[0;36m1.\u001b[0m \u001b[0;34m,\u001b[0m \u001b[0;36m1.\u001b[0m \u001b[0;34m]\u001b[0m\u001b[0;34m)\u001b[0m\u001b[0;34m\u001b[0m\u001b[0;34m\u001b[0m\u001b[0m\n\u001b[1;32m   1953\u001b[0m     \"\"\"\n\u001b[0;32m-> 1954\u001b[0;31m     p, _, _, _ = precision_recall_fscore_support(\n\u001b[0m\u001b[1;32m   1955\u001b[0m         \u001b[0my_true\u001b[0m\u001b[0;34m,\u001b[0m\u001b[0;34m\u001b[0m\u001b[0;34m\u001b[0m\u001b[0m\n\u001b[1;32m   1956\u001b[0m         \u001b[0my_pred\u001b[0m\u001b[0;34m,\u001b[0m\u001b[0;34m\u001b[0m\u001b[0;34m\u001b[0m\u001b[0m\n",
            "\u001b[0;32m/usr/local/lib/python3.10/dist-packages/sklearn/metrics/_classification.py\u001b[0m in \u001b[0;36mprecision_recall_fscore_support\u001b[0;34m(y_true, y_pred, beta, labels, pos_label, average, warn_for, sample_weight, zero_division)\u001b[0m\n\u001b[1;32m   1571\u001b[0m     \u001b[0;32mif\u001b[0m \u001b[0mbeta\u001b[0m \u001b[0;34m<\u001b[0m \u001b[0;36m0\u001b[0m\u001b[0;34m:\u001b[0m\u001b[0;34m\u001b[0m\u001b[0;34m\u001b[0m\u001b[0m\n\u001b[1;32m   1572\u001b[0m         \u001b[0;32mraise\u001b[0m \u001b[0mValueError\u001b[0m\u001b[0;34m(\u001b[0m\u001b[0;34m\"beta should be >=0 in the F-beta score\"\u001b[0m\u001b[0;34m)\u001b[0m\u001b[0;34m\u001b[0m\u001b[0;34m\u001b[0m\u001b[0m\n\u001b[0;32m-> 1573\u001b[0;31m     \u001b[0mlabels\u001b[0m \u001b[0;34m=\u001b[0m \u001b[0m_check_set_wise_labels\u001b[0m\u001b[0;34m(\u001b[0m\u001b[0my_true\u001b[0m\u001b[0;34m,\u001b[0m \u001b[0my_pred\u001b[0m\u001b[0;34m,\u001b[0m \u001b[0maverage\u001b[0m\u001b[0;34m,\u001b[0m \u001b[0mlabels\u001b[0m\u001b[0;34m,\u001b[0m \u001b[0mpos_label\u001b[0m\u001b[0;34m)\u001b[0m\u001b[0;34m\u001b[0m\u001b[0;34m\u001b[0m\u001b[0m\n\u001b[0m\u001b[1;32m   1574\u001b[0m \u001b[0;34m\u001b[0m\u001b[0m\n\u001b[1;32m   1575\u001b[0m     \u001b[0;31m# Calculate tp_sum, pred_sum, true_sum ###\u001b[0m\u001b[0;34m\u001b[0m\u001b[0;34m\u001b[0m\u001b[0m\n",
            "\u001b[0;32m/usr/local/lib/python3.10/dist-packages/sklearn/metrics/_classification.py\u001b[0m in \u001b[0;36m_check_set_wise_labels\u001b[0;34m(y_true, y_pred, average, labels, pos_label)\u001b[0m\n\u001b[1;32m   1372\u001b[0m         \u001b[0;32mraise\u001b[0m \u001b[0mValueError\u001b[0m\u001b[0;34m(\u001b[0m\u001b[0;34m\"average has to be one of \"\u001b[0m \u001b[0;34m+\u001b[0m \u001b[0mstr\u001b[0m\u001b[0;34m(\u001b[0m\u001b[0maverage_options\u001b[0m\u001b[0;34m)\u001b[0m\u001b[0;34m)\u001b[0m\u001b[0;34m\u001b[0m\u001b[0;34m\u001b[0m\u001b[0m\n\u001b[1;32m   1373\u001b[0m \u001b[0;34m\u001b[0m\u001b[0m\n\u001b[0;32m-> 1374\u001b[0;31m     \u001b[0my_type\u001b[0m\u001b[0;34m,\u001b[0m \u001b[0my_true\u001b[0m\u001b[0;34m,\u001b[0m \u001b[0my_pred\u001b[0m \u001b[0;34m=\u001b[0m \u001b[0m_check_targets\u001b[0m\u001b[0;34m(\u001b[0m\u001b[0my_true\u001b[0m\u001b[0;34m,\u001b[0m \u001b[0my_pred\u001b[0m\u001b[0;34m)\u001b[0m\u001b[0;34m\u001b[0m\u001b[0;34m\u001b[0m\u001b[0m\n\u001b[0m\u001b[1;32m   1375\u001b[0m     \u001b[0;31m# Convert to Python primitive type to avoid NumPy type / Python str\u001b[0m\u001b[0;34m\u001b[0m\u001b[0;34m\u001b[0m\u001b[0m\n\u001b[1;32m   1376\u001b[0m     \u001b[0;31m# comparison. See https://github.com/numpy/numpy/issues/6784\u001b[0m\u001b[0;34m\u001b[0m\u001b[0;34m\u001b[0m\u001b[0m\n",
            "\u001b[0;32m/usr/local/lib/python3.10/dist-packages/sklearn/metrics/_classification.py\u001b[0m in \u001b[0;36m_check_targets\u001b[0;34m(y_true, y_pred)\u001b[0m\n\u001b[1;32m     84\u001b[0m     \u001b[0my_pred\u001b[0m \u001b[0;34m:\u001b[0m \u001b[0marray\u001b[0m \u001b[0;32mor\u001b[0m \u001b[0mindicator\u001b[0m \u001b[0mmatrix\u001b[0m\u001b[0;34m\u001b[0m\u001b[0;34m\u001b[0m\u001b[0m\n\u001b[1;32m     85\u001b[0m     \"\"\"\n\u001b[0;32m---> 86\u001b[0;31m     \u001b[0mcheck_consistent_length\u001b[0m\u001b[0;34m(\u001b[0m\u001b[0my_true\u001b[0m\u001b[0;34m,\u001b[0m \u001b[0my_pred\u001b[0m\u001b[0;34m)\u001b[0m\u001b[0;34m\u001b[0m\u001b[0;34m\u001b[0m\u001b[0m\n\u001b[0m\u001b[1;32m     87\u001b[0m     \u001b[0mtype_true\u001b[0m \u001b[0;34m=\u001b[0m \u001b[0mtype_of_target\u001b[0m\u001b[0;34m(\u001b[0m\u001b[0my_true\u001b[0m\u001b[0;34m,\u001b[0m \u001b[0minput_name\u001b[0m\u001b[0;34m=\u001b[0m\u001b[0;34m\"y_true\"\u001b[0m\u001b[0;34m)\u001b[0m\u001b[0;34m\u001b[0m\u001b[0;34m\u001b[0m\u001b[0m\n\u001b[1;32m     88\u001b[0m     \u001b[0mtype_pred\u001b[0m \u001b[0;34m=\u001b[0m \u001b[0mtype_of_target\u001b[0m\u001b[0;34m(\u001b[0m\u001b[0my_pred\u001b[0m\u001b[0;34m,\u001b[0m \u001b[0minput_name\u001b[0m\u001b[0;34m=\u001b[0m\u001b[0;34m\"y_pred\"\u001b[0m\u001b[0;34m)\u001b[0m\u001b[0;34m\u001b[0m\u001b[0;34m\u001b[0m\u001b[0m\n",
            "\u001b[0;32m/usr/local/lib/python3.10/dist-packages/sklearn/utils/validation.py\u001b[0m in \u001b[0;36mcheck_consistent_length\u001b[0;34m(*arrays)\u001b[0m\n\u001b[1;32m    395\u001b[0m     \u001b[0muniques\u001b[0m \u001b[0;34m=\u001b[0m \u001b[0mnp\u001b[0m\u001b[0;34m.\u001b[0m\u001b[0munique\u001b[0m\u001b[0;34m(\u001b[0m\u001b[0mlengths\u001b[0m\u001b[0;34m)\u001b[0m\u001b[0;34m\u001b[0m\u001b[0;34m\u001b[0m\u001b[0m\n\u001b[1;32m    396\u001b[0m     \u001b[0;32mif\u001b[0m \u001b[0mlen\u001b[0m\u001b[0;34m(\u001b[0m\u001b[0muniques\u001b[0m\u001b[0;34m)\u001b[0m \u001b[0;34m>\u001b[0m \u001b[0;36m1\u001b[0m\u001b[0;34m:\u001b[0m\u001b[0;34m\u001b[0m\u001b[0;34m\u001b[0m\u001b[0m\n\u001b[0;32m--> 397\u001b[0;31m         raise ValueError(\n\u001b[0m\u001b[1;32m    398\u001b[0m             \u001b[0;34m\"Found input variables with inconsistent numbers of samples: %r\"\u001b[0m\u001b[0;34m\u001b[0m\u001b[0;34m\u001b[0m\u001b[0m\n\u001b[1;32m    399\u001b[0m             \u001b[0;34m%\u001b[0m \u001b[0;34m[\u001b[0m\u001b[0mint\u001b[0m\u001b[0;34m(\u001b[0m\u001b[0ml\u001b[0m\u001b[0;34m)\u001b[0m \u001b[0;32mfor\u001b[0m \u001b[0ml\u001b[0m \u001b[0;32min\u001b[0m \u001b[0mlengths\u001b[0m\u001b[0;34m]\u001b[0m\u001b[0;34m\u001b[0m\u001b[0;34m\u001b[0m\u001b[0m\n",
            "\u001b[0;31mValueError\u001b[0m: Found input variables with inconsistent numbers of samples: [140, 1000]"
          ]
        }
      ]
    },
    {
      "cell_type": "code",
      "source": [],
      "metadata": {
        "id": "VcZlyEXlnwQP"
      },
      "id": "VcZlyEXlnwQP",
      "execution_count": 39,
      "outputs": []
    }
  ],
  "metadata": {
    "kernelspec": {
      "display_name": "Python 3",
      "name": "python3"
    },
    "language_info": {
      "name": "python"
    },
    "colab": {
      "provenance": [],
      "gpuType": "T4",
      "include_colab_link": true
    },
    "accelerator": "GPU"
  },
  "nbformat": 4,
  "nbformat_minor": 5
}